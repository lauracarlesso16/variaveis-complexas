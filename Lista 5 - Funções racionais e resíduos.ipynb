{
 "cells": [
  {
   "attachments": {},
   "cell_type": "markdown",
   "metadata": {},
   "source": [
    "## Lista 3 de variáveis complexas"
   ]
  },
  {
   "attachments": {},
   "cell_type": "markdown",
   "metadata": {},
   "source": [
    "<span style=\"color:blue\"> Entre com a data e seu número de matrícula abaixo. **Não tire as aspas!\"** </span>"
   ]
  },
  {
   "cell_type": "code",
   "execution_count": 46,
   "metadata": {},
   "outputs": [],
   "source": [
    "mat = '202233940099'\n",
    "dia = '26'\n",
    "mes = '05'"
   ]
  },
  {
   "cell_type": "code",
   "execution_count": 47,
   "metadata": {},
   "outputs": [],
   "source": [
    "from IPython.display import display, Math\n",
    "from sympy import I, sqrt, symbols, latex, Eq, fraction\n",
    "from numpy.random import RandomState, randint\n",
    "from numpy import arange\n",
    "import numpy as np\n",
    "import sympy as sp\n",
    "     \n",
    "s= symbols('s')\n",
    "_nn = int(mat[0:4]+mat[-2:]+dia+mes)\n",
    "_rng = RandomState(_nn)\n",
    "_M = _rng.randint(-9,10,size=(30,))\n",
    "#_M = _M[_M!=0]\n",
    "\n",
    "global nm\n",
    "nm= 0\n",
    "def pick():\n",
    "    global nm\n",
    "    nm +=1\n",
    "    return _M[nm]\n",
    "\n",
    "all_equal = lambda x: len(set(x)) <= 1\n",
    "all_diff = lambda x: len(set(x)) == len(x)\n",
    "\n",
    "def p_simples(grau):\n",
    "    c = [pick()*s**n for n in range(grau+1)]\n",
    "    return np.sum(c)\n",
    "\n",
    "def p_dis(nump):\n",
    "    P = [1]*nump\n",
    "    while not all_diff(P):\n",
    "        P = [pick() for n in range(nump)]\n",
    "    c = np.sum([pick()/(s-p) for p in P])\n",
    "    return c\n",
    "\n",
    "def p_rep(m):\n",
    "    p = pick()\n",
    "    c = [pick()/(s-p)**(n+1) for n in range(m)]\n",
    "    return np.sum(c)\n",
    "\n",
    "def p_im():\n",
    "    r,i,a,b = [pick() for n in range(4)]\n",
    "    return ((r+I*i)*(s-a-I*b)+(r-I*i)*(s-a+I*b)).expand()/\\\n",
    "                     ((s-a+I*b)*(s-a-I*b)).expand()\n",
    "\n",
    "\n",
    "def Q1():\n",
    "    L=[p_dis(2),\n",
    "       p_rep(3),\n",
    "       p_im(),\n",
    "       p_dis(1)+p_rep(2),\n",
    "       p_dis(1)+p_im(),\n",
    "       p_rep(3)+p_im()\n",
    "    ]\n",
    "    for l in L: display(l.factor()) \n"
   ]
  },
  {
   "attachments": {},
   "cell_type": "markdown",
   "metadata": {},
   "source": [
    "## 1"
   ]
  },
  {
   "attachments": {},
   "cell_type": "markdown",
   "metadata": {},
   "source": [
    "<span style=\"color:blue\">  Determine a expansão em frações parciais de cada uma das funções</span>"
   ]
  },
  {
   "cell_type": "code",
   "execution_count": 48,
   "metadata": {},
   "outputs": [
    {
     "data": {
      "text/latex": [
       "$\\displaystyle - \\frac{5 s}{\\left(s - 9\\right) \\left(s - 4\\right)}$"
      ],
      "text/plain": [
       "-5*s/((s - 9)*(s - 4))"
      ]
     },
     "metadata": {},
     "output_type": "display_data"
    },
    {
     "data": {
      "text/latex": [
       "$\\displaystyle - \\frac{\\left(s + 7\\right) \\left(5 s + 31\\right)}{\\left(s + 6\\right)^{3}}$"
      ],
      "text/plain": [
       "-(s + 7)*(5*s + 31)/(s + 6)**3"
      ]
     },
     "metadata": {},
     "output_type": "display_data"
    },
    {
     "data": {
      "text/latex": [
       "$\\displaystyle \\frac{14 \\left(s - 11\\right)}{s^{2} - 14 s + 65}$"
      ],
      "text/plain": [
       "14*(s - 11)/(s**2 - 14*s + 65)"
      ]
     },
     "metadata": {},
     "output_type": "display_data"
    },
    {
     "data": {
      "text/latex": [
       "$\\displaystyle \\frac{2 \\cdot \\left(3 s^{2} - 3 s + 1\\right)}{s^{2} \\left(s - 1\\right)}$"
      ],
      "text/plain": [
       "2*(3*s**2 - 3*s + 1)/(s**2*(s - 1))"
      ]
     },
     "metadata": {},
     "output_type": "display_data"
    },
    {
     "data": {
      "text/latex": [
       "$\\displaystyle \\frac{2 \\cdot \\left(3 s^{2} + 4 s + 44\\right)}{\\left(s - 1\\right) \\left(s^{2} - 4 s + 20\\right)}$"
      ],
      "text/plain": [
       "2*(3*s**2 + 4*s + 44)/((s - 1)*(s**2 - 4*s + 20))"
      ]
     },
     "metadata": {},
     "output_type": "display_data"
    },
    {
     "data": {
      "text/latex": [
       "$\\displaystyle - \\frac{16 s^{4} + 121 s^{3} - 76 s^{2} - 1390 s + 378}{\\left(s + 5\\right)^{3} \\left(s^{2} - 10 s + 26\\right)}$"
      ],
      "text/plain": [
       "-(16*s**4 + 121*s**3 - 76*s**2 - 1390*s + 378)/((s + 5)**3*(s**2 - 10*s + 26))"
      ]
     },
     "metadata": {},
     "output_type": "display_data"
    }
   ],
   "source": [
    "Q1()"
   ]
  }
 ],
 "metadata": {
  "kernelspec": {
   "display_name": "Python 3",
   "language": "python",
   "name": "python3"
  },
  "language_info": {
   "codemirror_mode": {
    "name": "ipython",
    "version": 3
   },
   "file_extension": ".py",
   "mimetype": "text/x-python",
   "name": "python",
   "nbconvert_exporter": "python",
   "pygments_lexer": "ipython3",
   "version": "3.11.1"
  },
  "orig_nbformat": 4
 },
 "nbformat": 4,
 "nbformat_minor": 2
}
