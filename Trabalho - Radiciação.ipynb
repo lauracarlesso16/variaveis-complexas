{
 "cells": [
  {
   "attachments": {},
   "cell_type": "markdown",
   "metadata": {},
   "source": [
    "## Trabalho de variáveis complexas"
   ]
  },
  {
   "attachments": {},
   "cell_type": "markdown",
   "metadata": {},
   "source": [
    "<span style=\"color:blue\"> Entre com a data e seu número de matrícula abaixo. **Não tire as aspas!\"** </span>"
   ]
  },
  {
   "cell_type": "code",
   "execution_count": 615,
   "metadata": {},
   "outputs": [],
   "source": [
    "mat = '202233940099'\n",
    "dia = '26'\n",
    "mes = '05'"
   ]
  },
  {
   "cell_type": "code",
   "execution_count": 616,
   "metadata": {},
   "outputs": [],
   "source": [
    "from IPython.display import display, Math\n",
    "from sympy import I, sqrt, symbols, latex, Eq, fraction\n",
    "from numpy.random import RandomState, randint\n",
    "from numpy import arange\n",
    "\n",
    "\n",
    "_nn = int(mat[0:4]+mat[-2:]+dia+mes)\n",
    "_rng = RandomState(_nn)\n",
    "s, z = symbols(['s', 'z'])\n",
    "_dig = arange(-9,10)\n",
    "_dig = _dig[_dig!=0]\n",
    "_n = randint(0,_dig.size,20)\n",
    "min = -20\n",
    "max = 20\n",
    "\n",
    "aa = arange(-20,21)\n",
    "aa = aa[aa!=0]\n",
    "bb = arange(-20,21)\n",
    "bb = bb[bb!=0]\n",
    "A = [(a+I*b)**n for a,b,n in zip(_rng.choice(aa,size=5),\n",
    "                                 _rng.choice(bb,size=5),\n",
    "                                 _rng.randint(3,10,size=5))]\n",
    "\n",
    "aa = [_rng.choice(_dig), I*_rng.choice(_dig)] + \\\n",
    "    list(_rng.randint(min,max,3) + I* _rng.randint(min,max,3))\n",
    "bb = [0, 0] + list(_rng.randint(min,max,3) + I* _rng.randint(min,max,3))\n",
    "cc = [_rng.choice(_dig)] + list(_rng.randint(min,max,4) +\n",
    "                                 I* _rng.randint(min,max,4))\n",
    "nn = [2,2,3,4,5]\n",
    "E = [Eq((a*s+b)**n+c,0) for a,b,c,n in zip(aa,bb,cc,nn)]\n",
    "\n",
    "lados = [3,4,5,6]\n",
    "z1 = _rng.randint(-100,100,size=(5,)) + \\\n",
    "    I * _rng.randint(-100,100,size=(5,))\n",
    "C = [f'{l}' + r'\\text{ lados; um vértice é: } z_1 = ' + latex(z) for l,z in zip(lados, z1)]\n",
    "\n",
    "aa = arange(-20,21)\n",
    "aa = aa[aa!=0]\n",
    "aa = _rng.choice(aa,3)\n",
    "bb = I*_rng.randint(-20,21,3)\n",
    "cc = _rng.randint(-20,21,3) + I * _rng.randint(-20,21,3)\n",
    "D = [Eq(a*s**4 + b*s**2 + c, 0) for a,b,c in zip(aa,bb,cc)]\n",
    "\n",
    "def Q1():\n",
    "    for n in range(len(A)):\n",
    "        display(Math(latex(A[n])))\n",
    "\n",
    "def Q2():\n",
    "    for n in range(len(E)): display(E[n])\n",
    "\n",
    "def Q3():    \n",
    "    for n in range(len(C)): \n",
    "        display(Math(C[n]))\n",
    "\n",
    "def Q4():    \n",
    "    for n in range(len(D)): \n",
    "        display(D[n])\n",
    "\n"
   ]
  },
  {
   "attachments": {},
   "cell_type": "markdown",
   "metadata": {},
   "source": [
    "## 1"
   ]
  },
  {
   "attachments": {},
   "cell_type": "markdown",
   "metadata": {},
   "source": [
    "<span style=\"color:blue\"> Calcule as potências. Apresente o resultado nas formas retangular e fasorial. </style>"
   ]
  },
  {
   "cell_type": "code",
   "execution_count": 617,
   "metadata": {},
   "outputs": [
    {
     "data": {
      "text/latex": [
       "$\\displaystyle \\left(-14 - 7 i\\right)^{3}$"
      ],
      "text/plain": [
       "<IPython.core.display.Math object>"
      ]
     },
     "metadata": {},
     "output_type": "display_data"
    },
    {
     "data": {
      "text/latex": [
       "$\\displaystyle \\left(-7 + 2 i\\right)^{7}$"
      ],
      "text/plain": [
       "<IPython.core.display.Math object>"
      ]
     },
     "metadata": {},
     "output_type": "display_data"
    },
    {
     "data": {
      "text/latex": [
       "$\\displaystyle \\left(5 - i\\right)^{7}$"
      ],
      "text/plain": [
       "<IPython.core.display.Math object>"
      ]
     },
     "metadata": {},
     "output_type": "display_data"
    },
    {
     "data": {
      "text/latex": [
       "$\\displaystyle \\left(-20 + 10 i\\right)^{9}$"
      ],
      "text/plain": [
       "<IPython.core.display.Math object>"
      ]
     },
     "metadata": {},
     "output_type": "display_data"
    },
    {
     "data": {
      "text/latex": [
       "$\\displaystyle \\left(1 - 17 i\\right)^{6}$"
      ],
      "text/plain": [
       "<IPython.core.display.Math object>"
      ]
     },
     "metadata": {},
     "output_type": "display_data"
    }
   ],
   "source": [
    "Q1()"
   ]
  },
  {
   "attachments": {},
   "cell_type": "markdown",
   "metadata": {},
   "source": [
    "## 2"
   ]
  },
  {
   "attachments": {},
   "cell_type": "markdown",
   "metadata": {},
   "source": [
    "<span style=\"color:blue\"> Resolva as seguintes equações utilizando radiciação complexa. Desenhe o resultado na forma de um polígono </span>"
   ]
  },
  {
   "cell_type": "code",
   "execution_count": 618,
   "metadata": {},
   "outputs": [
    {
     "data": {
      "text/latex": [
       "$\\displaystyle 36 s^{2} - 4 = 0$"
      ],
      "text/plain": [
       "Eq(36*s**2 - 4, 0)"
      ]
     },
     "metadata": {},
     "output_type": "display_data"
    },
    {
     "data": {
      "text/latex": [
       "$\\displaystyle - s^{2} - 16 + 11 i = 0$"
      ],
      "text/plain": [
       "Eq(-s**2 - 16 + 11*I, 0)"
      ]
     },
     "metadata": {},
     "output_type": "display_data"
    },
    {
     "data": {
      "text/latex": [
       "$\\displaystyle \\left(s \\left(7 + 10 i\\right) + 7 - 11 i\\right)^{3} + 15 - 14 i = 0$"
      ],
      "text/plain": [
       "Eq((s*(7 + 10*I) + 7 - 11*I)**3 + 15 - 14*I, 0)"
      ]
     },
     "metadata": {},
     "output_type": "display_data"
    },
    {
     "data": {
      "text/latex": [
       "$\\displaystyle \\left(s \\left(-4 - 4 i\\right) + 9 + 17 i\\right)^{4} + 8 + 16 i = 0$"
      ],
      "text/plain": [
       "Eq((s*(-4 - 4*I) + 9 + 17*I)**4 + 8 + 16*I, 0)"
      ]
     },
     "metadata": {},
     "output_type": "display_data"
    },
    {
     "data": {
      "text/latex": [
       "$\\displaystyle \\left(s \\left(8 - 15 i\\right) + 19 - 9 i\\right)^{5} + 16 + 13 i = 0$"
      ],
      "text/plain": [
       "Eq((s*(8 - 15*I) + 19 - 9*I)**5 + 16 + 13*I, 0)"
      ]
     },
     "metadata": {},
     "output_type": "display_data"
    }
   ],
   "source": [
    "Q2()"
   ]
  },
  {
   "attachments": {},
   "cell_type": "markdown",
   "metadata": {},
   "source": [
    "## 3"
   ]
  },
  {
   "attachments": {},
   "cell_type": "markdown",
   "metadata": {},
   "source": [
    "\n",
    "<span style=\"color:blue\"> Determine todos os vértices de cada um dos polígonos a seguir: </span>"
   ]
  },
  {
   "cell_type": "code",
   "execution_count": 619,
   "metadata": {},
   "outputs": [
    {
     "data": {
      "text/latex": [
       "$\\displaystyle 3\\text{ lados; um vértice é: } z_1 = -54 + 96 i$"
      ],
      "text/plain": [
       "<IPython.core.display.Math object>"
      ]
     },
     "metadata": {},
     "output_type": "display_data"
    },
    {
     "data": {
      "text/latex": [
       "$\\displaystyle 4\\text{ lados; um vértice é: } z_1 = 6 - 58 i$"
      ],
      "text/plain": [
       "<IPython.core.display.Math object>"
      ]
     },
     "metadata": {},
     "output_type": "display_data"
    },
    {
     "data": {
      "text/latex": [
       "$\\displaystyle 5\\text{ lados; um vértice é: } z_1 = -92 - 67 i$"
      ],
      "text/plain": [
       "<IPython.core.display.Math object>"
      ]
     },
     "metadata": {},
     "output_type": "display_data"
    },
    {
     "data": {
      "text/latex": [
       "$\\displaystyle 6\\text{ lados; um vértice é: } z_1 = 97 + 52 i$"
      ],
      "text/plain": [
       "<IPython.core.display.Math object>"
      ]
     },
     "metadata": {},
     "output_type": "display_data"
    }
   ],
   "source": [
    "Q3()"
   ]
  },
  {
   "attachments": {},
   "cell_type": "markdown",
   "metadata": {},
   "source": [
    "## 4\n",
    "\n",
    "<span style=\"color:blue\"> Resolva as equações biquadradas a seguir: </span>"
   ]
  },
  {
   "cell_type": "code",
   "execution_count": 620,
   "metadata": {},
   "outputs": [
    {
     "data": {
      "text/latex": [
       "$\\displaystyle 15 s^{4} - 7 i s^{2} - 6 i = 0$"
      ],
      "text/plain": [
       "Eq(15*s**4 - 7*I*s**2 - 6*I, 0)"
      ]
     },
     "metadata": {},
     "output_type": "display_data"
    },
    {
     "data": {
      "text/latex": [
       "$\\displaystyle - 20 s^{4} + 7 i s^{2} - 8 - 18 i = 0$"
      ],
      "text/plain": [
       "Eq(-20*s**4 + 7*I*s**2 - 8 - 18*I, 0)"
      ]
     },
     "metadata": {},
     "output_type": "display_data"
    },
    {
     "data": {
      "text/latex": [
       "$\\displaystyle - 16 s^{4} - 11 i s^{2} - 7 - 8 i = 0$"
      ],
      "text/plain": [
       "Eq(-16*s**4 - 11*I*s**2 - 7 - 8*I, 0)"
      ]
     },
     "metadata": {},
     "output_type": "display_data"
    }
   ],
   "source": [
    "Q4()"
   ]
  }
 ],
 "metadata": {
  "kernelspec": {
   "display_name": "Python 3",
   "language": "python",
   "name": "python3"
  },
  "language_info": {
   "codemirror_mode": {
    "name": "ipython",
    "version": 3
   },
   "file_extension": ".py",
   "mimetype": "text/x-python",
   "name": "python",
   "nbconvert_exporter": "python",
   "pygments_lexer": "ipython3",
   "version": "3.11.1"
  },
  "orig_nbformat": 4
 },
 "nbformat": 4,
 "nbformat_minor": 2
}
