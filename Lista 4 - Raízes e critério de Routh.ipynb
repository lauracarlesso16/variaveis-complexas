{
 "cells": [
  {
   "attachments": {},
   "cell_type": "markdown",
   "metadata": {},
   "source": [
    "## Lista 3 de variáveis complexas"
   ]
  },
  {
   "attachments": {},
   "cell_type": "markdown",
   "metadata": {},
   "source": [
    "<span style=\"color:blue\"> Entre com a data e seu número de matrícula abaixo. **Não tire as aspas!\"** </span>"
   ]
  },
  {
   "cell_type": "code",
   "execution_count": 218,
   "metadata": {},
   "outputs": [],
   "source": [
    "mat = '202233940099'\n",
    "dia = '26'\n",
    "mes = '05'"
   ]
  },
  {
   "cell_type": "code",
   "execution_count": 219,
   "metadata": {},
   "outputs": [],
   "source": [
    "from IPython.display import display, Math\n",
    "from sympy import I, sqrt, symbols, latex, Eq, fraction\n",
    "from numpy.random import RandomState, randint\n",
    "from numpy import arange\n",
    "import numpy as np\n",
    "\n",
    "_nn = int(mat[0:4]+mat[-2:]+dia+mes)\n",
    "_rng = RandomState(_nn)\n",
    "s, z = symbols(['s', 'z'])\n",
    "_dig = arange(-9,10)\n",
    "_dig = _dig[_dig!=0]\n",
    "_n = randint(0,_dig.size,20)\n",
    "min = -20\n",
    "max = 20"
   ]
  },
  {
   "attachments": {},
   "cell_type": "markdown",
   "metadata": {},
   "source": [
    "## 1"
   ]
  },
  {
   "attachments": {},
   "cell_type": "markdown",
   "metadata": {},
   "source": [
    "<span style=\"color:blue\"> Determine o polinômio geral cujas raízes são os conjuntos complexos dados. </style>"
   ]
  },
  {
   "cell_type": "code",
   "execution_count": null,
   "metadata": {},
   "outputs": [],
   "source": []
  },
  {
   "cell_type": "code",
   "execution_count": 220,
   "metadata": {},
   "outputs": [
    {
     "data": {
      "text/plain": [
       "[(-0.1-1.1j), (-0.1+1.1j), (-0.1-1.1j), (-0.1+1.1j)]"
      ]
     },
     "execution_count": 220,
     "metadata": {},
     "output_type": "execute_result"
    }
   ],
   "source": [
    "[np.round(x,1) for x in _rng.normal(0,2,3)]\n",
    "[np.round(x,1) for x in [_rng.normal()]*2+list(_rng.normal(0,2,2))]\n",
    "p = np.round(_rng.normal(0,2,2)+1j*_rng.normal(0,2,2),1)\n",
    "[np.round(x,1) for x in [p[0],  np.conjugate(p[0]), np.round(_rng.normal(0,2),1)] ]\n",
    "[np.round(x,1) for x in [p[1],  np.conjugate(p[1]), p[1],  np.conjugate(p[1])] ]"
   ]
  },
  {
   "attachments": {},
   "cell_type": "markdown",
   "metadata": {},
   "source": [
    "## 2"
   ]
  },
  {
   "attachments": {},
   "cell_type": "markdown",
   "metadata": {},
   "source": [
    "<span style=\"color:blue\"> Represente graficamente todas as raízes dos polinômios a seguir. </span>"
   ]
  },
  {
   "cell_type": "code",
   "execution_count": 221,
   "metadata": {},
   "outputs": [
    {
     "data": {
      "text/latex": [
       "$\\displaystyle \\left(s - 0.9\\right) \\left(s^{2} - 0.3 s + 0.02\\right)$"
      ],
      "text/plain": [
       "(s - 0.9)*(s**2 - 0.3*s + 0.02)"
      ]
     },
     "metadata": {},
     "output_type": "display_data"
    },
    {
     "data": {
      "text/latex": [
       "$\\displaystyle \\left(s - 2.5\\right) \\left(s - 1.6\\right) \\left(s + 1.9\\right)$"
      ],
      "text/plain": [
       "(s - 2.5)*(s - 1.6)*(s + 1.9)"
      ]
     },
     "metadata": {},
     "output_type": "display_data"
    }
   ],
   "source": [
    "import sympy as sp\n",
    "s = symbols('s')\n",
    "roll = lambda : np.round(_rng.normal(0,2),1)\n",
    "p1 = (s-roll())*sp.expand((s-roll())*(s-roll()))\n",
    "p2 = (s-roll())*(s-roll())*(s-roll())\n",
    "display(p1)\n",
    "display(p2)"
   ]
  },
  {
   "attachments": {},
   "cell_type": "markdown",
   "metadata": {},
   "source": [
    "## 3"
   ]
  },
  {
   "attachments": {},
   "cell_type": "markdown",
   "metadata": {},
   "source": [
    "<span style=\"color:blue\"> Represente graficamente as regiões a seguir. </span>"
   ]
  },
  {
   "cell_type": "code",
   "execution_count": 222,
   "metadata": {},
   "outputs": [
    {
     "data": {
      "text/latex": [
       "$\\displaystyle |z + 1.4 - 1.7 i| \\leq20.0$"
      ],
      "text/plain": [
       "<IPython.core.display.Math object>"
      ]
     },
     "metadata": {},
     "output_type": "display_data"
    },
    {
     "data": {
      "text/latex": [
       "$\\displaystyle |z - 0.8 + 2.3 i| \\geq5.0$"
      ],
      "text/plain": [
       "<IPython.core.display.Math object>"
      ]
     },
     "metadata": {},
     "output_type": "display_data"
    },
    {
     "data": {
      "text/latex": [
       "$\\displaystyle \\text{Re}\\{z + 3.0 + 1.7 i\\} \\geq-0.8$"
      ],
      "text/plain": [
       "<IPython.core.display.Math object>"
      ]
     },
     "metadata": {},
     "output_type": "display_data"
    },
    {
     "data": {
      "text/latex": [
       "$\\displaystyle \\text{Im}\\{z - 0.6 - 0.3 i\\} \\leq-1.9$"
      ],
      "text/plain": [
       "<IPython.core.display.Math object>"
      ]
     },
     "metadata": {},
     "output_type": "display_data"
    }
   ],
   "source": [
    "r = 10*abs(roll())\n",
    "c = roll() + 1j*roll()\n",
    "z = symbols('z')\n",
    "display(Math( r'|' + latex(z-c) +  r'| \\leq' + latex(r)))\n",
    "r = abs(roll())\n",
    "c = roll() + 1j*roll()\n",
    "display(Math( r'|' + latex(z-c) +  r'| \\geq' + latex(r)))\n",
    "r = (roll())\n",
    "c = roll() + 1j*roll()\n",
    "display(Math( r'\\text{Re}\\{' + latex(z-c) +  r'\\} \\geq' + latex(r)))\n",
    "r = (roll())\n",
    "c = roll() + 1j*roll()\n",
    "display(Math( r'\\text{Im}\\{' + latex(z-c) +  r'\\} \\leq' + latex(r)))\n",
    "r = (roll())\n",
    "c = roll() + 1j*roll()\n",
    "display(Math( r'\\text{Im}\\{' + latex(z-c) +  r'\\} \\leq' + latex(r)))"
   ]
  },
  {
   "attachments": {},
   "cell_type": "markdown",
   "metadata": {},
   "source": [
    "## 4"
   ]
  },
  {
   "attachments": {},
   "cell_type": "markdown",
   "metadata": {},
   "source": [
    "\n",
    "<span style=\"color:blue\"> Utilizando o critério de Routh, determine o número de raízes no semi-plano **esquerdo** de cada um dos polinômios</span>"
   ]
  },
  {
   "attachments": {},
   "cell_type": "markdown",
   "metadata": {},
   "source": [
    "## 5\n",
    "\n",
    "<span style=\"color:blue\"> Determine os intervalos ou condições do parâmetro de forma que os polinômios **não** possuam raízes no semi plano esquerdo. </span>"
   ]
  }
 ],
 "metadata": {
  "kernelspec": {
   "display_name": "Python 3",
   "language": "python",
   "name": "python3"
  },
  "language_info": {
   "codemirror_mode": {
    "name": "ipython",
    "version": 3
   },
   "file_extension": ".py",
   "mimetype": "text/x-python",
   "name": "python",
   "nbconvert_exporter": "python",
   "pygments_lexer": "ipython3",
   "version": "3.11.1"
  },
  "orig_nbformat": 4
 },
 "nbformat": 4,
 "nbformat_minor": 2
}
