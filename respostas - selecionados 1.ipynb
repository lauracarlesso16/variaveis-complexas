{
 "cells": [
  {
   "cell_type": "code",
   "execution_count": 2,
   "metadata": {},
   "outputs": [],
   "source": [
    "matricula = '200033940099'\n",
    "dia = '31'\n",
    "mes = '02'"
   ]
  },
  {
   "cell_type": "code",
   "execution_count": 3,
   "metadata": {},
   "outputs": [],
   "source": [
    "from numpy import exp, pi, round, conj, abs, angle, sqrt\n",
    "from IPython.display import display, Math\n",
    "from numpy.random import RandomState, randint\n",
    "from sympy import latex\n",
    "rad = pi/180\n",
    "grau = 180/pi\n",
    "def fase(ang):\n",
    "    return exp(1j*ang*rad)\n",
    "\n",
    "def polar(z):\n",
    "    display(Math(latex(round(abs(z),4)) + \n",
    "                 r'\\,\\phase{' + latex(round(angle(z)*grau,1)) + r'}^{\\circ}'))\n",
    "    \n",
    "def resp(z):\n",
    "    display(Math(latex(round(z,4))))\n"
   ]
  },
  {
   "cell_type": "code",
   "execution_count": 4,
   "metadata": {},
   "outputs": [],
   "source": [
    "_nn = int(matricula[0:4]+matricula[-2:]+dia+mes)\n",
    "_rng = RandomState(_nn)\n",
    "M = _rng.randint(1,101,size=(100,))\n",
    "A = _rng.randint(-180,180, size=(100,))\n",
    "R = _rng.randint(-50,50,size=(100,))\n",
    "I = _rng.randint(-50,50,size=(100,))\n",
    "\n",
    "global nm, na, nr, ni\n",
    "nm, na, nr, ni = 0,0,0,0\n",
    "\n",
    "def mod():\n",
    "    global nm\n",
    "    nm +=1\n",
    "    return M[nm]\n",
    "\n",
    "def ang():\n",
    "    global na\n",
    "    na +=1\n",
    "    return A[na]\n",
    "\n",
    "def re():\n",
    "    global nr\n",
    "    nr +=1\n",
    "    return R[nr]\n",
    "\n",
    "def im():\n",
    "    global ni\n",
    "    ni +=1\n",
    "    return I[ni]"
   ]
  },
  {
   "attachments": {},
   "cell_type": "markdown",
   "metadata": {},
   "source": [
    "## 9.8"
   ]
  },
  {
   "cell_type": "code",
   "execution_count": 5,
   "metadata": {},
   "outputs": [
    {
     "data": {
      "text/latex": [
       "$\\displaystyle \\mathtt{\\text{(0.1484+5.2374j)}}$"
      ],
      "text/plain": [
       "<IPython.core.display.Math object>"
      ]
     },
     "metadata": {},
     "output_type": "display_data"
    },
    {
     "data": {
      "text/latex": [
       "$\\displaystyle 5.2395\\,\\phase{88.4}^{\\circ}$"
      ],
      "text/plain": [
       "<IPython.core.display.Math object>"
      ]
     },
     "metadata": {},
     "output_type": "display_data"
    }
   ],
   "source": [
    "# a) \n",
    "z = 40*fase(30)/(5-8j)+1j\n",
    "resp(z)\n",
    "polar(z)\n"
   ]
  },
  {
   "cell_type": "code",
   "execution_count": 6,
   "metadata": {},
   "outputs": [
    {
     "name": "stdout",
     "output_type": "stream",
     "text": [
      "(0.1124-0.8349j)\n"
     ]
    },
    {
     "data": {
      "text/latex": [
       "$\\displaystyle 0.8425\\,\\phase{-82.3}^{\\circ}$"
      ],
      "text/plain": [
       "<IPython.core.display.Math object>"
      ]
     },
     "metadata": {},
     "output_type": "display_data"
    }
   ],
   "source": [
    "# b)\n",
    "z = (40*fase(20))/((12-4j)*(7j))+54/(-35+100j)\n",
    "print(round(z,4))\n",
    "polar(z)"
   ]
  },
  {
   "cell_type": "code",
   "execution_count": 39,
   "metadata": {},
   "outputs": [
    {
     "name": "stdout",
     "output_type": "stream",
     "text": [
      "(223.6348-56.709j)\n"
     ]
    },
    {
     "data": {
      "text/latex": [
       "$\\displaystyle 230.7129\\,\\phase{-14.2}^{\\circ}$"
      ],
      "text/plain": [
       "<IPython.core.display.Math object>"
      ]
     },
     "metadata": {},
     "output_type": "display_data"
    }
   ],
   "source": [
    "# c)\n",
    "z = 9 + 37*fase(-15)*6*fase(0.2)\n",
    "print(round(z,4))\n",
    "polar(z)"
   ]
  },
  {
   "attachments": {},
   "cell_type": "markdown",
   "metadata": {},
   "source": [
    "## 9.9"
   ]
  },
  {
   "cell_type": "code",
   "execution_count": 55,
   "metadata": {},
   "outputs": [
    {
     "name": "stdout",
     "output_type": "stream",
     "text": [
      "(-81.5095+157.8929j)\n"
     ]
    },
    {
     "data": {
      "text/latex": [
       "$\\displaystyle 177.6907\\,\\phase{117.3}^{\\circ}$"
      ],
      "text/plain": [
       "<IPython.core.display.Math object>"
      ]
     },
     "metadata": {},
     "output_type": "display_data"
    }
   ],
   "source": [
    "# a)\n",
    "z = 19.2*fase(50)*(3+8j+4*fase(32)/(5-1j))\n",
    "print(round(z,4))\n",
    "polar(z)"
   ]
  },
  {
   "cell_type": "code",
   "execution_count": 41,
   "metadata": {},
   "outputs": [
    {
     "name": "stdout",
     "output_type": "stream",
     "text": [
      "(1.0887-21.6788j)\n"
     ]
    },
    {
     "data": {
      "text/latex": [
       "$\\displaystyle 21.7061\\,\\phase{-87.1}^{\\circ}$"
      ],
      "text/plain": [
       "<IPython.core.display.Math object>"
      ]
     },
     "metadata": {},
     "output_type": "display_data"
    }
   ],
   "source": [
    "# b)\n",
    "z = 5*fase(30)*35*fase(-20)/(2+9j-(3+1j))\n",
    "print(round(z,4))\n",
    "polar(z)"
   ]
  },
  {
   "attachments": {},
   "cell_type": "markdown",
   "metadata": {},
   "source": [
    "## 9.12"
   ]
  },
  {
   "cell_type": "code",
   "execution_count": 97,
   "metadata": {},
   "outputs": [],
   "source": [
    "X = 4*fase(-60)\n",
    "Y = 30*fase(30)"
   ]
  },
  {
   "cell_type": "code",
   "execution_count": 98,
   "metadata": {},
   "outputs": [
    {
     "name": "stdout",
     "output_type": "stream",
     "text": [
      "(-111.923+46.1436j)\n"
     ]
    },
    {
     "data": {
      "text/latex": [
       "$\\displaystyle 121.062\\,\\phase{157.6}^{\\circ}$"
      ],
      "text/plain": [
       "<IPython.core.display.Math object>"
      ]
     },
     "metadata": {},
     "output_type": "display_data"
    }
   ],
   "source": [
    "# a)\n",
    "z = (X-Y)*(X)\n",
    "print(round(z,4))\n",
    "polar(z)"
   ]
  },
  {
   "cell_type": "code",
   "execution_count": 99,
   "metadata": {},
   "outputs": [
    {
     "data": {
      "text/latex": [
       "$\\displaystyle \\mathtt{\\text{(27.9808-11.5359j)}}$"
      ],
      "text/plain": [
       "<IPython.core.display.Math object>"
      ]
     },
     "metadata": {},
     "output_type": "display_data"
    },
    {
     "data": {
      "text/latex": [
       "$\\displaystyle 30.2655\\,\\phase{-22.4}^{\\circ}$"
      ],
      "text/plain": [
       "<IPython.core.display.Math object>"
      ]
     },
     "metadata": {},
     "output_type": "display_data"
    }
   ],
   "source": [
    "# b)\n",
    "z = conj(X+Y)\n",
    "#z = conj(X-Y)\n",
    "resp(z)\n",
    "polar(z)"
   ]
  },
  {
   "cell_type": "code",
   "execution_count": 100,
   "metadata": {},
   "outputs": [
    {
     "data": {
      "text/latex": [
       "$\\displaystyle \\mathtt{\\text{(1+7.5j)}}$"
      ],
      "text/plain": [
       "<IPython.core.display.Math object>"
      ]
     },
     "metadata": {},
     "output_type": "display_data"
    },
    {
     "data": {
      "text/latex": [
       "$\\displaystyle 7.5664\\,\\phase{82.4}^{\\circ}$"
      ],
      "text/plain": [
       "<IPython.core.display.Math object>"
      ]
     },
     "metadata": {},
     "output_type": "display_data"
    }
   ],
   "source": [
    "# c)\n",
    "z = (X+Y)/X\n",
    "resp(z)\n",
    "polar(z)"
   ]
  },
  {
   "attachments": {},
   "cell_type": "markdown",
   "metadata": {},
   "source": [
    "## 9.13"
   ]
  },
  {
   "cell_type": "code",
   "execution_count": 101,
   "metadata": {},
   "outputs": [
    {
     "data": {
      "text/latex": [
       "$\\displaystyle \\mathtt{\\text{(-1.4615-0.6923j)}}$"
      ],
      "text/plain": [
       "<IPython.core.display.Math object>"
      ]
     },
     "metadata": {},
     "output_type": "display_data"
    },
    {
     "data": {
      "text/latex": [
       "$\\displaystyle 1.6172\\,\\phase{-154.7}^{\\circ}$"
      ],
      "text/plain": [
       "<IPython.core.display.Math object>"
      ]
     },
     "metadata": {},
     "output_type": "display_data"
    }
   ],
   "source": [
    "# a)\n",
    "z = (3-2j-(1+6j))/((-1+2j)*(3-1j)+(2-2j))\n",
    "resp(z)\n",
    "polar(z)"
   ]
  },
  {
   "cell_type": "code",
   "execution_count": 102,
   "metadata": {},
   "outputs": [
    {
     "data": {
      "text/latex": [
       "$\\displaystyle \\mathtt{\\text{(-0.3146-0.3209j)}}$"
      ],
      "text/plain": [
       "<IPython.core.display.Math object>"
      ]
     },
     "metadata": {},
     "output_type": "display_data"
    },
    {
     "data": {
      "text/latex": [
       "$\\displaystyle 0.4494\\,\\phase{-134.4}^{\\circ}$"
      ],
      "text/plain": [
       "<IPython.core.display.Math object>"
      ]
     },
     "metadata": {},
     "output_type": "display_data"
    }
   ],
   "source": [
    "# b)\n",
    "z = (110*fase(50)+10*fase(-20)*(30-40j))/\\\n",
    "    ((60+80j)*(10*fase(20)))\n",
    "resp(z)\n",
    "polar(z)"
   ]
  },
  {
   "cell_type": "code",
   "execution_count": 103,
   "metadata": {},
   "outputs": [
    {
     "data": {
      "text/latex": [
       "$\\displaystyle \\mathtt{\\text{(75.4162-40.944j)}}$"
      ],
      "text/plain": [
       "<IPython.core.display.Math object>"
      ]
     },
     "metadata": {},
     "output_type": "display_data"
    },
    {
     "data": {
      "text/latex": [
       "$\\displaystyle 85.8139\\,\\phase{-28.5}^{\\circ}$"
      ],
      "text/plain": [
       "<IPython.core.display.Math object>"
      ]
     },
     "metadata": {},
     "output_type": "display_data"
    }
   ],
   "source": [
    "# c)\n",
    "z = ((10+5j)/(3+2j))**2 * sqrt((10+2j)*(6-5j))\n",
    "resp(z)\n",
    "polar(z)"
   ]
  },
  {
   "attachments": {},
   "cell_type": "markdown",
   "metadata": {},
   "source": [
    "## 9.14 - idêntica à 9.13 (???)"
   ]
  },
  {
   "cell_type": "code",
   "execution_count": 104,
   "metadata": {},
   "outputs": [],
   "source": [
    "# a)\n"
   ]
  },
  {
   "attachments": {},
   "cell_type": "markdown",
   "metadata": {},
   "source": [
    "## 9.15"
   ]
  },
  {
   "cell_type": "code",
   "execution_count": 105,
   "metadata": {},
   "outputs": [],
   "source": [
    "from numpy.linalg import det\n",
    "from numpy import array as matriz"
   ]
  },
  {
   "cell_type": "code",
   "execution_count": 106,
   "metadata": {},
   "outputs": [
    {
     "data": {
      "text/latex": [
       "$\\displaystyle \\mathtt{\\text{(-11-5j)}}$"
      ],
      "text/plain": [
       "<IPython.core.display.Math object>"
      ]
     },
     "metadata": {},
     "output_type": "display_data"
    },
    {
     "data": {
      "text/latex": [
       "$\\displaystyle 12.083\\,\\phase{-155.6}^{\\circ}$"
      ],
      "text/plain": [
       "<IPython.core.display.Math object>"
      ]
     },
     "metadata": {},
     "output_type": "display_data"
    }
   ],
   "source": [
    "# a)\n",
    "A = matriz([[5+3j, 1+-2j],[-2, -2+1j]])\n",
    "z = det(A)\n",
    "resp(z)\n",
    "polar(z)"
   ]
  },
  {
   "cell_type": "code",
   "execution_count": 107,
   "metadata": {},
   "outputs": [
    {
     "data": {
      "text/latex": [
       "$\\displaystyle \\mathtt{\\text{(-27.3732+34.274j)}}$"
      ],
      "text/plain": [
       "<IPython.core.display.Math object>"
      ]
     },
     "metadata": {},
     "output_type": "display_data"
    },
    {
     "data": {
      "text/latex": [
       "$\\displaystyle 43.8634\\,\\phase{128.6}^{\\circ}$"
      ],
      "text/plain": [
       "<IPython.core.display.Math object>"
      ]
     },
     "metadata": {},
     "output_type": "display_data"
    }
   ],
   "source": [
    "# b)\n",
    "A = matriz([[10*fase(-10), 3*fase(-50)],\n",
    "            [16*fase(10), 1*fase(30)]])\n",
    "z = det(A)\n",
    "resp(z)\n",
    "polar(z)"
   ]
  },
  {
   "cell_type": "code",
   "execution_count": 108,
   "metadata": {},
   "outputs": [
    {
     "data": {
      "text/latex": [
       "$\\displaystyle \\mathtt{\\text{(-32+0j)}}$"
      ],
      "text/plain": [
       "<IPython.core.display.Math object>"
      ]
     },
     "metadata": {},
     "output_type": "display_data"
    },
    {
     "data": {
      "text/latex": [
       "$\\displaystyle 32.0\\,\\phase{180.0}^{\\circ}$"
      ],
      "text/plain": [
       "<IPython.core.display.Math object>"
      ]
     },
     "metadata": {},
     "output_type": "display_data"
    }
   ],
   "source": [
    "# c)\n",
    "A = matriz([[2-1j, -1j, 5],\n",
    "            [1j, 2, -1j],\n",
    "            [3, 1j, 2+1j]])\n",
    "z = det(A)\n",
    "resp(z)\n",
    "polar(z)"
   ]
  },
  {
   "cell_type": "code",
   "execution_count": 110,
   "metadata": {},
   "outputs": [
    {
     "data": {
      "text/plain": [
       "0.7142857142857143"
      ]
     },
     "execution_count": 110,
     "metadata": {},
     "output_type": "execute_result"
    }
   ],
   "source": [
    "10/14"
   ]
  }
 ],
 "metadata": {
  "kernelspec": {
   "display_name": "Python 3",
   "language": "python",
   "name": "python3"
  },
  "language_info": {
   "codemirror_mode": {
    "name": "ipython",
    "version": 3
   },
   "file_extension": ".py",
   "mimetype": "text/x-python",
   "name": "python",
   "nbconvert_exporter": "python",
   "pygments_lexer": "ipython3",
   "version": "3.11.1"
  },
  "orig_nbformat": 4
 },
 "nbformat": 4,
 "nbformat_minor": 2
}
