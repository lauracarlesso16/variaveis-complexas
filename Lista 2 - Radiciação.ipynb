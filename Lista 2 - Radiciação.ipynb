{
 "cells": [
  {
   "attachments": {},
   "cell_type": "markdown",
   "metadata": {},
   "source": [
    "## Lista 2 de variáveis complexas"
   ]
  },
  {
   "attachments": {},
   "cell_type": "markdown",
   "metadata": {},
   "source": [
    "<span style=\"color:blue\"> Entre com a data e seu número de matrícula abaixo. **Não tire as aspas!\"** </span>"
   ]
  },
  {
   "cell_type": "code",
   "execution_count": 1,
   "metadata": {},
   "outputs": [],
   "source": [
    "mat = '202233940099'\n",
    "dia = '01'\n",
    "mes = '06'"
   ]
  },
  {
   "cell_type": "code",
   "execution_count": 2,
   "metadata": {},
   "outputs": [],
   "source": [
    "from IPython.display import display, Math\n",
    "from sympy import I, sqrt, symbols, latex, Eq, fraction\n",
    "from numpy.random import RandomState, randint\n",
    "from numpy import arange\n",
    "\n",
    "\n",
    "_nn = int(mat[0:4]+mat[-2:]+dia+mes)\n",
    "_rng = RandomState(_nn)\n",
    "s, z = symbols(['s', 'z'])\n",
    "_dig = arange(-9,10)\n",
    "_dig = _dig[_dig!=0]\n",
    "_n = randint(0,_dig.size,20)\n",
    "min = -20\n",
    "max = 20\n",
    "\n",
    "aa = arange(-20,21)\n",
    "aa = aa[aa!=0]\n",
    "bb = arange(-20,21)\n",
    "bb = bb[bb!=0]\n",
    "A = [(a+I*b)**n for a,b,n in zip(_rng.choice(aa,size=5),\n",
    "                                 _rng.choice(bb,size=5),\n",
    "                                 _rng.randint(3,10,size=5))]\n",
    "\n",
    "aa = [_rng.choice(_dig), I*_rng.choice(_dig)] + \\\n",
    "    list(_rng.randint(min,max,3) + I* _rng.randint(min,max,3))\n",
    "bb = [0, 0] + list(_rng.randint(min,max,3) + I* _rng.randint(min,max,3))\n",
    "cc = [_rng.choice(_dig)] + list(_rng.randint(min,max,4) +\n",
    "                                 I* _rng.randint(min,max,4))\n",
    "nn = [2,2,3,4,5]\n",
    "E = [Eq((a*s+b)**n+c,0) for a,b,c,n in zip(aa,bb,cc,nn)]\n",
    "\n",
    "lados = [3,4,5,6]\n",
    "z1 = _rng.randint(-100,100,size=(5,)) + \\\n",
    "    I * _rng.randint(-100,100,size=(5,))\n",
    "C = [f'{l}' + r'\\text{ lados; um vértice é: } z_1 = ' + latex(z) for l,z in zip(lados, z1)]\n",
    "\n",
    "aa = arange(-20,21)\n",
    "aa = aa[aa!=0]\n",
    "aa = _rng.choice(aa,3)\n",
    "bb = I*_rng.randint(-20,21,3)\n",
    "cc = _rng.randint(-20,21,3) + I * _rng.randint(-20,21,3)\n",
    "D = [Eq(a*s**4 + b*s**2 + c, 0) for a,b,c in zip(aa,bb,cc)]\n",
    "\n",
    "def Q1():\n",
    "    for n in range(len(A)):\n",
    "        display(Math(latex(A[n])))\n",
    "\n",
    "def Q2():\n",
    "    for n in range(len(E)): display(E[n])\n",
    "\n",
    "def Q3():    \n",
    "    for n in range(len(C)): \n",
    "        display(Math(C[n]))\n",
    "\n",
    "def Q4():    \n",
    "    for n in range(len(D)): \n",
    "        display(D[n])\n",
    "\n"
   ]
  },
  {
   "attachments": {},
   "cell_type": "markdown",
   "metadata": {},
   "source": [
    "**Orientações - Leia com atenção!**\n",
    "1. Execute o notebook inteiro com os seus dados para gerar os dados das questões. Você pode utilizar o [Colab](https://colab.research.google.com/), [Jupyter](https://jupyter.org/) ou qualquer outro editor de notebooks. \n",
    "2. Resolva todas as questões, registrando os principais passos da solução\n",
    "3. Em cada questão escolha **um e apenas um** item e introduza intencionalmente um erro na sua solução.\n",
    "4. Faça um manuscrito de apresentação das suas soluções, tanto os itens corretos quanto aqueles onde você introduziu o erro intencional. Não esqueça de anotar no manuscrito o seu nome, sua matrícula e a data que você usou para gerar as questões.\n",
    "5. Apresente as questões no manuscrito na **ordem correta** e deixe clara a **resposta final**. Quando necessário, use apenas 2 casas decimais. \n",
    "6. Escolha um colega para trocar manuscritos: você corrigirá as questões dele e ele as suas. \n",
    "7. Ao corrigir, observe apenas a resposta final, indicando apenas se está correta ou não. Caso não esteja, **circule o passo da resolução que justifica o erro**. \n",
    "8. Ao corrigir o trabalho, identifique-se no manuscrito do seu colega escrevendo: \"Corrigido por:\" e adicionando seu nome.\n",
    "9. Ao final, calcule a nota do seu colega como (arredondar na primeira casa decimal):\n",
    "$$\n",
    "\\text{Nota} = 10 \\times \\frac{\\text{Total de itens certos}}{13}\n",
    "$$\n",
    "\n",
    "\n"
   ]
  },
  {
   "attachments": {},
   "cell_type": "markdown",
   "metadata": {},
   "source": [
    "## 1"
   ]
  },
  {
   "attachments": {},
   "cell_type": "markdown",
   "metadata": {},
   "source": [
    "<span style=\"color:blue\"> Calcule as potências. Apresente o resultado nas formas retangular e fasorial. </style>"
   ]
  },
  {
   "cell_type": "code",
   "execution_count": 3,
   "metadata": {},
   "outputs": [
    {
     "data": {
      "text/latex": [
       "$\\displaystyle \\left(5 - 16 i\\right)^{7}$"
      ],
      "text/plain": [
       "<IPython.core.display.Math object>"
      ]
     },
     "metadata": {},
     "output_type": "display_data"
    },
    {
     "data": {
      "text/latex": [
       "$\\displaystyle \\left(19 + 20 i\\right)^{9}$"
      ],
      "text/plain": [
       "<IPython.core.display.Math object>"
      ]
     },
     "metadata": {},
     "output_type": "display_data"
    },
    {
     "data": {
      "text/latex": [
       "$\\displaystyle \\left(-6 + 17 i\\right)^{9}$"
      ],
      "text/plain": [
       "<IPython.core.display.Math object>"
      ]
     },
     "metadata": {},
     "output_type": "display_data"
    },
    {
     "data": {
      "text/latex": [
       "$\\displaystyle \\left(12 - 6 i\\right)^{8}$"
      ],
      "text/plain": [
       "<IPython.core.display.Math object>"
      ]
     },
     "metadata": {},
     "output_type": "display_data"
    },
    {
     "data": {
      "text/latex": [
       "$\\displaystyle \\left(4 - 6 i\\right)^{8}$"
      ],
      "text/plain": [
       "<IPython.core.display.Math object>"
      ]
     },
     "metadata": {},
     "output_type": "display_data"
    }
   ],
   "source": [
    "Q1()"
   ]
  },
  {
   "attachments": {},
   "cell_type": "markdown",
   "metadata": {},
   "source": [
    "## 2"
   ]
  },
  {
   "attachments": {},
   "cell_type": "markdown",
   "metadata": {},
   "source": [
    "<span style=\"color:blue\"> Resolva as seguintes equações utilizando radiciação complexa. Desenhe o resultado na forma de um polígono </span>"
   ]
  },
  {
   "cell_type": "code",
   "execution_count": 4,
   "metadata": {},
   "outputs": [
    {
     "data": {
      "text/latex": [
       "$\\displaystyle 36 s^{2} + 4 = 0$"
      ],
      "text/plain": [
       "Eq(36*s**2 + 4, 0)"
      ]
     },
     "metadata": {},
     "output_type": "display_data"
    },
    {
     "data": {
      "text/latex": [
       "$\\displaystyle - 36 s^{2} - 6 + 17 i = 0$"
      ],
      "text/plain": [
       "Eq(-36*s**2 - 6 + 17*I, 0)"
      ]
     },
     "metadata": {},
     "output_type": "display_data"
    },
    {
     "data": {
      "text/latex": [
       "$\\displaystyle \\left(s \\left(-11 + 12 i\\right) - 20 - 10 i\\right)^{3} - 12 - 6 i = 0$"
      ],
      "text/plain": [
       "Eq((s*(-11 + 12*I) - 20 - 10*I)**3 - 12 - 6*I, 0)"
      ]
     },
     "metadata": {},
     "output_type": "display_data"
    },
    {
     "data": {
      "text/latex": [
       "$\\displaystyle \\left(s \\left(16 - 3 i\\right) + 19 i\\right)^{4} + 2 + 7 i = 0$"
      ],
      "text/plain": [
       "Eq((s*(16 - 3*I) + 19*I)**4 + 2 + 7*I, 0)"
      ]
     },
     "metadata": {},
     "output_type": "display_data"
    },
    {
     "data": {
      "text/latex": [
       "$\\displaystyle \\left(s \\left(5 - 10 i\\right) - 6 - 7 i\\right)^{5} + 14 - 3 i = 0$"
      ],
      "text/plain": [
       "Eq((s*(5 - 10*I) - 6 - 7*I)**5 + 14 - 3*I, 0)"
      ]
     },
     "metadata": {},
     "output_type": "display_data"
    }
   ],
   "source": [
    "Q2()"
   ]
  },
  {
   "attachments": {},
   "cell_type": "markdown",
   "metadata": {},
   "source": [
    "## 3"
   ]
  },
  {
   "attachments": {},
   "cell_type": "markdown",
   "metadata": {},
   "source": [
    "\n",
    "<span style=\"color:blue\"> Determine todos os vértices de cada um dos polígonos a seguir: </span>"
   ]
  },
  {
   "cell_type": "code",
   "execution_count": 5,
   "metadata": {},
   "outputs": [
    {
     "data": {
      "text/latex": [
       "$\\displaystyle 3\\text{ lados; um vértice é: } z_1 = 51 + 95 i$"
      ],
      "text/plain": [
       "<IPython.core.display.Math object>"
      ]
     },
     "metadata": {},
     "output_type": "display_data"
    },
    {
     "data": {
      "text/latex": [
       "$\\displaystyle 4\\text{ lados; um vértice é: } z_1 = -15 - 93 i$"
      ],
      "text/plain": [
       "<IPython.core.display.Math object>"
      ]
     },
     "metadata": {},
     "output_type": "display_data"
    },
    {
     "data": {
      "text/latex": [
       "$\\displaystyle 5\\text{ lados; um vértice é: } z_1 = -35 - 67 i$"
      ],
      "text/plain": [
       "<IPython.core.display.Math object>"
      ]
     },
     "metadata": {},
     "output_type": "display_data"
    },
    {
     "data": {
      "text/latex": [
       "$\\displaystyle 6\\text{ lados; um vértice é: } z_1 = 78 + 80 i$"
      ],
      "text/plain": [
       "<IPython.core.display.Math object>"
      ]
     },
     "metadata": {},
     "output_type": "display_data"
    }
   ],
   "source": [
    "Q3()"
   ]
  },
  {
   "attachments": {},
   "cell_type": "markdown",
   "metadata": {},
   "source": [
    "## 4\n",
    "\n",
    "<span style=\"color:blue\"> Resolva as equações biquadradas a seguir: </span>"
   ]
  },
  {
   "cell_type": "code",
   "execution_count": 6,
   "metadata": {},
   "outputs": [
    {
     "data": {
      "text/latex": [
       "$\\displaystyle 11 s^{4} + 8 i s^{2} + 11 + 7 i = 0$"
      ],
      "text/plain": [
       "Eq(11*s**4 + 8*I*s**2 + 11 + 7*I, 0)"
      ]
     },
     "metadata": {},
     "output_type": "display_data"
    },
    {
     "data": {
      "text/latex": [
       "$\\displaystyle 14 s^{4} - 5 i s^{2} + 6 - 8 i = 0$"
      ],
      "text/plain": [
       "Eq(14*s**4 - 5*I*s**2 + 6 - 8*I, 0)"
      ]
     },
     "metadata": {},
     "output_type": "display_data"
    },
    {
     "data": {
      "text/latex": [
       "$\\displaystyle 17 s^{4} + 15 i s^{2} - 8 - 19 i = 0$"
      ],
      "text/plain": [
       "Eq(17*s**4 + 15*I*s**2 - 8 - 19*I, 0)"
      ]
     },
     "metadata": {},
     "output_type": "display_data"
    }
   ],
   "source": [
    "Q4()"
   ]
  }
 ],
 "metadata": {
  "kernelspec": {
   "display_name": "Python 3",
   "language": "python",
   "name": "python3"
  },
  "language_info": {
   "codemirror_mode": {
    "name": "ipython",
    "version": 3
   },
   "file_extension": ".py",
   "mimetype": "text/x-python",
   "name": "python",
   "nbconvert_exporter": "python",
   "pygments_lexer": "ipython3",
   "version": "3.11.1"
  },
  "orig_nbformat": 4
 },
 "nbformat": 4,
 "nbformat_minor": 2
}
