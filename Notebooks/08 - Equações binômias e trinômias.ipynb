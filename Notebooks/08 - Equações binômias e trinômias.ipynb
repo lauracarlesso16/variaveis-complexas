{
 "cells": [
  {
   "attachments": {},
   "cell_type": "markdown",
   "metadata": {},
   "source": [
    "# **Equações binômias e trinômias**"
   ]
  },
  {
   "attachments": {},
   "cell_type": "markdown",
   "metadata": {},
   "source": [
    "Equação binômia é toda aquela que pode ser reduzia à forma:\n",
    "\n",
    "$$\n",
    "\\begin{align}\n",
    "    ax^n + b = 0\n",
    "\\end{align}\n",
    "$$\n",
    "\n",
    "**Solução:**\n",
    "$$\n",
    "\\begin{align}\n",
    "    x= \\sqrt[n]{\\frac{-b}{a}}\n",
    "\\end{align}\n",
    "$$\n",
    "\n",
    "Aplique as regras de radiciação para encontrar todas as raízes complexas."
   ]
  },
  {
   "attachments": {},
   "cell_type": "markdown",
   "metadata": {},
   "source": [
    "Equação trinômia é toda aquela que pode ser reduzida à forma\n",
    "\n",
    "$$\n",
    "\\begin{align}\n",
    "    ax^{2n} + bx^n+c = 0\n",
    "\\end{align}\n",
    "$$\n",
    "onde $a\\neq 0$\n",
    "\n",
    "Essa é uma forma quase quadrática, que pode ser resolvida como:\n",
    "$$\n",
    "\\begin{align}\n",
    "   x^n = \\frac{-b\\pm \\sqrt{b^2-4ac}}{2a}\n",
    "\\end{align}\n",
    "$$\n",
    "\n",
    "A última forma é resolvida extraindo a raiz complexa dos dois números à direita:\n",
    "$$\n",
    "\\begin{align}\n",
    "   x = \\sqrt[n]{\\frac{-b\\pm \\sqrt{b^2-4ac}}{2a}}\n",
    "\\end{align}\n",
    "$$\n",
    "\n"
   ]
  },
  {
   "attachments": {},
   "cell_type": "markdown",
   "metadata": {},
   "source": [
    "**Exemplos**\n",
    "\n",
    "$$\n",
    "\\begin{align}\n",
    "3x^6+192 = 0\n",
    "\\end{align}\n",
    "$$\n",
    "\n",
    "Isolamos $x$:\n",
    "$$\n",
    "\\begin{align}\n",
    "x = \\sqrt[6]{-\\frac{192}{3}} = \\sqrt[6]{-64}\n",
    "\\end{align}\n",
    "$$\n",
    "\n",
    "Precisamos achar todas as raizes sextas complexas de $-64$. Como é um número real negativo: $-64 = 64 e^{j\\pi}$, então $\\rho=64$ e $\\theta=\\pi$. Vamos calcular com Python, novamente usando a fórmula de Moivre e listas."
   ]
  },
  {
   "cell_type": "code",
   "execution_count": 3,
   "metadata": {},
   "outputs": [
    {
     "data": {
      "text/latex": [
       "$\\displaystyle \\left[ 1.0 \\sqrt{3} + 1.0 i, \\  2.0 i, \\  - 1.0 \\sqrt{3} + 1.0 i, \\  - 1.0 \\sqrt{3} - 1.0 i, \\  - 2.0 i, \\  1.0 \\sqrt{3} - 1.0 i\\right]$"
      ],
      "text/plain": [
       "<IPython.core.display.Math object>"
      ]
     },
     "metadata": {},
     "output_type": "display_data"
    }
   ],
   "source": [
    "from sympy import I, Rational, sin, cos, pi, latex, sqrt\n",
    "from IPython.display import display, Math\n",
    "\n",
    "rho = 64\n",
    "theta = pi\n",
    "n = 6\n",
    "x = [rho**(1/n)*(cos((theta+2*k*pi)/n)+\n",
    "                 I*sin((theta+2*k*pi)/n)) \n",
    "                 for k in range(n)]\n",
    "display(Math(latex(x)))"
   ]
  },
  {
   "attachments": {},
   "cell_type": "markdown",
   "metadata": {},
   "source": [
    "**Exemplo:**\n",
    "\n",
    "Resolver: \n",
    "$$\\begin{align}\n",
    "    x^6+7x^3-8 = 0\n",
    "\\end{align}$$\n",
    "\n",
    "Identificamos que: $a=1$, $b=7$, $c=-8$ e $n=3$. Então:"
   ]
  },
  {
   "cell_type": "code",
   "execution_count": 7,
   "metadata": {},
   "outputs": [
    {
     "data": {
      "text/latex": [
       "$\\displaystyle x^3 = 1$"
      ],
      "text/plain": [
       "<IPython.core.display.Math object>"
      ]
     },
     "metadata": {},
     "output_type": "display_data"
    },
    {
     "data": {
      "text/latex": [
       "$\\displaystyle x^3 = -8$"
      ],
      "text/plain": [
       "<IPython.core.display.Math object>"
      ]
     },
     "metadata": {},
     "output_type": "display_data"
    }
   ],
   "source": [
    "# Define os parâmetros e resolve usando as fórmulas\n",
    "a = 1\n",
    "b = 7\n",
    "c = -8\n",
    "n = 3\n",
    "z1 = (-b+sqrt(b**2-4*a*c))/(2*a)\n",
    "z2 = (-b-sqrt(b**2-4*a*c))/(2*a)\n",
    "display(Math('x^3 = ' + latex(z1)))\n",
    "display(Math('x^3 = ' + latex(z2)))"
   ]
  },
  {
   "cell_type": "code",
   "execution_count": 12,
   "metadata": {},
   "outputs": [
    {
     "data": {
      "text/latex": [
       "$\\displaystyle \\left[ 1, \\  - \\frac{1}{2} + \\frac{\\sqrt{3} i}{2}, \\  - \\frac{1}{2} - \\frac{\\sqrt{3} i}{2}, \\  1.0 + 1.0 \\sqrt{3} i, \\  -2.0, \\  1.0 - 1.0 \\sqrt{3} i\\right]$"
      ],
      "text/plain": [
       "<IPython.core.display.Math object>"
      ]
     },
     "metadata": {},
     "output_type": "display_data"
    }
   ],
   "source": [
    "# Segunda parte da solução, agora para extrair as raízes complexas\n",
    "from sympy import arg\n",
    "\n",
    "rho = abs(z1)\n",
    "theta = arg(z1)\n",
    "x1 = [rho**(1/n)*(cos((theta+2*k*pi)/n)+I*sin((theta+2*k*pi)/n)) for k in range(n)]\n",
    "rho = abs(z2)\n",
    "theta = arg(z2)\n",
    "x2 = [rho**(1/n)*(cos((theta+2*k*pi)/n)+I*sin((theta+2*k*pi)/n)) for k in range(n)]\n",
    "\n",
    "# Mescla as duas listas\n",
    "x = x1 + x2\n",
    "display(Math(latex(x)))"
   ]
  },
  {
   "attachments": {},
   "cell_type": "markdown",
   "metadata": {},
   "source": [
    "<center> <img src=\"ex102-103.svg\" width=\"80%\"> </center>"
   ]
  },
  {
   "cell_type": "code",
   "execution_count": null,
   "metadata": {},
   "outputs": [],
   "source": []
  }
 ],
 "metadata": {
  "kernelspec": {
   "display_name": "Python 3",
   "language": "python",
   "name": "python3"
  },
  "language_info": {
   "codemirror_mode": {
    "name": "ipython",
    "version": 3
   },
   "file_extension": ".py",
   "mimetype": "text/x-python",
   "name": "python",
   "nbconvert_exporter": "python",
   "pygments_lexer": "ipython3",
   "version": "3.11.1"
  },
  "orig_nbformat": 4,
  "vscode": {
   "interpreter": {
    "hash": "e1735dd0795dce195fb98475ccf229151ed44a61fb274eb18cdb7c8302916985"
   }
  }
 },
 "nbformat": 4,
 "nbformat_minor": 2
}
