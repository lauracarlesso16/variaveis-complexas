{
 "cells": [
  {
   "attachments": {},
   "cell_type": "markdown",
   "metadata": {},
   "source": [
    "# **Divisão por binômios de 1o grau**"
   ]
  },
  {
   "attachments": {},
   "cell_type": "markdown",
   "metadata": {},
   "source": [
    "## Binômio unitário $x-a$\n",
    "\n",
    "Quando o divisor é de grau 1, o resto é de grau 0, isto é, uma constante. "
   ]
  },
  {
   "attachments": {},
   "cell_type": "markdown",
   "metadata": {},
   "source": [
    "### **Teorema do resto**\n",
    "\n",
    "O resto da divisão de um polinômio $f(x)$ por $x-a$ é $f(a)$. \n",
    "\n",
    "**Exemplo:** O resto da divisão de $f=5x^4+3x^2+11$ por $x-3$ é $f(3)=443$\n",
    "\n",
    "**Exemplo:** O resto da divisão de $f=(x+3)^7+(x-2)^2$ por $x+3$ é $f(-3)=25$\n"
   ]
  },
  {
   "attachments": {},
   "cell_type": "markdown",
   "metadata": {},
   "source": [
    "### **Teorema de D'Alembert**\n",
    "\n",
    "Um polinômio $f$ é divisível por $x-a$ se, e somente se, $a$ é raiz de $f$.\n",
    "\n",
    "**Exemplo**: $f = x^5-4x^4-3x^2+7x-1$ é divísivel por $x-1$, pois $f(1)=0$.\n",
    "\n",
    "**Exemplo**: $f = x^3-2ax^2+(a-1)x+15$ é divísivel por $x-5$ somente se $a=3$, pois assim $f(5)=135-45a=0$"
   ]
  },
  {
   "attachments": {},
   "cell_type": "markdown",
   "metadata": {},
   "source": [
    "### Algoritmo de Briot-Ruffini\n",
    "\n",
    "Serve para determinar o quociente da divisão de $f = a_0x^n+\\ldots +a_n$ por $x-a$"
   ]
  },
  {
   "attachments": {},
   "cell_type": "markdown",
   "metadata": {},
   "source": [
    "<center> <img src=\"briot-ruffini.svg\"> </center>"
   ]
  },
  {
   "attachments": {},
   "cell_type": "markdown",
   "metadata": {},
   "source": [
    "**Exemplo:** Dividir $f=2x^4-7x^2+3x-1$ por $x-3$"
   ]
  },
  {
   "cell_type": "code",
   "execution_count": 7,
   "metadata": {},
   "outputs": [
    {
     "data": {
      "text/latex": [
       "$\\displaystyle q = \\mathtt{\\text{[ 2  6 11 36]}}$"
      ],
      "text/plain": [
       "<IPython.core.display.Math object>"
      ]
     },
     "metadata": {},
     "output_type": "display_data"
    },
    {
     "data": {
      "text/latex": [
       "$\\displaystyle r = \\mathtt{\\text{107}}$"
      ],
      "text/plain": [
       "<IPython.core.display.Math object>"
      ]
     },
     "metadata": {},
     "output_type": "display_data"
    }
   ],
   "source": [
    "# Implementação em Python\n",
    "from numpy import array,zeros\n",
    "from sympy import latex\n",
    "from IPython.display import display, Math\n",
    "f = [2,0,-7,3,-1]\n",
    "a = 3\n",
    "q = zeros((len(f),),dtype=int)\n",
    "q[0] = f[0]\n",
    "for n in range(len(f)):\n",
    "    q[n] = q[n-1]*a+f[n]\n",
    "display(Math('q = ' + latex(q[0:-1])))\n",
    "display(Math('r = ' + latex(q[-1])))"
   ]
  },
  {
   "attachments": {},
   "cell_type": "markdown",
   "metadata": {},
   "source": [
    "## E se o divisor não for unitário?\n",
    "\n",
    "Supondo $g = bx-a$, procede-se assim:\n",
    "1. Divide-se $f$ por $x-\\frac{b}{a}$ usando Briot-Ruffini\n",
    "2. Divide-se o quociente resultante da parte 1 por $b$. O resultado será o quociente da divisão original. \n",
    "\n"
   ]
  },
  {
   "attachments": {},
   "cell_type": "markdown",
   "metadata": {},
   "source": [
    "<center> <img src='ex182-232.svg'> </center>\n",
    "\n",
    "<center> <img src='ex233-258.svg'> </center>"
   ]
  }
 ],
 "metadata": {
  "kernelspec": {
   "display_name": "Python 3",
   "language": "python",
   "name": "python3"
  },
  "language_info": {
   "codemirror_mode": {
    "name": "ipython",
    "version": 3
   },
   "file_extension": ".py",
   "mimetype": "text/x-python",
   "name": "python",
   "nbconvert_exporter": "python",
   "pygments_lexer": "ipython3",
   "version": "3.11.1"
  },
  "orig_nbformat": 4
 },
 "nbformat": 4,
 "nbformat_minor": 2
}
