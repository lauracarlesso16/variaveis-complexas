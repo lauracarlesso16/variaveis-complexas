{
 "cells": [
  {
   "attachments": {},
   "cell_type": "markdown",
   "metadata": {},
   "source": [
    "# Polinômios"
   ]
  },
  {
   "attachments": {},
   "cell_type": "markdown",
   "metadata": {},
   "source": [
    "## Definição\n",
    "\n",
    "Uma função polinomial na variável $x\\in \\mathbb{C}$ caracterizada pelos coeficientes $a_0, a_1, \\ldots, a_n$ é descrita como:\n",
    "$$\n",
    "\\begin{align}\n",
    "    f(x) = a_0 + a_1x + a_2 x^2 + \\ldots + a_nx^n\n",
    "\\end{align}\n",
    "$$\n",
    "\n",
    "As parcelas $a_0$, $a_1x$, $a_2x^2$, etc, são chamados de termos do polinômio.\n",
    "\n",
    "Um polinômio com um único termo é chamado **monômio**. \n",
    "\n",
    "Computacionalmente, os polinômios são geralmente descritos pelos seus coeficientes, então é importante saber extraí-los, dada uma repreentação escrita. Por exemplo:\n",
    "\n",
    "$$\n",
    "\\begin{align}\n",
    "    f(x) = 1+2x+3x^2-5x^3\n",
    "\\end{align}\n",
    "$$\n",
    "$a_0=1$, $a_1 = 2$, $a_2=3$, $a_3=-5$\n",
    "\n",
    "$$\n",
    "\\begin{align}\n",
    "    g(x) = 1+7x^4\n",
    "\\end{align}\n",
    "$$\n",
    "$a_0=1$, $a_1=a_2=a_3=0$, $a_4=7$\n",
    "\n"
   ]
  },
  {
   "attachments": {},
   "cell_type": "markdown",
   "metadata": {},
   "source": [
    "## Valor numérico e raiz\n",
    "\n",
    "O valor numérico de um polinômio $f$ no ponto $a$ é o número complexo calculado como $f(a)$ (isto é, substituindo $a$ em $x$). \n",
    "\n",
    "Se $r$ é um número complexo tal que $f(r)=0$, então chamamos $r$ de raiz do polinômio $f$. "
   ]
  },
  {
   "cell_type": "code",
   "execution_count": 17,
   "metadata": {},
   "outputs": [],
   "source": [
    "# Exemplos usando Python numérico e simbólico\n",
    "from numpy import polyval\n",
    "from sympy import symbols, latex,I\n",
    "from IPython.display import display, Math\n",
    "\n",
    "dnum = lambda s: display(Math(s))\n",
    "dsym = lambda s: display(Math(latex(s)))"
   ]
  },
  {
   "cell_type": "code",
   "execution_count": 12,
   "metadata": {},
   "outputs": [
    {
     "data": {
      "text/latex": [
       "$\\displaystyle a = [3, 1, 1, 2]$"
      ],
      "text/plain": [
       "<IPython.core.display.Math object>"
      ]
     },
     "metadata": {},
     "output_type": "display_data"
    },
    {
     "data": {
      "text/latex": [
       "$\\displaystyle f(x) = 3 x^{3} + x^{2} + x + 2$"
      ],
      "text/plain": [
       "<IPython.core.display.Math object>"
      ]
     },
     "metadata": {},
     "output_type": "display_data"
    }
   ],
   "source": [
    "# Coeficientes normalmente armazenamos em listas ou matrizes\n",
    "a = [3, 1, 1, 2]\n",
    "x = symbols('x')\n",
    "\n",
    "# Observe que no computador usamos os coeficientes na ordem inversa,  da maior para a menor potência\n",
    "f = a[-1] + a[-2]*x + a[-3]*x**2 + a[-4]*x**3\n",
    "dnum('a = ' + f'{a}')\n",
    "dnum('f(x) = ' + latex(f))\n"
   ]
  },
  {
   "cell_type": "code",
   "execution_count": 23,
   "metadata": {},
   "outputs": [
    {
     "data": {
      "text/latex": [
       "$\\displaystyle f(1+j) = (-3+9j)\\rightarrow\\text{(numérico)}$"
      ],
      "text/plain": [
       "<IPython.core.display.Math object>"
      ]
     },
     "metadata": {},
     "output_type": "display_data"
    },
    {
     "data": {
      "text/latex": [
       "$\\displaystyle f(1+i) = 3 + i + \\left(1 + i\\right)^{2} + 3 \\left(1 + i\\right)^{3}=-3 + 9 i\\rightarrow\\text{(simbólico)}$"
      ],
      "text/plain": [
       "<IPython.core.display.Math object>"
      ]
     },
     "metadata": {},
     "output_type": "display_data"
    }
   ],
   "source": [
    "# Há várias formas de calcular o valor numérico, dependendo se simbólico ou numérico\n",
    "dnum('f(1+j) = ' + f'{polyval(a,1+1j)}' + r'\\rightarrow\\text{(numérico)}')\n",
    "dnum('f(1+i) = ' + latex(f.subs(x,1+I)) + '=' + latex(f.subs(x,1+I).simplify())  + r'\\rightarrow\\text{(simbólico)}')"
   ]
  },
  {
   "cell_type": "code",
   "execution_count": 27,
   "metadata": {},
   "outputs": [
    {
     "data": {
      "text/latex": [
       "$\\displaystyle g(x) = x^{3} + 3 x^{2} + 2 x$"
      ],
      "text/plain": [
       "<IPython.core.display.Math object>"
      ]
     },
     "metadata": {},
     "output_type": "display_data"
    },
    {
     "data": {
      "text/latex": [
       "$\\displaystyle g(-2) = 0$"
      ],
      "text/plain": [
       "<IPython.core.display.Math object>"
      ]
     },
     "metadata": {},
     "output_type": "display_data"
    },
    {
     "data": {
      "text/latex": [
       "$\\displaystyle g(-1) = 0$"
      ],
      "text/plain": [
       "<IPython.core.display.Math object>"
      ]
     },
     "metadata": {},
     "output_type": "display_data"
    }
   ],
   "source": [
    "# Verificando raízes\n",
    "g = 2*x+3*x**2+x**3\n",
    "dnum('g(x) = ' + latex(g))\n",
    "dnum('g(-2) = ' + latex(g.subs(x,-2)))\n",
    "dnum('g(-1) = ' + latex(g.subs(x,-1)))"
   ]
  },
  {
   "attachments": {},
   "cell_type": "markdown",
   "metadata": {},
   "source": [
    "## Igualdade e polinômio nulo\n",
    "\n",
    "Polinômio nulo ou identicamente nulo é aquele que é zero para qualquer $x$: $f(x)=0$, $\\forall x \\in \\mathbb{C}$.\n",
    "\n",
    "Um polinômio nulo possui todos os coeficientes iguais a zero: $a_n=0$, $\\forall n$.  \n",
    "\n",
    "Dois polinômios $f$ e $g$ são idênticos se $f(x)=g(x)$, $\\forall x$. Denotamos $f(x) \\Leftrightarrow g(x)$\n",
    "\n",
    "Equivalentemente, dois polinômios são idênticos se todos os coeficientes correspondentes são idênticos.  Se:\n",
    "$$\n",
    "\\begin{align}\n",
    "    f(x) &= \\sum_{n} a_n x^n\\\\\n",
    "    g(x) &= \\sum_{n} b_n x^n\n",
    "\\end{align}\n",
    "$$\n",
    "então\n",
    "$$\n",
    "\\begin{align}\n",
    "    f(x)\\Leftrightarrow g(x) \\Rightarrow a_n = b_n \\,\\quad\\quad \\forall n\n",
    "\\end{align}\n",
    "$$"
   ]
  },
  {
   "attachments": {},
   "cell_type": "markdown",
   "metadata": {},
   "source": [
    "<center> <img src='ex104-118.svg' width='80%'> </center>"
   ]
  }
 ],
 "metadata": {
  "kernelspec": {
   "display_name": "Python 3",
   "language": "python",
   "name": "python3"
  },
  "language_info": {
   "codemirror_mode": {
    "name": "ipython",
    "version": 3
   },
   "file_extension": ".py",
   "mimetype": "text/x-python",
   "name": "python",
   "nbconvert_exporter": "python",
   "pygments_lexer": "ipython3",
   "version": "3.11.1"
  },
  "orig_nbformat": 4
 },
 "nbformat": 4,
 "nbformat_minor": 2
}
