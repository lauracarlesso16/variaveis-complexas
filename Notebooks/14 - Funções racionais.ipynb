{
 "cells": [
  {
   "attachments": {},
   "cell_type": "markdown",
   "metadata": {},
   "source": [
    "# Funções Racionais"
   ]
  },
  {
   "attachments": {},
   "cell_type": "markdown",
   "metadata": {},
   "source": [
    "## Definição\n",
    "\n",
    "$$\n",
    "\\begin{align}\n",
    "    F(s) &= \\frac{b(s)}{a(s)}\n",
    "\\end{align}\n",
    "$$\n",
    "\n",
    "$a(s)$ e $b(s)$ são polinômios, normalmente de coeficientes reais. Em geral $\\text{grau}(a)\\geq \\text{grau}(b)$. \n",
    "\n",
    "Funções racionais aparecem com frequência no estudo de circuitos elétricos, sistemas de controle e de comunicações."
   ]
  },
  {
   "attachments": {},
   "cell_type": "markdown",
   "metadata": {},
   "source": [
    "## Pólos e zeros\n",
    "\n",
    "- **Zeros** são as raízes do numerador. São os valores de $s$ que anulam a função racional. \n",
    "\n",
    "- **Pólos** ou singularidades são as raízes do denominador de uma função racional. São os valores complexos de $s$ que fazem a função irem para o infinito. Os pólos **não** fazem parte do domínio da função.\n",
    "\n",
    "Os pólos desempenham papel de destaque na descrição de uma função racional. Em aplicações de Engenharia, eles estão associados à diversas propriedades físicas de sistemas tais como estabilidade e modos de oscilação.\n",
    "\n",
    "O número de pólos define o que chamamos **ordem** de uma função racional. É basicamente o grau do denominador.\n",
    "\n",
    "Sendo os pólos raízes de um polinômio, eles podem ser:\n",
    "- Reais simples, com multiplicidade 1 \n",
    "- Imaginários simples, com multiplicidade 1. Mas como os polinômios são de coeficientes reais, estas sempre aparecem em pares conjugados.\n",
    "- Reais/Imaginários repetidos, com multiplicidade maior que 1."
   ]
  },
  {
   "attachments": {},
   "cell_type": "markdown",
   "metadata": {},
   "source": [
    "## Frações parciais\n",
    "\n",
    "Toda função racional de ordem $n$ pode ser escrita como uma soma de funções racionais de ordem menor, de tal forma que cada parcela não possui **nenhum zero**. Este tipo de soma é conhecida como expansão em fraçõs parciais (ou série de Laurent) da função racional associada.\n",
    "\n",
    "Matematicamente escrevemos:\n",
    "$$\n",
    "\\begin{align}\n",
    "    F(s) &= \\frac{b(s)}{a(s)} = \\sum_{n} Q_n(s)\n",
    "\\end{align}\n",
    "$$\n",
    "onde nenhum $Q_n(s)$ possui zeros. \n",
    "\n",
    "De um modo geral, cada parcela é da forma:\n",
    "$$\n",
    "\\begin{align}\n",
    "    Q_n(s) &= \\frac{R_n}{(s-p_n)^{m_n}}\n",
    "\\end{align}\n",
    "$$\n",
    "onde $R_n\\in \\mathbb{C}$ é uma constante chamada **resíduo**, $p_n \\in \\mathbb{C}$ é um pólo de $F(s)$ e $m_n$ é a correspondente multiplicidade deste pólo.  "
   ]
  },
  {
   "attachments": {},
   "cell_type": "markdown",
   "metadata": {},
   "source": [
    "**Exemplo**: A função racional $F(s)$ a seguir admite uma expansão em frações parciais da seguinte forma:\n",
    "\n",
    "$$\n",
    "\\begin{align}\n",
    "    F(s) &= \\frac{s^4+24s^3+65s^2+24s+16}{s^5+2s^4+17s^3+32s^2+16s} = \\frac{1}{s}-\\frac{2}{(s+1)^2}+\\frac{3j}{s+4j}-\\frac{3j}{s-4j}\n",
    "\\end{align}\n",
    "$$\n",
    "\n",
    "Neste caso, os pólos são: $s=0$, $s=-1$ (multiplicidade 2), $s=\\pm4j$.\n",
    "\n",
    "Os resíduos correspondentes são:\n",
    "- Para $s=0$ o resíduo é $1$\n",
    "- Para $s=-1$, os resíduos são $0$ e $-2$\n",
    "- Para $s=\\pm 4j$, os resíduos são $\\mp 3j$"
   ]
  },
  {
   "attachments": {},
   "cell_type": "markdown",
   "metadata": {},
   "source": [
    "É de grande importância no curso de Engenharia saber determinar uma expansão em frações parciais. Existem funções computacionais prontas que calculam rapidamente os pólos e resíduos, porém, o problema da expansão é por sua natureza mal condicionado. Isso significa que dependendo da fração que você tiver, o resultado pode ser um pouco incerto, então é preciso treinar bastante para ter sentimento de como corrigir eventuais problemas nos resultados computacionais que você obtiver.\n",
    "\n",
    "A seguir ilustramos os 3 principais casos e como calcular de forma exata os resíduos. "
   ]
  },
  {
   "attachments": {},
   "cell_type": "markdown",
   "metadata": {},
   "source": [
    "### Pólos reais simples\n",
    "\n",
    "Os resíduos associados a polos de multiplicidade 1 da fração podem ser facilmente calculados como\n",
    "$$\n",
    "\\begin{align}\n",
    "    R = \\left. F(s)(s-p)\\right|_{s=p}\n",
    "\\end{align}\n",
    "$$\n",
    "\n",
    "Na prática, a expressão acima \"remove\" o fator que contém o pólo cujo resíduo queremos calcular. Lembre-se que todo polinômio pode ser fatorado em monômios de suas raízes. Uma vez removido o fator (ele não vai estar mais presente no denominador), podemos substituir o valor do pólo na função. O resultado é uma constante cujo valor nos dá o resíduo.\n"
   ]
  },
  {
   "attachments": {},
   "cell_type": "markdown",
   "metadata": {},
   "source": [
    "\n",
    "**Exemplo:** Calcule a expansão em frações parciais de:\n",
    "$$\n",
    "\\begin{align}\n",
    "    Y(s) =\\frac{9s+1}{s(s+1)(s+5)}\n",
    "\\end{align}\n",
    "$$\n",
    "\n",
    "Note que todos os pólos são reais e simples. Note também que o denominador já está fatorado.\n",
    "\n",
    "Conhecidos os pólos, podemos estipular que a expansão vai ser:\n",
    "$$\n",
    "\\begin{align}\n",
    "    Y(s) =\\frac{R_1}{s} + \\frac{R_2}{s+1} + \\frac{R_3}{s+5}\n",
    "\\end{align}\n",
    "$$\n",
    "\n",
    "Para calcular $R_1$, removemos o fator correspondente ao seu denominador, no caso $s$ da função original e substituímos o pólo $s=0$. \n",
    "$$\n",
    "\\begin{align}\n",
    "    R_1 &= \\left.\\frac{9s+1}{(s+1)(s+5)}\\right|_{s=0} = \\frac{9\\cdot 0+1}{(0+1)(0+5)} = \\frac{1}{5} = 0.2\n",
    "\\end{align}\n",
    "$$\n",
    "\n",
    "Procedendo de forma semelhante, calculamos os outros resíduos:\n",
    "$$\n",
    "\\begin{align}\n",
    "    R_2 &= \\left.\\frac{9s+1}{s(s+5)}\\right|_{s=-1} = \\frac{9\\cdot (-1)+1}{(-1)(-1+5)} = \\frac{-8}{-4} = 2\\\\\n",
    "    R_3 &= \\left.\\frac{9s+1}{s(s+1)}\\right|_{s=-5} = \\frac{9\\cdot (-5)+1}{(-5)(-5+1)} = \\frac{-44}{20} = -2.2\n",
    "\\end{align}\n",
    "$$\n",
    "\n",
    "Logo:\n",
    "$$\n",
    "\\begin{align}\n",
    "    Y(s) =\\frac{0.2}{s} + \\frac{2}{s+1} - \\frac{2.2}{s+5}\n",
    "\\end{align}\n",
    "$$\n",
    "\n",
    "Vamos ver como fazer em Python:"
   ]
  },
  {
   "cell_type": "code",
   "execution_count": 2,
   "metadata": {},
   "outputs": [
    {
     "data": {
      "text/latex": [
       "$\\displaystyle R_1 = \\frac{1}{5}$"
      ],
      "text/plain": [
       "<IPython.core.display.Math object>"
      ]
     },
     "metadata": {},
     "output_type": "display_data"
    },
    {
     "data": {
      "text/latex": [
       "$\\displaystyle R_2 = 2$"
      ],
      "text/plain": [
       "<IPython.core.display.Math object>"
      ]
     },
     "metadata": {},
     "output_type": "display_data"
    },
    {
     "data": {
      "text/latex": [
       "$\\displaystyle R_3 = - \\frac{11}{5}=-2.2$"
      ],
      "text/plain": [
       "<IPython.core.display.Math object>"
      ]
     },
     "metadata": {},
     "output_type": "display_data"
    }
   ],
   "source": [
    "# Simbólico\n",
    "import sympy as sp\n",
    "from IPython.display import display, Math\n",
    "s = sp.symbols('s')\n",
    "Y = (9*s+1)/(s*(s+1)*(s+5))\n",
    "\n",
    "# Neste caso, basta uma avaliação em sequência dos métodos simplify() para fazer o cancelamento, e subs() para avaliar o valor numérico\n",
    "R1 = (Y*s).simplify().subs(s,0)\n",
    "display(Math('R_1 = ' + sp.latex(R1)))\n",
    "\n",
    "R2 = (Y*(s+1)).simplify().subs(s,-1)\n",
    "display(Math('R_2 = ' + sp.latex(R2)))\n",
    "\n",
    "R3 = (Y*(s+5)).simplify().subs(s,-5)\n",
    "display(Math('R_3 = ' + sp.latex(R3) + '=' + sp.latex(R3.evalf())))\n",
    "\n"
   ]
  },
  {
   "cell_type": "code",
   "execution_count": 3,
   "metadata": {},
   "outputs": [
    {
     "data": {
      "text/latex": [
       "$\\displaystyle \\text{Resíduos} = \\left[\\begin{matrix}0.2\\\\2.0\\\\-2.2\\end{matrix}\\right]$"
      ],
      "text/plain": [
       "<IPython.core.display.Math object>"
      ]
     },
     "metadata": {},
     "output_type": "display_data"
    },
    {
     "data": {
      "text/latex": [
       "$\\displaystyle \\text{Pólos} = \\left[\\begin{matrix}0\\\\-1.0\\\\-5.0\\end{matrix}\\right]$"
      ],
      "text/plain": [
       "<IPython.core.display.Math object>"
      ]
     },
     "metadata": {},
     "output_type": "display_data"
    }
   ],
   "source": [
    "# Numérico. Para isso precisamos de um pacote do scipy\n",
    "from scipy.signal import residue\n",
    "from numpy import array, poly\n",
    "\n",
    "num = array([9,1])\n",
    "den = poly([0,-1,-5])\n",
    "\n",
    "r,p,k = residue(num,den)\n",
    "\n",
    "r = sp.Matrix(r)\n",
    "p = sp.Matrix(p)\n",
    "display(Math(r'\\text{Resíduos} = ' + sp.latex(r)))\n",
    "display(Math(r'\\text{Pólos} = ' + sp.latex(p)))"
   ]
  },
  {
   "cell_type": "code",
   "execution_count": 4,
   "metadata": {},
   "outputs": [
    {
     "data": {
      "text/latex": [
       "$\\displaystyle - \\frac{11}{5 \\left(s + 5\\right)} + \\frac{2}{s + 1} + \\frac{1}{5 s}$"
      ],
      "text/plain": [
       "-11/(5*(s + 5)) + 2/(s + 1) + 1/(5*s)"
      ]
     },
     "execution_count": 4,
     "metadata": {},
     "output_type": "execute_result"
    }
   ],
   "source": [
    "sp.apart(Y)"
   ]
  },
  {
   "attachments": {},
   "cell_type": "markdown",
   "metadata": {},
   "source": [
    "### Pólos reais múltiplos\n",
    "\n",
    "Quando um pólo tem multiplicidade maior que 1, digamos $m$, ele vai gerar um número $m>1$ de termos na expansão, e um resíduo para cada um desses termos. Assim, um pólo duplo gera dois termos adicionais com dois resíduos, um polo triplo gera 3 termos e 3 resíduos, e assim por diante.\n",
    "\n",
    "De um modo geral, se o denominador de $F$ tem um fator $(s-p)^m$, então a expansão vai conter os seguintes termos:\n",
    "$$\n",
    "\\begin{align}\n",
    "    F(s) &= \\ldots +\\frac{R_0}{(s-p)^m} + \\frac{R_1}{(s-p)^{m-1}}+\\ldots +\\frac{R_{m-1}}{(s-p)} + \\ldots\n",
    "\\end{align}\n",
    "$$\n",
    "\n",
    "Observe que os termos tem denominador com fatores $s-p$ e a potência desses fatores varia de 1 até a multiplicidade $m$. É importante organizar a ordem dessas potências, se crescente ou decrescente, porque os pacotes de software disponíveis normalmente também organizam de uma forma ou de outra (normalmente decrescente). Qualquer que seja ela, é importante que você saiba como os termos estão dispostos, do contrário, na hora que escrever o resultado final, a expansão pode ser incorreta. \n",
    "\n",
    "Na ordem escrita acima, os resíduos podem ser calculados como:\n",
    "$$\n",
    "\\begin{align}\n",
    "    R_k &= \\left.\\frac{1}{k!}\\,\\frac{d^k}{ds^k}F(s)(s-p)^m\\right|_{s=p}\n",
    "\\end{align}\n",
    "$$\n",
    "\n",
    "O procedimento pode ser explicado da seguinte forma\n",
    "- Para $R_0$, elimine o fator associado ao pólo múltiplo da função e substitua o pólo no que sobrar. \n",
    "- A partir de $R_1$, aplique derivadas sucessivas na função que sobrar após a remoção do fator múltiplo.\n",
    "- Substitua $s=p$ após cada derivação sucessiva e divida o resultado pelo fatorial do número de derivadas aplicadas.  "
   ]
  },
  {
   "attachments": {},
   "cell_type": "markdown",
   "metadata": {},
   "source": [
    "**Exemplo:** Expandir\n",
    "$$\n",
    "\\begin{align}\n",
    "    F(s) &= \\frac{10s(s+9)^2}{(s+1)^4}\n",
    "\\end{align}\n",
    "$$\n",
    "\n",
    "O pólo é $s=-1$ e tem multiplicidade 4, então:\n",
    "$$\n",
    "\\begin{align}\n",
    "    F(s) &= \\frac{R_0}{(s+1)^4}+\\frac{R_1}{(s+1)^3}+\\frac{R_2}{(s+1)^2}+\\frac{R_3}{(s+1)}\n",
    "\\end{align}\n",
    "$$\n",
    "\n",
    "Começamos por $R_0$, cujo cálculo não requer derivadas:\n",
    "$$\n",
    "\\begin{align}\n",
    "    R_0 &= \\left.F(s)(s+1)^4\\right|_{s=-1} = 10(-1)(-1+9)^2 = -640\n",
    "\\end{align}\n",
    "$$\n",
    "\n",
    "A partir de agora, cada termo requer a derivada do anterior, antes de substituir $s=-1$. E no final, não esqueça de dividir pelo fatorial da ordem da derivada ($2!$ na segunda, $3!$ na terceira).\n",
    "$$\n",
    "\\begin{align}\n",
    "    R_1 &= \\left.\\frac{1}{1!}\\,\\frac{d \\left[10s(s+9)^2\\right]}{ds}\\right|_{s=-1}\\\\\n",
    "    &=\\left.10(s+9)^2+20s(s+9)\\right|_{s=-1}\\\\\n",
    "    &=10(-1+9)^2+20(-1)(-1+9) = 640-160=480\n",
    "\\end{align}\n",
    "$$\n",
    "\n",
    "Calculamos o resto com Python, mas confira o resultado manualmente."
   ]
  },
  {
   "cell_type": "code",
   "execution_count": 11,
   "metadata": {},
   "outputs": [
    {
     "data": {
      "text/latex": [
       "$\\displaystyle R_2 = 150$"
      ],
      "text/plain": [
       "<IPython.core.display.Math object>"
      ]
     },
     "metadata": {},
     "output_type": "display_data"
    },
    {
     "data": {
      "text/latex": [
       "$\\displaystyle R_3 = 10$"
      ],
      "text/plain": [
       "<IPython.core.display.Math object>"
      ]
     },
     "metadata": {},
     "output_type": "display_data"
    }
   ],
   "source": [
    "# Calculando R_2 e R_3 usando computação simbólica\n",
    "F = 10*s*(s+9)**2/(s+1)**4\n",
    "from sympy import diff, factorial\n",
    "import sympy as sp\n",
    "\n",
    "R2 = (F*(s+1)**4).simplify().diff(s,2).subs(s,-1)/factorial(2)\n",
    "R3 = (F*(s+1)**4).simplify().diff(s,3).subs(s,-1)/factorial(3)\n",
    "display(Math('R_2 = ' + sp.latex(R2)))\n",
    "display(Math('R_3 = ' + sp.latex(R3)))"
   ]
  },
  {
   "cell_type": "code",
   "execution_count": 13,
   "metadata": {},
   "outputs": [
    {
     "data": {
      "text/latex": [
       "$\\displaystyle - \\frac{1}{18} - 6 i$"
      ],
      "text/plain": [
       "-1/18 - 6*I"
      ]
     },
     "execution_count": 13,
     "metadata": {},
     "output_type": "execute_result"
    }
   ],
   "source": [
    "((36*s+1)/(s*(s+3*sp.I))).subs(s,3*sp.I)"
   ]
  },
  {
   "cell_type": "code",
   "execution_count": 22,
   "metadata": {},
   "outputs": [
    {
     "data": {
      "text/latex": [
       "$\\displaystyle -0.133 + 0.0897 i$"
      ],
      "text/plain": [
       "-0.133 + 0.0897*I"
      ]
     },
     "execution_count": 22,
     "metadata": {},
     "output_type": "execute_result"
    }
   ],
   "source": [
    "X = (9*s**2+12)/((s**2+25)*(s+1)**3)\n",
    "sp.apart(X).evalf(3)\n",
    "((9*s**2+12)/((s-5*sp.I)*(s+1)**3)).subs(s,-5*sp.I).evalf(3)"
   ]
  },
  {
   "cell_type": "code",
   "execution_count": 6,
   "metadata": {},
   "outputs": [
    {
     "data": {
      "text/latex": [
       "$\\displaystyle F(s) = \\frac{10}{s + 1} + \\frac{150}{\\left(s + 1\\right)^{2}} + \\frac{480}{\\left(s + 1\\right)^{3}} - \\frac{640}{\\left(s + 1\\right)^{4}}=\\frac{10 s \\left(s + 9\\right)^{2}}{\\left(s + 1\\right)^{4}}$"
      ],
      "text/plain": [
       "<IPython.core.display.Math object>"
      ]
     },
     "metadata": {},
     "output_type": "display_data"
    }
   ],
   "source": [
    "# Apresenta o resultado final e recalcula o original para verificar se está correto\n",
    "R0 = -640\n",
    "R1 = 480\n",
    "fracpar = R0/(s+1)**4+R1/(s+1)**3+R2/(s+1)**2+R3/(s+1)\n",
    "display(Math('F(s) = ' + sp.latex(fracpar) + '=' + sp.latex(fracpar.factor())))\n"
   ]
  },
  {
   "attachments": {},
   "cell_type": "markdown",
   "metadata": {},
   "source": [
    "A função *residue* mostrada anteriormente também é capaz de lidar com pólos repetidos. Neste caso, temos apenas que prestar atenção na ordem com que os resíduos aparecem. Observe o código abaixo e, comparando com o resultado simbólico, deduza a ordem que o resultado deve ser lido."
   ]
  },
  {
   "cell_type": "code",
   "execution_count": 7,
   "metadata": {},
   "outputs": [
    {
     "data": {
      "text/latex": [
       "$\\displaystyle \\text{Resíduos} = \\left[\\begin{matrix}10.0\\\\150.0\\\\480.0\\\\-640.0\\end{matrix}\\right]$"
      ],
      "text/plain": [
       "<IPython.core.display.Math object>"
      ]
     },
     "metadata": {},
     "output_type": "display_data"
    },
    {
     "data": {
      "text/latex": [
       "$\\displaystyle \\text{Pólos} = \\left[\\begin{matrix}-1.0\\\\-1.0\\\\-1.0\\\\-1.0\\end{matrix}\\right]$"
      ],
      "text/plain": [
       "<IPython.core.display.Math object>"
      ]
     },
     "metadata": {},
     "output_type": "display_data"
    }
   ],
   "source": [
    "# Cálculo da expansão do exemplo anterior usando função 'residue'\n",
    "num = 10*poly([0,-9,-9])\n",
    "den = poly([-1,-1,-1,-1])\n",
    "r,p,k = residue(num,den)\n",
    "p = sp.Matrix(p.round(4))\n",
    "r = sp.Matrix(r.round(4))\n",
    "display(Math(r'\\text{Resíduos} = ' + sp.latex(r)))\n",
    "display(Math(r'\\text{Pólos} = ' + sp.latex(p)))"
   ]
  },
  {
   "attachments": {},
   "cell_type": "markdown",
   "metadata": {},
   "source": [
    "### Pólos imaginários\n",
    "\n",
    "Quando os pólos são números imaginários, o cálculo dos resíduos é feito exatamente da mesma forma como o de pólos simples ou repetidos, dependendo se a raiz é simples ou múltipla. O que você deve atentar é que o resíduo resultante poderá provavelmente será imaginário também.\n",
    "\n",
    "Outro ponto a se atentar é que em problemas físicos as raízes imaginárias aparecerão sempre seus respectivos pares conjugados. Neste caso, o resíduo da raiz conjugada será simplesmente o conjugado do resíduo inicialmente calculado. Atente a isso para não fazer um cálculo desnecessário."
   ]
  },
  {
   "attachments": {},
   "cell_type": "markdown",
   "metadata": {},
   "source": [
    "**Exemplo:** Expandir\n",
    "\n",
    "$$\n",
    "\\begin{align}\n",
    "    X(s) &= \\frac{6960s^3}{(s^2+9)(s^2+6s+25)}\n",
    "\\end{align}\n",
    "$$\n",
    "\n",
    "**Solução:** Temos quatro pólos, dois pares de imaginários: $s=\\pm j3$ e $s=-3\\pm j4$.  A expansão será:\n",
    "$$\n",
    "\\begin{align}\n",
    "    X(s) &= \\frac{R_0}{s-j3}+\\frac{R_1}{s+j3}+\\frac{R_2}{s+3-j4}+\\frac{R_3}{s+3+j4}\n",
    "\\end{align}\n",
    "$$\n",
    "\n",
    "Notar que a ordem dos termos é irrelevante, porém de acordo com nossas expectativa, $R_0$ e $R_1$ formam um par conjugado, assim como $R_2$ e $R_3$. \n",
    "\n",
    "Vamos calcular tudo usando Python:"
   ]
  },
  {
   "cell_type": "code",
   "execution_count": 8,
   "metadata": {},
   "outputs": [
    {
     "data": {
      "text/latex": [
       "$\\displaystyle R_0 = - 54 \\cdot \\left(3 - 7 i\\right) \\left(3 + i\\right)=-864 + 972 i$"
      ],
      "text/plain": [
       "<IPython.core.display.Math object>"
      ]
     },
     "metadata": {},
     "output_type": "display_data"
    },
    {
     "data": {
      "text/latex": [
       "$\\displaystyle R_1 = - 54 \\cdot \\left(3 - i\\right) \\left(3 + 7 i\\right)=-864 - 972 i$"
      ],
      "text/plain": [
       "<IPython.core.display.Math object>"
      ]
     },
     "metadata": {},
     "output_type": "display_data"
    },
    {
     "data": {
      "text/latex": [
       "$\\displaystyle R_2 = - \\frac{3 i \\left(-3 - 7 i\\right) \\left(-3 - i\\right) \\left(-3 + 4 i\\right)^{3}}{2}=4344 + 1233 i$"
      ],
      "text/plain": [
       "<IPython.core.display.Math object>"
      ]
     },
     "metadata": {},
     "output_type": "display_data"
    },
    {
     "data": {
      "text/latex": [
       "$\\displaystyle R_3 = \\frac{3 i \\left(-3 - 4 i\\right)^{3} \\left(-3 + i\\right) \\left(-3 + 7 i\\right)}{2}=4344 - 1233 i$"
      ],
      "text/plain": [
       "<IPython.core.display.Math object>"
      ]
     },
     "metadata": {},
     "output_type": "display_data"
    }
   ],
   "source": [
    "# Calculamos tudo usando as expressões de pólo simples, apenas para conferir que os resultados são mesmo conjugados entre si\n",
    "from sympy import I\n",
    "X = 6960*s**3/((s**2+9)*(s**2+6*s+25)).factor(extension=[I])   # Garante a fatoração em termos de complexos para poder cancelar\n",
    "R0 = (X*(s-3*I)).subs(s,3*I)\n",
    "R1 = (X*(s+3*I)).subs(s,-3*I)\n",
    "R2 = (X*(s+3-4*I)).subs(s,-3+4*I)\n",
    "R3 = (X*(s+3+4*I)).subs(s,-3-4*I)\n",
    "display(Math('R_0 = ' + sp.latex(R0) + '=' + sp.latex(R0.simplify())))\n",
    "display(Math('R_1 = ' + sp.latex(R1) + '=' + sp.latex(R1.simplify())))\n",
    "display(Math('R_2 = ' + sp.latex(R2) + '=' + sp.latex(R2.simplify())))\n",
    "display(Math('R_3 = ' + sp.latex(R3) + '=' + sp.latex(R3.simplify())))"
   ]
  },
  {
   "cell_type": "code",
   "execution_count": 9,
   "metadata": {},
   "outputs": [
    {
     "data": {
      "text/latex": [
       "$\\displaystyle \\text{Resíduos} = \\left[\\begin{matrix}-864.0 + 972.0 i\\\\-864.0 - 972.0 i\\\\4344.0 + 1233.0 i\\\\4344.0 - 1233.0 i\\end{matrix}\\right]$"
      ],
      "text/plain": [
       "<IPython.core.display.Math object>"
      ]
     },
     "metadata": {},
     "output_type": "display_data"
    },
    {
     "data": {
      "text/latex": [
       "$\\displaystyle \\text{Pólos} = \\left[\\begin{matrix}3.0 i\\\\- 3.0 i\\\\-3.0 + 4.0 i\\\\-3.0 - 4.0 i\\end{matrix}\\right]$"
      ],
      "text/plain": [
       "<IPython.core.display.Math object>"
      ]
     },
     "metadata": {},
     "output_type": "display_data"
    }
   ],
   "source": [
    "# Cálculo numérico agora\n",
    "num = 6960*poly([0,0,0])\n",
    "den = poly([3j,-3j,-3-4j,-3+4j])\n",
    "r,p,k = residue(num,den)\n",
    "p = sp.Matrix(p.round(4))\n",
    "r = sp.Matrix(r.round(4))\n",
    "display(Math(r'\\text{Resíduos} = ' + sp.latex(r)))\n",
    "display(Math(r'\\text{Pólos} = ' + sp.latex(p)))"
   ]
  },
  {
   "attachments": {},
   "cell_type": "markdown",
   "metadata": {},
   "source": [
    "## Juntando tudo\n",
    "\n",
    "Na prática, as funções racionais com que lidamos possuem conjuntos de pólos que se encaixam em todos casos de expansão acima. No entanto, o cálculo de cada resíduo é feito conforme a multiplicidade do pólo, independente dos demais. \n",
    "\n",
    "Tente achar a expansão em frações da seguinte função:\n",
    "$$\n",
    "\\begin{align}\n",
    "    H(s) = \\frac{343(s^2+10)}{s(s+1)^2(s^2+49)}\n",
    "\\end{align}\n",
    "$$"
   ]
  },
  {
   "attachments": {},
   "cell_type": "markdown",
   "metadata": {},
   "source": [
    "## Onde os problemas acontecem?\n",
    "\n",
    "Problemas de ordem numérica costumam acontecer quando pólos e zeros da função estão próximos uns dos outros. Por exemplo: dois pólos, um em $s=-1$ e outro em $s=-0.99$ devem ser considerados distintos ou um pólo com multiplicidade 2? Isso é problemático, porque a o cálculo do resíduo difere consideravalmente entre os dois casos, e podem gerar resultados estranhos. Isso é particularmente problemático no contexto de funções racionais representativas da transformada de Laplace, um assunto muito importante em Engenharia. Quando não conseguimos distinguir entre casos de pólos simples e repetidos, os cálculos de transformada inversa de Laplace produzem resultados bastante incoerentes. "
   ]
  }
 ],
 "metadata": {
  "kernelspec": {
   "display_name": "Python 3",
   "language": "python",
   "name": "python3"
  },
  "language_info": {
   "codemirror_mode": {
    "name": "ipython",
    "version": 3
   },
   "file_extension": ".py",
   "mimetype": "text/x-python",
   "name": "python",
   "nbconvert_exporter": "python",
   "pygments_lexer": "ipython3",
   "version": "3.11.1"
  },
  "orig_nbformat": 4
 },
 "nbformat": 4,
 "nbformat_minor": 2
}
