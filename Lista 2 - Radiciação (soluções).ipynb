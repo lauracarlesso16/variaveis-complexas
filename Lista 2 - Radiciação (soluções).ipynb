{
 "cells": [
  {
   "attachments": {},
   "cell_type": "markdown",
   "metadata": {},
   "source": [
    "## Lista 2 de variáveis complexas"
   ]
  },
  {
   "attachments": {},
   "cell_type": "markdown",
   "metadata": {},
   "source": [
    "<span style=\"color:blue\"> Entre com a data e seu número de matrícula abaixo. **Não tire as aspas!\"** </span>"
   ]
  },
  {
   "cell_type": "code",
   "execution_count": 9,
   "metadata": {},
   "outputs": [],
   "source": [
    "mat = '202233940004'\n",
    "dia = '05'\n",
    "mes = '06'"
   ]
  },
  {
   "cell_type": "code",
   "execution_count": 10,
   "metadata": {},
   "outputs": [],
   "source": [
    "from IPython.display import display, Math\n",
    "from sympy import I, sqrt, symbols, latex, Eq, fraction, pi, exp,arg, Matrix, solve\n",
    "from numpy.random import RandomState, randint\n",
    "from numpy import arange, angle\n",
    "from sympy import Abs, arg\n",
    "\n",
    "rad = pi/180\n",
    "grau = 180/pi\n",
    "def fase(ang):\n",
    "    return exp(1j*ang*rad)\n",
    "\n",
    "def polar(z):\n",
    "    return latex(Abs(z).evalf(2)) + \\\n",
    "                 r'\\,\\phase{' + latex((arg(z)*grau).evalf(3)) + r'}^{\\circ}'\n",
    "    \n",
    "def resp(z):\n",
    "    display(Math(latex(round(z,4))))\n",
    "\n",
    "\n",
    "_nn = int(mat[0:4]+mat[-2:]+dia+mes)\n",
    "_rng = RandomState(_nn)\n",
    "s, z = symbols(['s', 'z'])\n",
    "_dig = arange(-9,10)\n",
    "_dig = _dig[_dig!=0]\n",
    "_n = randint(0,_dig.size,20)\n",
    "min = -20\n",
    "max = 20\n",
    "\n",
    "aa = arange(-20,21)\n",
    "aa = aa[aa!=0]\n",
    "bb = arange(-20,21)\n",
    "bb = bb[bb!=0]\n",
    "A = [(a+I*b)**n for a,b,n in zip(_rng.choice(aa,size=5),\n",
    "                                 _rng.choice(bb,size=5),\n",
    "                                 _rng.randint(3,10,size=5))]\n",
    "\n",
    "aa = [_rng.choice(_dig), I*_rng.choice(_dig)] + \\\n",
    "    list(_rng.randint(min,max,3) + I* _rng.randint(min,max,3))\n",
    "bb = [0, 0] + list(_rng.randint(min,max,3) + I* _rng.randint(min,max,3))\n",
    "cc = [_rng.choice(_dig)] + list(_rng.randint(min,max,4) +\n",
    "                                 I* _rng.randint(min,max,4))\n",
    "nn = [2,2,3,4,5]\n",
    "E = [ Eq((a*s+b)**n+c,0) for a,b,c,n in zip(aa,bb,cc,nn)]\n",
    "S2 = []\n",
    "S2_str =[]\n",
    "for a,b,c,n in zip(aa,bb,cc,nn):\n",
    "    sol = solve(s**n+c)\n",
    "    sol = Matrix([((x-b)/a).evalf(2) for x in sol])\n",
    "    str = r'\\left[\\begin{array}{c}'\n",
    "    for x in sol:\n",
    "        str += polar(x) + r'\\\\'\n",
    "    str += r'\\end{array}\\right]'\n",
    "    S2.append(sol)\n",
    "    S2_str.append(str)\n",
    "\n",
    "lados = [3,4,5,6]\n",
    "z1 = _rng.randint(-100,100,size=(5,)) + \\\n",
    "    I * _rng.randint(-100,100,size=(5,))\n",
    "C = [f'{l}' + r'\\text{ lados; um vértice é: } z_1 = ' + latex(z) for l,z in zip(lados, z1)]\n",
    "S3 = []\n",
    "S3_str = []\n",
    "for l,z in zip(lados, z1):\n",
    "    sol = solve(s**l - z**l)\n",
    "    sol = Matrix([x.evalf(4) for x in sol])\n",
    "    str = r'\\left[\\begin{array}{c}'\n",
    "    for x in sol:\n",
    "        str += polar(x) + r'\\\\'\n",
    "    str += r'\\end{array}\\right]'\n",
    "    S3.append(sol)\n",
    "    S3_str.append(str)\n",
    "\n",
    "\n",
    "aa = arange(-20,21)\n",
    "aa = aa[aa!=0]\n",
    "aa = _rng.choice(aa,3)\n",
    "bb = I*_rng.randint(-20,21,3)\n",
    "cc = _rng.randint(-20,21,3) + I * _rng.randint(-20,21,3)\n",
    "D = [Eq(a*s**4 + b*s**2 + c, 0) for a,b,c in zip(aa,bb,cc)]\n",
    "S4 = []\n",
    "S4_str = []\n",
    "for d in D:\n",
    "    sol = solve(d)\n",
    "    sol = Matrix([x.evalf(2) for x in sol])\n",
    "    str = r'\\left[\\begin{array}{c}'\n",
    "    for x in sol:\n",
    "        str += polar(x) + r'\\\\'\n",
    "    str += r'\\end{array}\\right]'\n",
    "    S4.append(sol)\n",
    "    S4_str.append(str)\n",
    "\n",
    "def Q1():\n",
    "    for n in range(len(A)):\n",
    "        display(Math(latex(A[n]) + '=' +\n",
    "                     latex((A[n].expand())) + '=' +\n",
    "                     polar(A[n]) ))\n",
    "\n",
    "def Q2():\n",
    "    for n in range(len(E)): \n",
    "        display(Math(latex(E[n]) + r'\\quad;\\quad' + \n",
    "                     latex(S2[n]) + '= ' + S2_str[n]))\n",
    "\n",
    "def Q3():    \n",
    "    for n in range(len(C)): \n",
    "        display(Math(C[n]))\n",
    "        display(Math(latex(S3[n]) + '=' + S3_str[n]))\n",
    "\n",
    "def Q4():    \n",
    "    for n in range(len(D)): \n",
    "        display(D[n])\n",
    "        display(Math(latex(S4[n]) + '=' + S4_str[n]))\n",
    "\n"
   ]
  },
  {
   "cell_type": "code",
   "execution_count": null,
   "metadata": {},
   "outputs": [],
   "source": []
  },
  {
   "attachments": {},
   "cell_type": "markdown",
   "metadata": {},
   "source": [
    "**Orientações - Leia com atenção!**\n",
    "1. Execute o notebook inteiro com os seus dados para gerar os dados das questões. Você pode utilizar o [Colab](https://colab.research.google.com/), [Jupyter](https://jupyter.org/) ou qualquer outro editor de notebooks. \n",
    "2. Resolva todas as questões, registrando os principais passos da solução\n",
    "3. Em cada questão escolha **um e apenas um** item e introduza intencionalmente um erro na sua solução.\n",
    "4. Faça um manuscrito de apresentação das suas soluções, tanto os itens corretos quanto aqueles onde você introduziu o erro intencional. Não esqueça de anotar no manuscrito o seu nome, sua matrícula e a data que você usou para gerar as questões.\n",
    "5. Apresente as questões no manuscrito na **ordem correta** e deixe clara a **resposta final**. Quando necessário, use apenas 2 casas decimais. \n",
    "6. Escolha um colega para trocar manuscritos: você corrigirá as questões dele e ele as suas. \n",
    "7. Ao corrigir, observe apenas a resposta final, indicando apenas se está correta ou não. Caso não esteja, **circule o passo da resolução que justifica o erro**. \n",
    "8. Ao corrigir o trabalho, identifique-se no manuscrito do seu colega escrevendo: \"Corrigido por:\" e adicionando seu nome.\n",
    "9. Ao final, calcule a nota do seu colega como (arredondar na primeira casa decimal):\n",
    "$$\n",
    "\\text{Nota} = 10 \\times \\frac{\\text{Total de itens certos}}{13}\n",
    "$$\n",
    "10. Ao terminar as correções, devolva ao seu colega o manuscrito e recupere o seu. \n",
    "11. Entregar até dia 07/06 pelo SIGAA como arquivo PDF (você pode scanear caso necessário, apenas certifique-se que está tudo legível). \n",
    "\n"
   ]
  },
  {
   "attachments": {},
   "cell_type": "markdown",
   "metadata": {},
   "source": [
    "## 1"
   ]
  },
  {
   "attachments": {},
   "cell_type": "markdown",
   "metadata": {},
   "source": [
    "<span style=\"color:blue\"> Calcule as potências. Apresente o resultado nas formas retangular e fasorial. </style>"
   ]
  },
  {
   "cell_type": "code",
   "execution_count": 11,
   "metadata": {},
   "outputs": [
    {
     "data": {
      "text/latex": [
       "$\\displaystyle \\left(-7 - 7 i\\right)^{8}=92236816=9.2 \\cdot 10^{7}\\,\\phase{0}^{\\circ}$"
      ],
      "text/plain": [
       "<IPython.core.display.Math object>"
      ]
     },
     "metadata": {},
     "output_type": "display_data"
    },
    {
     "data": {
      "text/latex": [
       "$\\displaystyle \\left(3 - 18 i\\right)^{6}=-20233395 - 30889188 i=3.7 \\cdot 10^{7}\\,\\phase{-123.0}^{\\circ}$"
      ],
      "text/plain": [
       "<IPython.core.display.Math object>"
      ]
     },
     "metadata": {},
     "output_type": "display_data"
    },
    {
     "data": {
      "text/latex": [
       "$\\displaystyle \\left(-10 - 17 i\\right)^{8}=-10136735759 + 20532098160 i=2.3 \\cdot 10^{10}\\,\\phase{116.0}^{\\circ}$"
      ],
      "text/plain": [
       "<IPython.core.display.Math object>"
      ]
     },
     "metadata": {},
     "output_type": "display_data"
    },
    {
     "data": {
      "text/latex": [
       "$\\displaystyle \\left(-1 + 17 i\\right)^{3}=866 - 4862 i=4.9 \\cdot 10^{3}\\,\\phase{-79.9}^{\\circ}$"
      ],
      "text/plain": [
       "<IPython.core.display.Math object>"
      ]
     },
     "metadata": {},
     "output_type": "display_data"
    },
    {
     "data": {
      "text/latex": [
       "$\\displaystyle \\left(11 - 14 i\\right)^{5}=-334829 + 1757546 i=1.8 \\cdot 10^{6}\\,\\phase{101.0}^{\\circ}$"
      ],
      "text/plain": [
       "<IPython.core.display.Math object>"
      ]
     },
     "metadata": {},
     "output_type": "display_data"
    }
   ],
   "source": [
    "Q1()"
   ]
  },
  {
   "cell_type": "code",
   "execution_count": 18,
   "metadata": {},
   "outputs": [
    {
     "data": {
      "text/plain": [
       "123"
      ]
     },
     "execution_count": 18,
     "metadata": {},
     "output_type": "execute_result"
    }
   ],
   "source": [
    "483%360"
   ]
  },
  {
   "attachments": {},
   "cell_type": "markdown",
   "metadata": {},
   "source": [
    "## 2"
   ]
  },
  {
   "attachments": {},
   "cell_type": "markdown",
   "metadata": {},
   "source": [
    "<span style=\"color:blue\"> Resolva as seguintes equações utilizando radiciação complexa. Desenhe o resultado na forma de um polígono </span>"
   ]
  },
  {
   "cell_type": "code",
   "execution_count": 13,
   "metadata": {},
   "outputs": [
    {
     "data": {
      "text/latex": [
       "$\\displaystyle 4 s^{2} - 7 = 0\\quad;\\quad\\left[\\begin{matrix}1.3\\\\-1.3\\end{matrix}\\right]= \\left[\\begin{array}{c}1.3\\,\\phase{0}^{\\circ}\\\\1.3\\,\\phase{180.0}^{\\circ}\\\\\\end{array}\\right]$"
      ],
      "text/plain": [
       "<IPython.core.display.Math object>"
      ]
     },
     "metadata": {},
     "output_type": "display_data"
    },
    {
     "data": {
      "text/latex": [
       "$\\displaystyle - 25 s^{2} + 17 - 15 i = 0\\quad;\\quad\\left[\\begin{matrix}0.89 - 0.34 i\\\\-0.89 + 0.34 i\\end{matrix}\\right]= \\left[\\begin{array}{c}0.95\\,\\phase{-20.7}^{\\circ}\\\\0.95\\,\\phase{159.0}^{\\circ}\\\\\\end{array}\\right]$"
      ],
      "text/plain": [
       "<IPython.core.display.Math object>"
      ]
     },
     "metadata": {},
     "output_type": "display_data"
    },
    {
     "data": {
      "text/latex": [
       "$\\displaystyle \\left(s \\left(-4 + 16 i\\right) - 1 - 20 i\\right)^{3} + 6 - 17 i = 0\\quad;\\quad\\left[\\begin{matrix}1.2 - 0.5 i\\\\1.0 - 0.33 i\\\\1.3 - 0.23 i\\end{matrix}\\right]= \\left[\\begin{array}{c}1.3\\,\\phase{-22.2}^{\\circ}\\\\1.1\\,\\phase{-18.3}^{\\circ}\\\\1.3\\,\\phase{-10.2}^{\\circ}\\\\\\end{array}\\right]$"
      ],
      "text/plain": [
       "<IPython.core.display.Math object>"
      ]
     },
     "metadata": {},
     "output_type": "display_data"
    },
    {
     "data": {
      "text/latex": [
       "$\\displaystyle \\left(s \\left(11 - 5 i\\right) - 16 + 10 i\\right)^{4} + 7 - 13 i = 0\\quad;\\quad\\left[\\begin{matrix}1.4 - 0.11 i\\\\1.7 - 0.3 i\\\\1.5 - 0.34 i\\\\1.6 - 0.074 i\\end{matrix}\\right]= \\left[\\begin{array}{c}1.4\\,\\phase{-4.45}^{\\circ}\\\\1.7\\,\\phase{-10.1}^{\\circ}\\\\1.5\\,\\phase{-13.1}^{\\circ}\\\\1.6\\,\\phase{-2.59}^{\\circ}\\\\\\end{array}\\right]$"
      ],
      "text/plain": [
       "<IPython.core.display.Math object>"
      ]
     },
     "metadata": {},
     "output_type": "display_data"
    },
    {
     "data": {
      "text/latex": [
       "$\\displaystyle \\left(s \\left(5 - 8 i\\right) + 10 - 3 i\\right)^{5} - 5 - 13 i = 0\\quad;\\quad\\left[\\begin{matrix}-0.78 - 0.56 i\\\\-0.98 - 0.62 i\\\\-0.65 - 0.73 i\\\\-0.98 - 0.83 i\\\\-0.78 - 0.9 i\\end{matrix}\\right]= \\left[\\begin{array}{c}0.96\\,\\phase{-144.0}^{\\circ}\\\\1.2\\,\\phase{-147.0}^{\\circ}\\\\0.98\\,\\phase{-132.0}^{\\circ}\\\\1.3\\,\\phase{-140.0}^{\\circ}\\\\1.2\\,\\phase{-131.0}^{\\circ}\\\\\\end{array}\\right]$"
      ],
      "text/plain": [
       "<IPython.core.display.Math object>"
      ]
     },
     "metadata": {},
     "output_type": "display_data"
    }
   ],
   "source": [
    "Q2()"
   ]
  },
  {
   "attachments": {},
   "cell_type": "markdown",
   "metadata": {},
   "source": [
    "## 3"
   ]
  },
  {
   "attachments": {},
   "cell_type": "markdown",
   "metadata": {},
   "source": [
    "\n",
    "<span style=\"color:blue\"> Determine todos os vértices de cada um dos polígonos a seguir: </span>"
   ]
  },
  {
   "cell_type": "code",
   "execution_count": 14,
   "metadata": {},
   "outputs": [
    {
     "data": {
      "text/latex": [
       "$\\displaystyle 3\\text{ lados; um vértice é: } z_1 = -47 - 13 i$"
      ],
      "text/plain": [
       "<IPython.core.display.Math object>"
      ]
     },
     "metadata": {},
     "output_type": "display_data"
    },
    {
     "data": {
      "text/latex": [
       "$\\displaystyle \\left[\\begin{matrix}34.76 - 34.2 i\\\\12.24 + 47.2 i\\\\-47.0 - 13.0 i\\end{matrix}\\right]=\\left[\\begin{array}{c}49.0\\,\\phase{-44.5}^{\\circ}\\\\49.0\\,\\phase{75.5}^{\\circ}\\\\49.0\\,\\phase{-165.0}^{\\circ}\\\\\\end{array}\\right]$"
      ],
      "text/plain": [
       "<IPython.core.display.Math object>"
      ]
     },
     "metadata": {},
     "output_type": "display_data"
    },
    {
     "data": {
      "text/latex": [
       "$\\displaystyle 4\\text{ lados; um vértice é: } z_1 = -51 - 20 i$"
      ],
      "text/plain": [
       "<IPython.core.display.Math object>"
      ]
     },
     "metadata": {},
     "output_type": "display_data"
    },
    {
     "data": {
      "text/latex": [
       "$\\displaystyle \\left[\\begin{matrix}-20.0 + 51.0 i\\\\20.0 - 51.0 i\\\\-51.0 - 20.0 i\\\\51.0 + 20.0 i\\end{matrix}\\right]=\\left[\\begin{array}{c}55.0\\,\\phase{111.0}^{\\circ}\\\\55.0\\,\\phase{-68.6}^{\\circ}\\\\55.0\\,\\phase{-159.0}^{\\circ}\\\\55.0\\,\\phase{21.4}^{\\circ}\\\\\\end{array}\\right]$"
      ],
      "text/plain": [
       "<IPython.core.display.Math object>"
      ]
     },
     "metadata": {},
     "output_type": "display_data"
    },
    {
     "data": {
      "text/latex": [
       "$\\displaystyle 5\\text{ lados; um vértice é: } z_1 = 1 + 71 i$"
      ],
      "text/plain": [
       "<IPython.core.display.Math object>"
      ]
     },
     "metadata": {},
     "output_type": "display_data"
    },
    {
     "data": {
      "text/latex": [
       "$\\displaystyle \\left[\\begin{matrix}67.83 + 20.99 i\\\\-67.22 + 22.89 i\\\\-42.54 - 56.85 i\\\\40.92 - 58.03 i\\\\1.0 + 71.0 i\\end{matrix}\\right]=\\left[\\begin{array}{c}71.0\\,\\phase{17.2}^{\\circ}\\\\71.0\\,\\phase{161.0}^{\\circ}\\\\71.0\\,\\phase{-127.0}^{\\circ}\\\\71.0\\,\\phase{-54.8}^{\\circ}\\\\71.0\\,\\phase{89.2}^{\\circ}\\\\\\end{array}\\right]$"
      ],
      "text/plain": [
       "<IPython.core.display.Math object>"
      ]
     },
     "metadata": {},
     "output_type": "display_data"
    },
    {
     "data": {
      "text/latex": [
       "$\\displaystyle 6\\text{ lados; um vértice é: } z_1 = -18 + 98 i$"
      ],
      "text/plain": [
       "<IPython.core.display.Math object>"
      ]
     },
     "metadata": {},
     "output_type": "display_data"
    },
    {
     "data": {
      "text/latex": [
       "$\\displaystyle \\left[\\begin{matrix}-93.87 + 33.41 i\\\\93.87 - 33.41 i\\\\-75.87 - 64.59 i\\\\-18.0 + 98.0 i\\\\18.0 - 98.0 i\\\\75.87 + 64.59 i\\end{matrix}\\right]=\\left[\\begin{array}{c}1.0 \\cdot 10^{2}\\,\\phase{160.0}^{\\circ}\\\\1.0 \\cdot 10^{2}\\,\\phase{-19.6}^{\\circ}\\\\1.0 \\cdot 10^{2}\\,\\phase{-140.0}^{\\circ}\\\\1.0 \\cdot 10^{2}\\,\\phase{100.0}^{\\circ}\\\\1.0 \\cdot 10^{2}\\,\\phase{-79.6}^{\\circ}\\\\1.0 \\cdot 10^{2}\\,\\phase{40.4}^{\\circ}\\\\\\end{array}\\right]$"
      ],
      "text/plain": [
       "<IPython.core.display.Math object>"
      ]
     },
     "metadata": {},
     "output_type": "display_data"
    }
   ],
   "source": [
    "Q3()"
   ]
  },
  {
   "attachments": {},
   "cell_type": "markdown",
   "metadata": {},
   "source": [
    "## 4\n",
    "\n",
    "<span style=\"color:blue\"> Resolva as equações biquadradas a seguir: </span>"
   ]
  },
  {
   "cell_type": "code",
   "execution_count": 15,
   "metadata": {},
   "outputs": [
    {
     "data": {
      "text/latex": [
       "$\\displaystyle 11 s^{4} - 14 i s^{2} - 12 + 19 i = 0$"
      ],
      "text/plain": [
       "Eq(11*s**4 - 14*I*s**2 - 12 + 19*I, 0)"
      ]
     },
     "metadata": {},
     "output_type": "display_data"
    },
    {
     "data": {
      "text/latex": [
       "$\\displaystyle \\left[\\begin{matrix}-0.58 - 1.2 i\\\\0.58 + 1.2 i\\\\-1.1 + 0.061 i\\\\1.1 - 0.061 i\\end{matrix}\\right]=\\left[\\begin{array}{c}1.3\\,\\phase{-116.0}^{\\circ}\\\\1.3\\,\\phase{64.4}^{\\circ}\\\\1.1\\,\\phase{177.0}^{\\circ}\\\\1.1\\,\\phase{-3.27}^{\\circ}\\\\\\end{array}\\right]$"
      ],
      "text/plain": [
       "<IPython.core.display.Math object>"
      ]
     },
     "metadata": {},
     "output_type": "display_data"
    },
    {
     "data": {
      "text/latex": [
       "$\\displaystyle - 17 s^{4} + 10 i s^{2} + 11 - 4 i = 0$"
      ],
      "text/plain": [
       "Eq(-17*s**4 + 10*I*s**2 + 11 - 4*I, 0)"
      ]
     },
     "metadata": {},
     "output_type": "display_data"
    },
    {
     "data": {
      "text/latex": [
       "$\\displaystyle \\left[\\begin{matrix}-0.25 - 0.91 i\\\\0.25 + 0.91 i\\\\-0.88 - 0.08 i\\\\0.88 + 0.08 i\\end{matrix}\\right]=\\left[\\begin{array}{c}0.94\\,\\phase{-105.0}^{\\circ}\\\\0.94\\,\\phase{74.7}^{\\circ}\\\\0.88\\,\\phase{-175.0}^{\\circ}\\\\0.88\\,\\phase{5.19}^{\\circ}\\\\\\end{array}\\right]$"
      ],
      "text/plain": [
       "<IPython.core.display.Math object>"
      ]
     },
     "metadata": {},
     "output_type": "display_data"
    },
    {
     "data": {
      "text/latex": [
       "$\\displaystyle - 5 s^{4} - 17 i s^{2} + 18 + 11 i = 0$"
      ],
      "text/plain": [
       "Eq(-5*s**4 - 17*I*s**2 + 18 + 11*I, 0)"
      ]
     },
     "metadata": {},
     "output_type": "display_data"
    },
    {
     "data": {
      "text/latex": [
       "$\\displaystyle \\left[\\begin{matrix}-0.91 + 1.4 i\\\\0.91 - 1.4 i\\\\-1.2 + 0.35 i\\\\1.2 - 0.35 i\\end{matrix}\\right]=\\left[\\begin{array}{c}1.7\\,\\phase{122.0}^{\\circ}\\\\1.7\\,\\phase{-57.6}^{\\circ}\\\\1.2\\,\\phase{163.0}^{\\circ}\\\\1.2\\,\\phase{-16.6}^{\\circ}\\\\\\end{array}\\right]$"
      ],
      "text/plain": [
       "<IPython.core.display.Math object>"
      ]
     },
     "metadata": {},
     "output_type": "display_data"
    }
   ],
   "source": [
    "Q4()"
   ]
  },
  {
   "cell_type": "code",
   "execution_count": 16,
   "metadata": {},
   "outputs": [
    {
     "data": {
      "text/plain": [
       "0.46153846153846156"
      ]
     },
     "execution_count": 16,
     "metadata": {},
     "output_type": "execute_result"
    }
   ],
   "source": [
    "6/13"
   ]
  }
 ],
 "metadata": {
  "kernelspec": {
   "display_name": "Python 3",
   "language": "python",
   "name": "python3"
  },
  "language_info": {
   "codemirror_mode": {
    "name": "ipython",
    "version": 3
   },
   "file_extension": ".py",
   "mimetype": "text/x-python",
   "name": "python",
   "nbconvert_exporter": "python",
   "pygments_lexer": "ipython3",
   "version": "3.11.1"
  },
  "orig_nbformat": 4
 },
 "nbformat": 4,
 "nbformat_minor": 2
}
