{
 "cells": [
  {
   "attachments": {},
   "cell_type": "markdown",
   "metadata": {},
   "source": [
    "## Lista 2 de variáveis complexas"
   ]
  },
  {
   "attachments": {},
   "cell_type": "markdown",
   "metadata": {},
   "source": [
    "<span style=\"color:blue\"> Entre com a data e seu número de matrícula abaixo. **Não tire as aspas!\"** </span>"
   ]
  },
  {
   "cell_type": "code",
   "execution_count": 173,
   "metadata": {},
   "outputs": [],
   "source": [
    "mat = '202233940021'\n",
    "dia = '04'\n",
    "mes = '06'"
   ]
  },
  {
   "cell_type": "code",
   "execution_count": 174,
   "metadata": {},
   "outputs": [],
   "source": [
    "from IPython.display import display, Math\n",
    "from sympy import I, sqrt, symbols, latex, Eq, fraction, pi, exp,arg, Matrix, solve\n",
    "from numpy.random import RandomState, randint\n",
    "from numpy import arange, angle\n",
    "from sympy import Abs, arg\n",
    "\n",
    "rad = pi/180\n",
    "grau = 180/pi\n",
    "def fase(ang):\n",
    "    return exp(1j*ang*rad)\n",
    "\n",
    "def polar(z):\n",
    "    return latex(Abs(z).evalf(2)) + \\\n",
    "                 r'\\,\\phase{' + latex((arg(z)*grau).evalf(3)) + r'}^{\\circ}'\n",
    "    \n",
    "def resp(z):\n",
    "    display(Math(latex(round(z,4))))\n",
    "\n",
    "\n",
    "_nn = int(mat[0:4]+mat[-2:]+dia+mes)\n",
    "_rng = RandomState(_nn)\n",
    "s, z = symbols(['s', 'z'])\n",
    "_dig = arange(-9,10)\n",
    "_dig = _dig[_dig!=0]\n",
    "_n = randint(0,_dig.size,20)\n",
    "min = -20\n",
    "max = 20\n",
    "\n",
    "aa = arange(-20,21)\n",
    "aa = aa[aa!=0]\n",
    "bb = arange(-20,21)\n",
    "bb = bb[bb!=0]\n",
    "A = [(a+I*b)**n for a,b,n in zip(_rng.choice(aa,size=5),\n",
    "                                 _rng.choice(bb,size=5),\n",
    "                                 _rng.randint(3,10,size=5))]\n",
    "\n",
    "aa = [_rng.choice(_dig), I*_rng.choice(_dig)] + \\\n",
    "    list(_rng.randint(min,max,3) + I* _rng.randint(min,max,3))\n",
    "bb = [0, 0] + list(_rng.randint(min,max,3) + I* _rng.randint(min,max,3))\n",
    "cc = [_rng.choice(_dig)] + list(_rng.randint(min,max,4) +\n",
    "                                 I* _rng.randint(min,max,4))\n",
    "nn = [2,2,3,4,5]\n",
    "E = [ Eq((a*s+b)**n+c,0) for a,b,c,n in zip(aa,bb,cc,nn)]\n",
    "S2 = []\n",
    "S2_str =[]\n",
    "for a,b,c,n in zip(aa,bb,cc,nn):\n",
    "    sol = solve(s**n+c)\n",
    "    sol = Matrix([((x-b)/a).evalf(2) for x in sol])\n",
    "    str = r'\\left[\\begin{array}{c}'\n",
    "    for x in sol:\n",
    "        str += polar(x) + r'\\\\'\n",
    "    str += r'\\end{array}\\right]'\n",
    "    S2.append(sol)\n",
    "    S2_str.append(str)\n",
    "\n",
    "lados = [3,4,5,6]\n",
    "z1 = _rng.randint(-100,100,size=(5,)) + \\\n",
    "    I * _rng.randint(-100,100,size=(5,))\n",
    "C = [f'{l}' + r'\\text{ lados; um vértice é: } z_1 = ' + latex(z) for l,z in zip(lados, z1)]\n",
    "S3 = []\n",
    "S3_str = []\n",
    "for l,z in zip(lados, z1):\n",
    "    sol = solve(s**l - z**l)\n",
    "    sol = Matrix([x.evalf(4) for x in sol])\n",
    "    str = r'\\left[\\begin{array}{c}'\n",
    "    for x in sol:\n",
    "        str += polar(x) + r'\\\\'\n",
    "    str += r'\\end{array}\\right]'\n",
    "    S3.append(sol)\n",
    "    S3_str.append(str)\n",
    "\n",
    "\n",
    "aa = arange(-20,21)\n",
    "aa = aa[aa!=0]\n",
    "aa = _rng.choice(aa,3)\n",
    "bb = I*_rng.randint(-20,21,3)\n",
    "cc = _rng.randint(-20,21,3) + I * _rng.randint(-20,21,3)\n",
    "D = [Eq(a*s**4 + b*s**2 + c, 0) for a,b,c in zip(aa,bb,cc)]\n",
    "S4 = []\n",
    "S4_str = []\n",
    "for d in D:\n",
    "    sol = solve(d)\n",
    "    sol = Matrix([x.evalf(2) for x in sol])\n",
    "    str = r'\\left[\\begin{array}{c}'\n",
    "    for x in sol:\n",
    "        str += polar(x) + r'\\\\'\n",
    "    str += r'\\end{array}\\right]'\n",
    "    S4.append(sol)\n",
    "    S4_str.append(str)\n",
    "\n",
    "def Q1():\n",
    "    for n in range(len(A)):\n",
    "        display(Math(latex(A[n]) + '=' +\n",
    "                     latex((A[n].expand())) + '=' +\n",
    "                     polar(A[n]) ))\n",
    "\n",
    "def Q2():\n",
    "    for n in range(len(E)): \n",
    "        display(Math(latex(E[n]) + r'\\quad;\\quad' + \n",
    "                     latex(S2[n]) + '= ' + S2_str[n]))\n",
    "\n",
    "def Q3():    \n",
    "    for n in range(len(C)): \n",
    "        display(Math(C[n]))\n",
    "        display(Math(latex(S3[n]) + '=' + S3_str[n]))\n",
    "\n",
    "def Q4():    \n",
    "    for n in range(len(D)): \n",
    "        display(D[n])\n",
    "        display(Math(latex(S4[n]) + '=' + S4_str[n]))\n",
    "\n"
   ]
  },
  {
   "cell_type": "code",
   "execution_count": null,
   "metadata": {},
   "outputs": [],
   "source": []
  },
  {
   "attachments": {},
   "cell_type": "markdown",
   "metadata": {},
   "source": [
    "**Orientações - Leia com atenção!**\n",
    "1. Execute o notebook inteiro com os seus dados para gerar os dados das questões. Você pode utilizar o [Colab](https://colab.research.google.com/), [Jupyter](https://jupyter.org/) ou qualquer outro editor de notebooks. \n",
    "2. Resolva todas as questões, registrando os principais passos da solução\n",
    "3. Em cada questão escolha **um e apenas um** item e introduza intencionalmente um erro na sua solução.\n",
    "4. Faça um manuscrito de apresentação das suas soluções, tanto os itens corretos quanto aqueles onde você introduziu o erro intencional. Não esqueça de anotar no manuscrito o seu nome, sua matrícula e a data que você usou para gerar as questões.\n",
    "5. Apresente as questões no manuscrito na **ordem correta** e deixe clara a **resposta final**. Quando necessário, use apenas 2 casas decimais. \n",
    "6. Escolha um colega para trocar manuscritos: você corrigirá as questões dele e ele as suas. \n",
    "7. Ao corrigir, observe apenas a resposta final, indicando apenas se está correta ou não. Caso não esteja, **circule o passo da resolução que justifica o erro**. \n",
    "8. Ao corrigir o trabalho, identifique-se no manuscrito do seu colega escrevendo: \"Corrigido por:\" e adicionando seu nome.\n",
    "9. Ao final, calcule a nota do seu colega como (arredondar na primeira casa decimal):\n",
    "$$\n",
    "\\text{Nota} = 10 \\times \\frac{\\text{Total de itens certos}}{13}\n",
    "$$\n",
    "10. Ao terminar as correções, devolva ao seu colega o manuscrito e recupere o seu. \n",
    "11. Entregar até dia 07/06 pelo SIGAA como arquivo PDF (você pode scanear caso necessário, apenas certifique-se que está tudo legível). \n",
    "\n"
   ]
  },
  {
   "attachments": {},
   "cell_type": "markdown",
   "metadata": {},
   "source": [
    "## 1"
   ]
  },
  {
   "attachments": {},
   "cell_type": "markdown",
   "metadata": {},
   "source": [
    "<span style=\"color:blue\"> Calcule as potências. Apresente o resultado nas formas retangular e fasorial. </style>"
   ]
  },
  {
   "cell_type": "code",
   "execution_count": 175,
   "metadata": {},
   "outputs": [
    {
     "data": {
      "text/latex": [
       "$\\displaystyle \\left(20 - 11 i\\right)^{5}=-5015900 - 3637051 i=6.2 \\cdot 10^{6}\\,\\phase{-144.0}^{\\circ}$"
      ],
      "text/plain": [
       "<IPython.core.display.Math object>"
      ]
     },
     "metadata": {},
     "output_type": "display_data"
    },
    {
     "data": {
      "text/latex": [
       "$\\displaystyle \\left(-8 + 7 i\\right)^{5}=122072 - 59353 i=1.4 \\cdot 10^{5}\\,\\phase{-25.9}^{\\circ}$"
      ],
      "text/plain": [
       "<IPython.core.display.Math object>"
      ]
     },
     "metadata": {},
     "output_type": "display_data"
    },
    {
     "data": {
      "text/latex": [
       "$\\displaystyle \\left(-2 + 17 i\\right)^{5}=-812122 + 1224697 i=1.5 \\cdot 10^{6}\\,\\phase{124.0}^{\\circ}$"
      ],
      "text/plain": [
       "<IPython.core.display.Math object>"
      ]
     },
     "metadata": {},
     "output_type": "display_data"
    },
    {
     "data": {
      "text/latex": [
       "$\\displaystyle \\left(5 + 2 i\\right)^{9}=-3657355 - 1063438 i=3.8 \\cdot 10^{6}\\,\\phase{-164.0}^{\\circ}$"
      ],
      "text/plain": [
       "<IPython.core.display.Math object>"
      ]
     },
     "metadata": {},
     "output_type": "display_data"
    },
    {
     "data": {
      "text/latex": [
       "$\\displaystyle \\left(2 + 10 i\\right)^{8}=-978944 - 116981760 i=1.2 \\cdot 10^{8}\\,\\phase{-90.5}^{\\circ}$"
      ],
      "text/plain": [
       "<IPython.core.display.Math object>"
      ]
     },
     "metadata": {},
     "output_type": "display_data"
    }
   ],
   "source": [
    "Q1()"
   ]
  },
  {
   "cell_type": "code",
   "execution_count": 176,
   "metadata": {},
   "outputs": [
    {
     "data": {
      "text/plain": [
       "157"
      ]
     },
     "execution_count": 176,
     "metadata": {},
     "output_type": "execute_result"
    }
   ],
   "source": [
    "1237%360"
   ]
  },
  {
   "attachments": {},
   "cell_type": "markdown",
   "metadata": {},
   "source": [
    "## 2"
   ]
  },
  {
   "attachments": {},
   "cell_type": "markdown",
   "metadata": {},
   "source": [
    "<span style=\"color:blue\"> Resolva as seguintes equações utilizando radiciação complexa. Desenhe o resultado na forma de um polígono </span>"
   ]
  },
  {
   "cell_type": "code",
   "execution_count": 177,
   "metadata": {},
   "outputs": [
    {
     "data": {
      "text/latex": [
       "$\\displaystyle 9 s^{2} - 2 = 0\\quad;\\quad\\left[\\begin{matrix}0.47\\\\-0.47\\end{matrix}\\right]= \\left[\\begin{array}{c}0.47\\,\\phase{0}^{\\circ}\\\\0.47\\,\\phase{180.0}^{\\circ}\\\\\\end{array}\\right]$"
      ],
      "text/plain": [
       "<IPython.core.display.Math object>"
      ]
     },
     "metadata": {},
     "output_type": "display_data"
    },
    {
     "data": {
      "text/latex": [
       "$\\displaystyle - 16 s^{2} - 15 + 3 i = 0\\quad;\\quad\\left[\\begin{matrix}0.096 + 0.97 i\\\\-0.096 - 0.97 i\\end{matrix}\\right]= \\left[\\begin{array}{c}0.98\\,\\phase{84.4}^{\\circ}\\\\0.98\\,\\phase{-95.6}^{\\circ}\\\\\\end{array}\\right]$"
      ],
      "text/plain": [
       "<IPython.core.display.Math object>"
      ]
     },
     "metadata": {},
     "output_type": "display_data"
    },
    {
     "data": {
      "text/latex": [
       "$\\displaystyle \\left(s \\left(-5 - 7 i\\right) - 8 + 15 i\\right)^{3} - 20 + 14 i = 0\\quad;\\quad\\left[\\begin{matrix}0.74 + 2.1 i\\\\1.2 + 1.7 i\\\\0.68 + 1.5 i\\end{matrix}\\right]= \\left[\\begin{array}{c}2.2\\,\\phase{70.4}^{\\circ}\\\\2.1\\,\\phase{55.1}^{\\circ}\\\\1.6\\,\\phase{65.6}^{\\circ}\\\\\\end{array}\\right]$"
      ],
      "text/plain": [
       "<IPython.core.display.Math object>"
      ]
     },
     "metadata": {},
     "output_type": "display_data"
    },
    {
     "data": {
      "text/latex": [
       "$\\displaystyle \\left(s \\left(7 + 14 i\\right) - 5 - 6 i\\right)^{4} + 10 + 6 i = 0\\quad;\\quad\\left[\\begin{matrix}0.37 - 0.092 i\\\\0.6 - 0.14 i\\\\0.51 + 0.0017 i\\\\0.46 - 0.23 i\\end{matrix}\\right]= \\left[\\begin{array}{c}0.38\\,\\phase{-14.0}^{\\circ}\\\\0.62\\,\\phase{-12.8}^{\\circ}\\\\0.51\\,\\phase{0.195}^{\\circ}\\\\0.52\\,\\phase{-26.4}^{\\circ}\\\\\\end{array}\\right]$"
      ],
      "text/plain": [
       "<IPython.core.display.Math object>"
      ]
     },
     "metadata": {},
     "output_type": "display_data"
    },
    {
     "data": {
      "text/latex": [
       "$\\displaystyle \\left(s \\left(14 + 2 i\\right) + 10 + 12 i\\right)^{5} + 14 - 16 i = 0\\quad;\\quad\\left[\\begin{matrix}-0.7 - 0.7 i\\\\-0.74 - 0.85 i\\\\-0.9 - 0.85 i\\\\-0.94 - 0.7 i\\\\-0.82 - 0.61 i\\end{matrix}\\right]= \\left[\\begin{array}{c}0.99\\,\\phase{-135.0}^{\\circ}\\\\1.1\\,\\phase{-131.0}^{\\circ}\\\\1.2\\,\\phase{-137.0}^{\\circ}\\\\1.2\\,\\phase{-143.0}^{\\circ}\\\\1.0\\,\\phase{-143.0}^{\\circ}\\\\\\end{array}\\right]$"
      ],
      "text/plain": [
       "<IPython.core.display.Math object>"
      ]
     },
     "metadata": {},
     "output_type": "display_data"
    }
   ],
   "source": [
    "Q2()"
   ]
  },
  {
   "attachments": {},
   "cell_type": "markdown",
   "metadata": {},
   "source": [
    "## 3"
   ]
  },
  {
   "attachments": {},
   "cell_type": "markdown",
   "metadata": {},
   "source": [
    "\n",
    "<span style=\"color:blue\"> Determine todos os vértices de cada um dos polígonos a seguir: </span>"
   ]
  },
  {
   "cell_type": "code",
   "execution_count": 178,
   "metadata": {},
   "outputs": [
    {
     "data": {
      "text/latex": [
       "$\\displaystyle 3\\text{ lados; um vértice é: } z_1 = -5 - 4 i$"
      ],
      "text/plain": [
       "<IPython.core.display.Math object>"
      ]
     },
     "metadata": {},
     "output_type": "display_data"
    },
    {
     "data": {
      "text/latex": [
       "$\\displaystyle \\left[\\begin{matrix}5.964 - 2.33 i\\\\-5.0 - 4.0 i\\\\-0.9641 + 6.33 i\\end{matrix}\\right]=\\left[\\begin{array}{c}6.4\\,\\phase{-21.3}^{\\circ}\\\\6.4\\,\\phase{-141.0}^{\\circ}\\\\6.4\\,\\phase{98.7}^{\\circ}\\\\\\end{array}\\right]$"
      ],
      "text/plain": [
       "<IPython.core.display.Math object>"
      ]
     },
     "metadata": {},
     "output_type": "display_data"
    },
    {
     "data": {
      "text/latex": [
       "$\\displaystyle 4\\text{ lados; um vértice é: } z_1 = -8 - 15 i$"
      ],
      "text/plain": [
       "<IPython.core.display.Math object>"
      ]
     },
     "metadata": {},
     "output_type": "display_data"
    },
    {
     "data": {
      "text/latex": [
       "$\\displaystyle \\left[\\begin{matrix}-8.0 - 15.0 i\\\\8.0 + 15.0 i\\\\-15.0 + 8.0 i\\\\15.0 - 8.0 i\\end{matrix}\\right]=\\left[\\begin{array}{c}17.0\\,\\phase{-118.0}^{\\circ}\\\\17.0\\,\\phase{61.9}^{\\circ}\\\\17.0\\,\\phase{152.0}^{\\circ}\\\\17.0\\,\\phase{-28.1}^{\\circ}\\\\\\end{array}\\right]$"
      ],
      "text/plain": [
       "<IPython.core.display.Math object>"
      ]
     },
     "metadata": {},
     "output_type": "display_data"
    },
    {
     "data": {
      "text/latex": [
       "$\\displaystyle 5\\text{ lados; um vértice é: } z_1 = 57 - 50 i$"
      ],
      "text/plain": [
       "<IPython.core.display.Math object>"
      ]
     },
     "metadata": {},
     "output_type": "display_data"
    },
    {
     "data": {
      "text/latex": [
       "$\\displaystyle \\left[\\begin{matrix}65.17 + 38.76 i\\\\-29.94 - 69.66 i\\\\-75.5 + 6.947 i\\\\57.0 - 50.0 i\\\\-16.72 + 73.96 i\\end{matrix}\\right]=\\left[\\begin{array}{c}76.0\\,\\phase{30.7}^{\\circ}\\\\76.0\\,\\phase{-113.0}^{\\circ}\\\\76.0\\,\\phase{175.0}^{\\circ}\\\\76.0\\,\\phase{-41.3}^{\\circ}\\\\76.0\\,\\phase{103.0}^{\\circ}\\\\\\end{array}\\right]$"
      ],
      "text/plain": [
       "<IPython.core.display.Math object>"
      ]
     },
     "metadata": {},
     "output_type": "display_data"
    },
    {
     "data": {
      "text/latex": [
       "$\\displaystyle 6\\text{ lados; um vértice é: } z_1 = -14 - 76 i$"
      ],
      "text/plain": [
       "<IPython.core.display.Math object>"
      ]
     },
     "metadata": {},
     "output_type": "display_data"
    },
    {
     "data": {
      "text/latex": [
       "$\\displaystyle \\left[\\begin{matrix}-72.82 - 25.88 i\\\\72.82 + 25.88 i\\\\-58.82 + 50.12 i\\\\-14.0 - 76.0 i\\\\14.0 + 76.0 i\\\\58.82 - 50.12 i\\end{matrix}\\right]=\\left[\\begin{array}{c}77.0\\,\\phase{-160.0}^{\\circ}\\\\77.0\\,\\phase{19.6}^{\\circ}\\\\77.0\\,\\phase{140.0}^{\\circ}\\\\77.0\\,\\phase{-100.0}^{\\circ}\\\\77.0\\,\\phase{79.6}^{\\circ}\\\\77.0\\,\\phase{-40.4}^{\\circ}\\\\\\end{array}\\right]$"
      ],
      "text/plain": [
       "<IPython.core.display.Math object>"
      ]
     },
     "metadata": {},
     "output_type": "display_data"
    }
   ],
   "source": [
    "Q3()"
   ]
  },
  {
   "attachments": {},
   "cell_type": "markdown",
   "metadata": {},
   "source": [
    "## 4\n",
    "\n",
    "<span style=\"color:blue\"> Resolva as equações biquadradas a seguir: </span>"
   ]
  },
  {
   "cell_type": "code",
   "execution_count": 179,
   "metadata": {},
   "outputs": [
    {
     "data": {
      "text/latex": [
       "$\\displaystyle s^{4} - 18 i s^{2} - 15 + 6 i = 0$"
      ],
      "text/plain": [
       "Eq(s**4 - 18*I*s**2 - 15 + 6*I, 0)"
      ]
     },
     "metadata": {},
     "output_type": "display_data"
    },
    {
     "data": {
      "text/latex": [
       "$\\displaystyle \\left[\\begin{matrix}-2.9 - 3.0 i\\\\2.9 + 3.0 i\\\\-0.81 - 0.54 i\\\\0.81 + 0.54 i\\end{matrix}\\right]=\\left[\\begin{array}{c}4.1\\,\\phase{-134.0}^{\\circ}\\\\4.1\\,\\phase{45.6}^{\\circ}\\\\0.97\\,\\phase{-147.0}^{\\circ}\\\\0.97\\,\\phase{33.5}^{\\circ}\\\\\\end{array}\\right]$"
      ],
      "text/plain": [
       "<IPython.core.display.Math object>"
      ]
     },
     "metadata": {},
     "output_type": "display_data"
    },
    {
     "data": {
      "text/latex": [
       "$\\displaystyle 3 s^{4} - 3 i s^{2} - 18 - i = 0$"
      ],
      "text/plain": [
       "Eq(3*s**4 - 3*I*s**2 - 18 - I, 0)"
      ]
     },
     "metadata": {},
     "output_type": "display_data"
    },
    {
     "data": {
      "text/latex": [
       "$\\displaystyle \\left[\\begin{matrix}-0.14 - 1.6 i\\\\0.14 + 1.6 i\\\\-1.6 - 0.18 i\\\\1.6 + 0.18 i\\end{matrix}\\right]=\\left[\\begin{array}{c}1.6\\,\\phase{-95.1}^{\\circ}\\\\1.6\\,\\phase{85.0}^{\\circ}\\\\1.6\\,\\phase{-173.0}^{\\circ}\\\\1.6\\,\\phase{6.68}^{\\circ}\\\\\\end{array}\\right]$"
      ],
      "text/plain": [
       "<IPython.core.display.Math object>"
      ]
     },
     "metadata": {},
     "output_type": "display_data"
    },
    {
     "data": {
      "text/latex": [
       "$\\displaystyle - 16 s^{4} + 6 i s^{2} - 18 - 13 i = 0$"
      ],
      "text/plain": [
       "Eq(-16*s**4 + 6*I*s**2 - 18 - 13*I, 0)"
      ]
     },
     "metadata": {},
     "output_type": "display_data"
    },
    {
     "data": {
      "text/latex": [
       "$\\displaystyle \\left[\\begin{matrix}-0.71 - 0.93 i\\\\0.71 + 0.93 i\\\\-0.83 + 0.57 i\\\\0.83 - 0.57 i\\end{matrix}\\right]=\\left[\\begin{array}{c}1.2\\,\\phase{-127.0}^{\\circ}\\\\1.2\\,\\phase{52.6}^{\\circ}\\\\1.0\\,\\phase{145.0}^{\\circ}\\\\1.0\\,\\phase{-34.6}^{\\circ}\\\\\\end{array}\\right]$"
      ],
      "text/plain": [
       "<IPython.core.display.Math object>"
      ]
     },
     "metadata": {},
     "output_type": "display_data"
    }
   ],
   "source": [
    "Q4()"
   ]
  },
  {
   "cell_type": "code",
   "execution_count": 181,
   "metadata": {},
   "outputs": [
    {
     "data": {
      "text/plain": [
       "0.46153846153846156"
      ]
     },
     "execution_count": 181,
     "metadata": {},
     "output_type": "execute_result"
    }
   ],
   "source": [
    "6/13"
   ]
  }
 ],
 "metadata": {
  "kernelspec": {
   "display_name": "Python 3",
   "language": "python",
   "name": "python3"
  },
  "language_info": {
   "codemirror_mode": {
    "name": "ipython",
    "version": 3
   },
   "file_extension": ".py",
   "mimetype": "text/x-python",
   "name": "python",
   "nbconvert_exporter": "python",
   "pygments_lexer": "ipython3",
   "version": "3.11.1"
  },
  "orig_nbformat": 4
 },
 "nbformat": 4,
 "nbformat_minor": 2
}
