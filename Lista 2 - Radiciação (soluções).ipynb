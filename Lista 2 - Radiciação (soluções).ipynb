{
 "cells": [
  {
   "attachments": {},
   "cell_type": "markdown",
   "metadata": {},
   "source": [
    "## Lista 2 de variáveis complexas"
   ]
  },
  {
   "attachments": {},
   "cell_type": "markdown",
   "metadata": {},
   "source": [
    "<span style=\"color:blue\"> Entre com a data e seu número de matrícula abaixo. **Não tire as aspas!\"** </span>"
   ]
  },
  {
   "cell_type": "code",
   "execution_count": 11,
   "metadata": {},
   "outputs": [],
   "source": [
    "mat = '202233940013'\n",
    "dia = '01'\n",
    "mes = '06'"
   ]
  },
  {
   "cell_type": "code",
   "execution_count": 12,
   "metadata": {},
   "outputs": [],
   "source": [
    "from IPython.display import display, Math\n",
    "from sympy import I, sqrt, symbols, latex, Eq, fraction, pi, exp,arg, Matrix, solve\n",
    "from numpy.random import RandomState, randint\n",
    "from numpy import arange, angle\n",
    "from sympy import Abs, arg, I\n",
    "\n",
    "rad = pi/180\n",
    "grau = 180/pi\n",
    "def fase(ang):\n",
    "    return exp(1j*ang*rad)\n",
    "\n",
    "def polar(z):\n",
    "    return latex(Abs(z).evalf(3)) + \\\n",
    "                 r'\\,\\phase{' + latex((arg(z)*grau).evalf(3)) + r'}^{\\circ}'\n",
    "    \n",
    "def resp(z):\n",
    "    display(Math(latex(round(z,4))))\n",
    "\n",
    "\n",
    "_nn = int(mat[0:4]+mat[-2:]+dia+mes)\n",
    "_rng = RandomState(_nn)\n",
    "s, z = symbols(['s', 'z'])\n",
    "_dig = arange(-9,10)\n",
    "_dig = _dig[_dig!=0]\n",
    "_n = randint(0,_dig.size,20)\n",
    "min = -20\n",
    "max = 20\n",
    "\n",
    "aa = arange(-20,21)\n",
    "aa = aa[aa!=0]\n",
    "bb = arange(-20,21)\n",
    "bb = bb[bb!=0]\n",
    "A = [(a+I*b)**n for a,b,n in zip(_rng.choice(aa,size=5),\n",
    "                                 _rng.choice(bb,size=5),\n",
    "                                 _rng.randint(3,10,size=5))]\n",
    "\n",
    "aa = [_rng.choice(_dig), I*_rng.choice(_dig)] + \\\n",
    "    list(_rng.randint(min,max,3) + I* _rng.randint(min,max,3))\n",
    "bb = [0, 0] + list(_rng.randint(min,max,3) + I* _rng.randint(min,max,3))\n",
    "cc = [_rng.choice(_dig)] + list(_rng.randint(min,max,4) +\n",
    "                                 I* _rng.randint(min,max,4))\n",
    "nn = [2,2,3,4,5]\n",
    "E = [ Eq((a*s+b)**n+c,0) for a,b,c,n in zip(aa,bb,cc,nn)]\n",
    "S2 = []\n",
    "S2_str =[]\n",
    "for a,b,c,n in zip(aa,bb,cc,nn):\n",
    "    sol = solve(s**n+c)\n",
    "    sol = Matrix([((x-b)/a).evalf(2) for x in sol])\n",
    "    str = r'\\left[\\begin{array}{c}'\n",
    "    for x in sol:\n",
    "        str += polar(x) + r'\\\\'\n",
    "    str += r'\\end{array}\\right]'\n",
    "    S2.append(sol)\n",
    "    S2_str.append(str)\n",
    "\n",
    "lados = [3,4,5,6]\n",
    "z1 = _rng.randint(-100,100,size=(5,)) + \\\n",
    "    I * _rng.randint(-100,100,size=(5,))\n",
    "C = [f'{l}' + r'\\text{ lados; um vértice é: } z_1 = ' + latex(z) for l,z in zip(lados, z1)]\n",
    "S3 = []\n",
    "S3_str = []\n",
    "for l,z in zip(lados, z1):\n",
    "    sol = solve(s**l - z**l)\n",
    "    sol = Matrix([x.evalf(4) for x in sol])\n",
    "    str = r'\\left[\\begin{array}{c}'\n",
    "    for x in sol:\n",
    "        str += polar(x) + r'\\\\'\n",
    "    str += r'\\end{array}\\right]'\n",
    "    S3.append(sol)\n",
    "    S3_str.append(str)\n",
    "\n",
    "\n",
    "aa = arange(-20,21)\n",
    "aa = aa[aa!=0]\n",
    "aa = _rng.choice(aa,3)\n",
    "bb = I*_rng.randint(-20,21,3)\n",
    "cc = _rng.randint(-20,21,3) + I * _rng.randint(-20,21,3)\n",
    "D = [Eq(a*s**4 + b*s**2 + c, 0) for a,b,c in zip(aa,bb,cc)]\n",
    "S4 = []\n",
    "S4_str = []\n",
    "for d in D:\n",
    "    sol = solve(d)\n",
    "    sol = Matrix([x.evalf(2) for x in sol])\n",
    "    str = r'\\left[\\begin{array}{c}'\n",
    "    for x in sol:\n",
    "        str += polar(x) + r'\\\\'\n",
    "    str += r'\\end{array}\\right]'\n",
    "    S4.append(sol)\n",
    "    S4_str.append(str)\n",
    "\n",
    "def Q1():\n",
    "    for n in range(len(A)):\n",
    "        display(Math(latex(A[n]) + '=' +\n",
    "                     latex((A[n].expand())) + '=' +\n",
    "                     polar(A[n]) ))\n",
    "\n",
    "def Q2():\n",
    "    for n in range(len(E)): \n",
    "        display(Math(latex(E[n]) + r'\\quad;\\quad' + \n",
    "                     latex(S2[n]) + '= ' + S2_str[n]))\n",
    "\n",
    "def Q3():    \n",
    "    for n in range(len(C)): \n",
    "        display(Math(C[n]))\n",
    "        display(Math(latex(S3[n]) + '=' + S3_str[n]))\n",
    "\n",
    "def Q4():    \n",
    "    for n in range(len(D)): \n",
    "        display(D[n])\n",
    "        display(Math(latex(S4[n]) + '=' + S4_str[n]))\n",
    "\n"
   ]
  },
  {
   "cell_type": "code",
   "execution_count": 13,
   "metadata": {},
   "outputs": [
    {
     "data": {
      "text/plain": [
       "161"
      ]
     },
     "execution_count": 13,
     "metadata": {},
     "output_type": "execute_result"
    }
   ],
   "source": [
    "521%360"
   ]
  },
  {
   "attachments": {},
   "cell_type": "markdown",
   "metadata": {},
   "source": [
    "**Orientações - Leia com atenção!**\n",
    "1. Execute o notebook inteiro com os seus dados para gerar os dados das questões. Você pode utilizar o [Colab](https://colab.research.google.com/), [Jupyter](https://jupyter.org/) ou qualquer outro editor de notebooks. \n",
    "2. Resolva todas as questões, registrando os principais passos da solução\n",
    "3. Em cada questão escolha **um e apenas um** item e introduza intencionalmente um erro na sua solução.\n",
    "4. Faça um manuscrito de apresentação das suas soluções, tanto os itens corretos quanto aqueles onde você introduziu o erro intencional. Não esqueça de anotar no manuscrito o seu nome, sua matrícula e a data que você usou para gerar as questões.\n",
    "5. Apresente as questões no manuscrito na **ordem correta** e deixe clara a **resposta final**. Quando necessário, use apenas 2 casas decimais. \n",
    "6. Escolha um colega para trocar manuscritos: você corrigirá as questões dele e ele as suas. \n",
    "7. Ao corrigir, observe apenas a resposta final, indicando apenas se está correta ou não. Caso não esteja, **circule o passo da resolução que justifica o erro**. \n",
    "8. Ao corrigir o trabalho, identifique-se no manuscrito do seu colega escrevendo: \"Corrigido por:\" e adicionando seu nome.\n",
    "9. Ao final, calcule a nota do seu colega como (arredondar na primeira casa decimal):\n",
    "$$\n",
    "\\text{Nota} = 10 \\times \\frac{\\text{Total de itens certos}}{13}\n",
    "$$\n",
    "10. Ao terminar as correções, devolva ao seu colega o manuscrito e recupere o seu. \n",
    "11. Entregar até dia 07/06 pelo SIGAA como arquivo PDF (você pode scanear caso necessário, apenas certifique-se que está tudo legível). \n",
    "\n"
   ]
  },
  {
   "attachments": {},
   "cell_type": "markdown",
   "metadata": {},
   "source": [
    "## 1"
   ]
  },
  {
   "attachments": {},
   "cell_type": "markdown",
   "metadata": {},
   "source": [
    "<span style=\"color:blue\"> Calcule as potências. Apresente o resultado nas formas retangular e fasorial. </style>"
   ]
  },
  {
   "cell_type": "code",
   "execution_count": 14,
   "metadata": {},
   "outputs": [
    {
     "data": {
      "text/latex": [
       "$\\displaystyle \\left(5 - 4 i\\right)^{6}=-42471 + 54280 i=6.89 \\cdot 10^{4}\\,\\phase{128.0}^{\\circ}$"
      ],
      "text/plain": [
       "<IPython.core.display.Math object>"
      ]
     },
     "metadata": {},
     "output_type": "display_data"
    },
    {
     "data": {
      "text/latex": [
       "$\\displaystyle \\left(19 + i\\right)^{4}=128156 + 27360 i=1.31 \\cdot 10^{5}\\,\\phase{12.1}^{\\circ}$"
      ],
      "text/plain": [
       "<IPython.core.display.Math object>"
      ]
     },
     "metadata": {},
     "output_type": "display_data"
    },
    {
     "data": {
      "text/latex": [
       "$\\displaystyle \\left(-4 - 3 i\\right)^{8}=164833 - 354144 i=3.91 \\cdot 10^{5}\\,\\phase{-65.0}^{\\circ}$"
      ],
      "text/plain": [
       "<IPython.core.display.Math object>"
      ]
     },
     "metadata": {},
     "output_type": "display_data"
    },
    {
     "data": {
      "text/latex": [
       "$\\displaystyle \\left(12 - 17 i\\right)^{9}=-499249080468 - 534599184977 i=7.31 \\cdot 10^{11}\\,\\phase{-133.0}^{\\circ}$"
      ],
      "text/plain": [
       "<IPython.core.display.Math object>"
      ]
     },
     "metadata": {},
     "output_type": "display_data"
    },
    {
     "data": {
      "text/latex": [
       "$\\displaystyle \\left(-14 + 6 i\\right)^{6}=-9451520 - 8160768 i=1.25 \\cdot 10^{7}\\,\\phase{-139.0}^{\\circ}$"
      ],
      "text/plain": [
       "<IPython.core.display.Math object>"
      ]
     },
     "metadata": {},
     "output_type": "display_data"
    }
   ],
   "source": [
    "Q1()"
   ]
  },
  {
   "cell_type": "code",
   "execution_count": 15,
   "metadata": {},
   "outputs": [
    {
     "data": {
      "text/plain": [
       "0.10825317547305482"
      ]
     },
     "execution_count": 15,
     "metadata": {},
     "output_type": "execute_result"
    }
   ],
   "source": [
    "from numpy import sqrt\n",
    "sqrt(3)/16"
   ]
  },
  {
   "attachments": {},
   "cell_type": "markdown",
   "metadata": {},
   "source": [
    "## 2"
   ]
  },
  {
   "attachments": {},
   "cell_type": "markdown",
   "metadata": {},
   "source": [
    "<span style=\"color:blue\"> Resolva as seguintes equações utilizando radiciação complexa. Desenhe o resultado na forma de um polígono </span>"
   ]
  },
  {
   "cell_type": "code",
   "execution_count": 16,
   "metadata": {},
   "outputs": [
    {
     "data": {
      "text/latex": [
       "$\\displaystyle 49 s^{2} - 6 = 0\\quad;\\quad\\left[\\begin{matrix}0.35\\\\-0.35\\end{matrix}\\right]= \\left[\\begin{array}{c}0.35\\,\\phase{0}^{\\circ}\\\\0.35\\,\\phase{180.0}^{\\circ}\\\\\\end{array}\\right]$"
      ],
      "text/plain": [
       "<IPython.core.display.Math object>"
      ]
     },
     "metadata": {},
     "output_type": "display_data"
    },
    {
     "data": {
      "text/latex": [
       "$\\displaystyle - 36 s^{2} - 2 + 9 i = 0\\quad;\\quad\\left[\\begin{matrix}0.32 + 0.39 i\\\\-0.32 - 0.39 i\\end{matrix}\\right]= \\left[\\begin{array}{c}0.506\\,\\phase{51.2}^{\\circ}\\\\0.506\\,\\phase{-129.0}^{\\circ}\\\\\\end{array}\\right]$"
      ],
      "text/plain": [
       "<IPython.core.display.Math object>"
      ]
     },
     "metadata": {},
     "output_type": "display_data"
    },
    {
     "data": {
      "text/latex": [
       "$\\displaystyle \\left(s \\left(-7 - 6 i\\right) - 12 + 4 i\\right)^{3} - 1 - 14 i = 0\\quad;\\quad\\left[\\begin{matrix}-0.96 + 1.2 i\\\\-0.63 + 0.93 i\\\\-0.53 + 1.4 i\\end{matrix}\\right]= \\left[\\begin{array}{c}1.56\\,\\phase{128.0}^{\\circ}\\\\1.12\\,\\phase{124.0}^{\\circ}\\\\1.47\\,\\phase{111.0}^{\\circ}\\\\\\end{array}\\right]$"
      ],
      "text/plain": [
       "<IPython.core.display.Math object>"
      ]
     },
     "metadata": {},
     "output_type": "display_data"
    },
    {
     "data": {
      "text/latex": [
       "$\\displaystyle \\left(s \\left(-6 - 7 i\\right) - 15 + 2 i\\right)^{4} + 14 - 18 i = 0\\quad;\\quad\\left[\\begin{matrix}-0.96 + 1.2 i\\\\-0.82 + 1.6 i\\\\-0.67 + 1.3 i\\\\-1.1 + 1.4 i\\end{matrix}\\right]= \\left[\\begin{array}{c}1.5\\,\\phase{130.0}^{\\circ}\\\\1.8\\,\\phase{117.0}^{\\circ}\\\\1.46\\,\\phase{117.0}^{\\circ}\\\\1.83\\,\\phase{128.0}^{\\circ}\\\\\\end{array}\\right]$"
      ],
      "text/plain": [
       "<IPython.core.display.Math object>"
      ]
     },
     "metadata": {},
     "output_type": "display_data"
    },
    {
     "data": {
      "text/latex": [
       "$\\displaystyle \\left(s \\left(-6 + 4 i\\right) - 5 + 11 i\\right)^{5} - 5 - 14 i = 0\\quad;\\quad\\left[\\begin{matrix}-1.6 + 0.71 i\\\\-1.3 + 0.68 i\\\\-1.6 + 0.98 i\\\\-1.2 + 0.93 i\\\\-1.4 + 1.1 i\\end{matrix}\\right]= \\left[\\begin{array}{c}1.73\\,\\phase{156.0}^{\\circ}\\\\1.47\\,\\phase{153.0}^{\\circ}\\\\1.91\\,\\phase{149.0}^{\\circ}\\\\1.51\\,\\phase{142.0}^{\\circ}\\\\1.79\\,\\phase{141.0}^{\\circ}\\\\\\end{array}\\right]$"
      ],
      "text/plain": [
       "<IPython.core.display.Math object>"
      ]
     },
     "metadata": {},
     "output_type": "display_data"
    }
   ],
   "source": [
    "Q2()"
   ]
  },
  {
   "attachments": {},
   "cell_type": "markdown",
   "metadata": {},
   "source": [
    "## 3"
   ]
  },
  {
   "attachments": {},
   "cell_type": "markdown",
   "metadata": {},
   "source": [
    "\n",
    "<span style=\"color:blue\"> Determine todos os vértices de cada um dos polígonos a seguir: </span>"
   ]
  },
  {
   "cell_type": "code",
   "execution_count": 17,
   "metadata": {},
   "outputs": [
    {
     "data": {
      "text/latex": [
       "$\\displaystyle 3\\text{ lados; um vértice é: } z_1 = -93 - 34 i$"
      ],
      "text/plain": [
       "<IPython.core.display.Math object>"
      ]
     },
     "metadata": {},
     "output_type": "display_data"
    },
    {
     "data": {
      "text/latex": [
       "$\\displaystyle \\left[\\begin{matrix}75.95 - 63.54 i\\\\-93.0 - 34.0 i\\\\17.06 + 97.54 i\\end{matrix}\\right]=\\left[\\begin{array}{c}99.0\\,\\phase{-39.9}^{\\circ}\\\\99.0\\,\\phase{-160.0}^{\\circ}\\\\99.0\\,\\phase{80.1}^{\\circ}\\\\\\end{array}\\right]$"
      ],
      "text/plain": [
       "<IPython.core.display.Math object>"
      ]
     },
     "metadata": {},
     "output_type": "display_data"
    },
    {
     "data": {
      "text/latex": [
       "$\\displaystyle 4\\text{ lados; um vértice é: } z_1 = -11 + 15 i$"
      ],
      "text/plain": [
       "<IPython.core.display.Math object>"
      ]
     },
     "metadata": {},
     "output_type": "display_data"
    },
    {
     "data": {
      "text/latex": [
       "$\\displaystyle \\left[\\begin{matrix}-11.0 + 15.0 i\\\\11.0 - 15.0 i\\\\-15.0 - 11.0 i\\\\15.0 + 11.0 i\\end{matrix}\\right]=\\left[\\begin{array}{c}18.6\\,\\phase{126.0}^{\\circ}\\\\18.6\\,\\phase{-53.8}^{\\circ}\\\\18.6\\,\\phase{-144.0}^{\\circ}\\\\18.6\\,\\phase{36.3}^{\\circ}\\\\\\end{array}\\right]$"
      ],
      "text/plain": [
       "<IPython.core.display.Math object>"
      ]
     },
     "metadata": {},
     "output_type": "display_data"
    },
    {
     "data": {
      "text/latex": [
       "$\\displaystyle 5\\text{ lados; um vértice é: } z_1 = 2 - 94 i$"
      ],
      "text/plain": [
       "<IPython.core.display.Math object>"
      ]
     },
     "metadata": {},
     "output_type": "display_data"
    },
    {
     "data": {
      "text/latex": [
       "$\\displaystyle \\left[\\begin{matrix}90.02 - 27.15 i\\\\53.63 + 77.22 i\\\\-88.78 - 30.95 i\\\\-56.87 + 74.87 i\\\\2.0 - 94.0 i\\end{matrix}\\right]=\\left[\\begin{array}{c}94.0\\,\\phase{-16.8}^{\\circ}\\\\94.0\\,\\phase{55.2}^{\\circ}\\\\94.0\\,\\phase{-161.0}^{\\circ}\\\\94.0\\,\\phase{127.0}^{\\circ}\\\\94.0\\,\\phase{-88.8}^{\\circ}\\\\\\end{array}\\right]$"
      ],
      "text/plain": [
       "<IPython.core.display.Math object>"
      ]
     },
     "metadata": {},
     "output_type": "display_data"
    },
    {
     "data": {
      "text/latex": [
       "$\\displaystyle 6\\text{ lados; um vértice é: } z_1 = 73 + 10 i$"
      ],
      "text/plain": [
       "<IPython.core.display.Math object>"
      ]
     },
     "metadata": {},
     "output_type": "display_data"
    },
    {
     "data": {
      "text/latex": [
       "$\\displaystyle \\left[\\begin{matrix}-73.0 - 10.0 i\\\\73.0 + 10.0 i\\\\27.84 + 68.22 i\\\\45.16 - 58.22 i\\\\-45.16 + 58.22 i\\\\-27.84 - 68.22 i\\end{matrix}\\right]=\\left[\\begin{array}{c}73.7\\,\\phase{-172.0}^{\\circ}\\\\73.7\\,\\phase{7.8}^{\\circ}\\\\73.7\\,\\phase{67.8}^{\\circ}\\\\73.7\\,\\phase{-52.2}^{\\circ}\\\\73.7\\,\\phase{128.0}^{\\circ}\\\\73.7\\,\\phase{-112.0}^{\\circ}\\\\\\end{array}\\right]$"
      ],
      "text/plain": [
       "<IPython.core.display.Math object>"
      ]
     },
     "metadata": {},
     "output_type": "display_data"
    }
   ],
   "source": [
    "Q3()"
   ]
  },
  {
   "attachments": {},
   "cell_type": "markdown",
   "metadata": {},
   "source": [
    "## 4\n",
    "\n",
    "<span style=\"color:blue\"> Resolva as equações biquadradas a seguir: </span>"
   ]
  },
  {
   "cell_type": "code",
   "execution_count": 18,
   "metadata": {},
   "outputs": [
    {
     "data": {
      "text/latex": [
       "$\\displaystyle 11 s^{4} - 2 i s^{2} + 15 - 19 i = 0$"
      ],
      "text/plain": [
       "Eq(11*s**4 - 2*I*s**2 + 15 - 19*I, 0)"
      ]
     },
     "metadata": {},
     "output_type": "display_data"
    },
    {
     "data": {
      "text/latex": [
       "$\\displaystyle \\left[\\begin{matrix}-1.1 - 0.68 i\\\\1.1 + 0.68 i\\\\-0.62 + 1.0 i\\\\0.62 - 1.0 i\\end{matrix}\\right]=\\left[\\begin{array}{c}1.25\\,\\phase{-147.0}^{\\circ}\\\\1.25\\,\\phase{32.8}^{\\circ}\\\\1.18\\,\\phase{121.0}^{\\circ}\\\\1.18\\,\\phase{-58.6}^{\\circ}\\\\\\end{array}\\right]$"
      ],
      "text/plain": [
       "<IPython.core.display.Math object>"
      ]
     },
     "metadata": {},
     "output_type": "display_data"
    },
    {
     "data": {
      "text/latex": [
       "$\\displaystyle - 9 s^{4} - 9 i s^{2} + 12 + 2 i = 0$"
      ],
      "text/plain": [
       "Eq(-9*s**4 - 9*I*s**2 + 12 + 2*I, 0)"
      ]
     },
     "metadata": {},
     "output_type": "display_data"
    },
    {
     "data": {
      "text/latex": [
       "$\\displaystyle \\left[\\begin{matrix}-0.29 + 1.1 i\\\\0.29 - 1.1 i\\\\-1.0 + 0.19 i\\\\1.0 - 0.19 i\\end{matrix}\\right]=\\left[\\begin{array}{c}1.1\\,\\phase{105.0}^{\\circ}\\\\1.1\\,\\phase{-75.0}^{\\circ}\\\\1.06\\,\\phase{170.0}^{\\circ}\\\\1.06\\,\\phase{-10.3}^{\\circ}\\\\\\end{array}\\right]$"
      ],
      "text/plain": [
       "<IPython.core.display.Math object>"
      ]
     },
     "metadata": {},
     "output_type": "display_data"
    },
    {
     "data": {
      "text/latex": [
       "$\\displaystyle - 7 s^{4} - 19 + 17 i = 0$"
      ],
      "text/plain": [
       "Eq(-7*s**4 - 19 + 17*I, 0)"
      ]
     },
     "metadata": {},
     "output_type": "display_data"
    },
    {
     "data": {
      "text/latex": [
       "$\\displaystyle \\left[\\begin{matrix}-0.78 + 1.1 i\\\\0.78 - 1.1 i\\\\-1.1 - 0.78 i\\\\1.1 + 0.78 i\\end{matrix}\\right]=\\left[\\begin{array}{c}1.38\\,\\phase{125.0}^{\\circ}\\\\1.38\\,\\phase{-55.5}^{\\circ}\\\\1.38\\,\\phase{-145.0}^{\\circ}\\\\1.38\\,\\phase{34.5}^{\\circ}\\\\\\end{array}\\right]$"
      ],
      "text/plain": [
       "<IPython.core.display.Math object>"
      ]
     },
     "metadata": {},
     "output_type": "display_data"
    }
   ],
   "source": [
    "Q4()"
   ]
  },
  {
   "cell_type": "code",
   "execution_count": 19,
   "metadata": {},
   "outputs": [
    {
     "data": {
      "text/plain": [
       "0.5384615384615384"
      ]
     },
     "execution_count": 19,
     "metadata": {},
     "output_type": "execute_result"
    }
   ],
   "source": [
    "(3.19*grau).evalf(3)\n",
    "7/13"
   ]
  },
  {
   "cell_type": "code",
   "execution_count": 20,
   "metadata": {},
   "outputs": [
    {
     "data": {
      "text/latex": [
       "$\\displaystyle -201.9 - 123.1 i$"
      ],
      "text/plain": [
       "-201.9 - 123.1*I"
      ]
     },
     "execution_count": 20,
     "metadata": {},
     "output_type": "execute_result"
    }
   ],
   "source": [
    "X = 6*fase(60)\n",
    "Y = 40*fase(-20)\n",
    "((X-Y)*X).evalf(4)\n"
   ]
  }
 ],
 "metadata": {
  "kernelspec": {
   "display_name": "Python 3",
   "language": "python",
   "name": "python3"
  },
  "language_info": {
   "codemirror_mode": {
    "name": "ipython",
    "version": 3
   },
   "file_extension": ".py",
   "mimetype": "text/x-python",
   "name": "python",
   "nbconvert_exporter": "python",
   "pygments_lexer": "ipython3",
   "version": "3.11.1"
  },
  "orig_nbformat": 4
 },
 "nbformat": 4,
 "nbformat_minor": 2
}
