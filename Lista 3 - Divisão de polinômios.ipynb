{
 "cells": [
  {
   "attachments": {},
   "cell_type": "markdown",
   "metadata": {},
   "source": [
    "## Lista 3 de variáveis complexas"
   ]
  },
  {
   "attachments": {},
   "cell_type": "markdown",
   "metadata": {},
   "source": [
    "<span style=\"color:blue\"> Entre com a data e seu número de matrícula abaixo. **Não tire as aspas!\"** </span>"
   ]
  },
  {
   "cell_type": "code",
   "execution_count": 2,
   "metadata": {},
   "outputs": [],
   "source": [
    "mat = '202233940099'\n",
    "dia = '26'\n",
    "mes = '05'"
   ]
  },
  {
   "cell_type": "code",
   "execution_count": 23,
   "metadata": {},
   "outputs": [],
   "source": [
    "from IPython.display import display, Math\n",
    "from sympy import I, sqrt, symbols, latex, Eq, fraction\n",
    "from numpy.random import RandomState, randint, choice\n",
    "from numpy import arange\n",
    "\n",
    "_nn = int(mat[0:4]+mat[-2:]+dia+mes)\n",
    "_rng = RandomState(_nn)\n",
    "s, z = symbols(['s', 'z'])\n",
    "_dig = arange(-9,10)\n",
    "_dig = _dig[_dig!=0]\n",
    "_n = randint(0,_dig.size,20)\n",
    "min = -20\n",
    "max = 20\n"
   ]
  },
  {
   "attachments": {},
   "cell_type": "markdown",
   "metadata": {},
   "source": [
    "## 1"
   ]
  },
  {
   "attachments": {},
   "cell_type": "markdown",
   "metadata": {},
   "source": [
    "<span style=\"color:blue\"> Determine o produto dos polinômios a seguir. </style>"
   ]
  },
  {
   "cell_type": "code",
   "execution_count": 33,
   "metadata": {},
   "outputs": [
    {
     "data": {
      "text/latex": [
       "$\\displaystyle \\left(x + 4\\right) \\left(8 x^{2} + 2\\right)$"
      ],
      "text/plain": [
       "(x + 4)*(8*x**2 + 2)"
      ]
     },
     "metadata": {},
     "output_type": "display_data"
    },
    {
     "data": {
      "text/latex": [
       "$\\displaystyle \\left(2 - 6 x\\right)^{3} \\left(x^{4} - 3 x - 7\\right)$"
      ],
      "text/plain": [
       "(2 - 6*x)**3*(x**4 - 3*x - 7)"
      ]
     },
     "metadata": {},
     "output_type": "display_data"
    },
    {
     "data": {
      "text/latex": [
       "$\\displaystyle \\left(8 x^{2} + 2\\right) \\left(x^{4} - 3 x - 7\\right)$"
      ],
      "text/plain": [
       "(8*x**2 + 2)*(x**4 - 3*x - 7)"
      ]
     },
     "metadata": {},
     "output_type": "display_data"
    },
    {
     "data": {
      "text/latex": [
       "$\\displaystyle \\left(2 - 6 x\\right)^{3} \\left(x + 4\\right) \\left(8 x^{2} + 2\\right)$"
      ],
      "text/plain": [
       "(2 - 6*x)**3*(x + 4)*(8*x**2 + 2)"
      ]
     },
     "metadata": {},
     "output_type": "display_data"
    }
   ],
   "source": [
    "x = symbols('x')\n",
    "_a = arange(-10,10)\n",
    "p1 = choice(_a)*x**2+choice(_a)*x+choice(_a)\n",
    "p2 = choice(_a)*x**2-choice(_a)\n",
    "p3 = (choice(_a)*x+choice(_a))**3\n",
    "p4 = x**4-choice(_a)*x+choice(_a)\n",
    "L = [p1*p2, p3*p4, p2*p4, p2*p1*p3]\n",
    "for l in L: display(l)"
   ]
  },
  {
   "attachments": {},
   "cell_type": "markdown",
   "metadata": {},
   "source": [
    "## 2"
   ]
  },
  {
   "attachments": {},
   "cell_type": "markdown",
   "metadata": {},
   "source": [
    "<span style=\"color:blue\"> Determine o resto e o quociente usando método de Descartes das divisões p/q a seguir:</span>"
   ]
  },
  {
   "cell_type": "code",
   "execution_count": 21,
   "metadata": {},
   "outputs": [
    {
     "data": {
      "text/latex": [
       "$\\displaystyle p(x) = 14 x^{2} - 16 x - 18,\\,q(x) = 18 x + 10$"
      ],
      "text/plain": [
       "<IPython.core.display.Math object>"
      ]
     },
     "metadata": {},
     "output_type": "display_data"
    },
    {
     "data": {
      "text/latex": [
       "$\\displaystyle p(x) = 3 x^{3} + 15 x - 13,\\,q(x) = 18 x + 10$"
      ],
      "text/plain": [
       "<IPython.core.display.Math object>"
      ]
     },
     "metadata": {},
     "output_type": "display_data"
    },
    {
     "data": {
      "text/latex": [
       "$\\displaystyle p(x) = 3 x^{3} + 15 x - 13,\\,q(x) = 14 x^{2} - 16 x - 18$"
      ],
      "text/plain": [
       "<IPython.core.display.Math object>"
      ]
     },
     "metadata": {},
     "output_type": "display_data"
    },
    {
     "data": {
      "text/latex": [
       "$\\displaystyle p(x) = - 20 x^{4} + 7 x^{2} - 14,\\,q(x) = 14 x^{2} - 16 x - 18$"
      ],
      "text/plain": [
       "<IPython.core.display.Math object>"
      ]
     },
     "metadata": {},
     "output_type": "display_data"
    }
   ],
   "source": [
    "_b = randint(-20,20,size=11)\n",
    "p2 = _b[0]*x**2+_b[1]*x+_b[2]\n",
    "p1 = _b[3]*x-_b[4]\n",
    "p3 = _b[5]*x**3+_b[6]*x+_b[7]\n",
    "p4 = _b[8]*x**4+_b[9]*x**2+_b[10]\n",
    "L = [(p2,p1), (p3,p1), (p3,p2), (p4,p2)]\n",
    "for l in L: \n",
    "    p = l[0]\n",
    "    q = l[1]\n",
    "    display(Math('p(x) = ' + latex(p) + r',\\,' + 'q(x) = ' + latex(q)))"
   ]
  },
  {
   "attachments": {},
   "cell_type": "markdown",
   "metadata": {},
   "source": [
    "## 3"
   ]
  },
  {
   "attachments": {},
   "cell_type": "markdown",
   "metadata": {},
   "source": [
    "\n",
    "<span style=\"color:blue\"> Determine o quociente e o resto da divisão p(x)/q(x) pelo método da chave </span>"
   ]
  },
  {
   "cell_type": "code",
   "execution_count": 35,
   "metadata": {},
   "outputs": [
    {
     "data": {
      "text/latex": [
       "$\\displaystyle p(x) = 11 x^{3} + 8,\\,q(x) = x^{2} + 5 x + 7$"
      ],
      "text/plain": [
       "<IPython.core.display.Math object>"
      ]
     },
     "metadata": {},
     "output_type": "display_data"
    },
    {
     "data": {
      "text/latex": [
       "$\\displaystyle p(x) = 7 x^{4} + 7 x^{3} + 16,\\,q(x) = x^{2} + 5 x + 7$"
      ],
      "text/plain": [
       "<IPython.core.display.Math object>"
      ]
     },
     "metadata": {},
     "output_type": "display_data"
    },
    {
     "data": {
      "text/latex": [
       "$\\displaystyle p(x) = - 4 x^{5} + 3 x^{2} - x,\\,q(x) = 7 x^{4} + 7 x^{3} + 16$"
      ],
      "text/plain": [
       "<IPython.core.display.Math object>"
      ]
     },
     "metadata": {},
     "output_type": "display_data"
    },
    {
     "data": {
      "text/latex": [
       "$\\displaystyle p(x) = - 4 x^{5} + 3 x^{2} - x,\\,q(x) = 11 x^{3} + 8$"
      ],
      "text/plain": [
       "<IPython.core.display.Math object>"
      ]
     },
     "metadata": {},
     "output_type": "display_data"
    }
   ],
   "source": [
    "_c = randint(-20,20,size=11)\n",
    "r5 = _c[0]*x**5+_c[1]*x**2+_c[2]*x\n",
    "r3 = _c[3]*x**3-_c[4]\n",
    "r4 = _c[5]*x**4+_c[6]*x**3+_c[7]*x**2+_c[8]\n",
    "r2 = x**2+_c[9]*x+_c[10]\n",
    "L = [(r3,r2), (r4,r2), (r5,r4), (r5,r3)]\n",
    "for l in L: \n",
    "    p = l[0]\n",
    "    q = l[1]\n",
    "    display(Math('p(x) = ' + latex(p) + r',\\,' + 'q(x) = ' + latex(q)))"
   ]
  },
  {
   "attachments": {},
   "cell_type": "markdown",
   "metadata": {},
   "source": [
    "## 4\n",
    "\n",
    "<span style=\"color:blue\"> Determine os parâmetros de modo que os polinômios sejam divisíveis </span>"
   ]
  },
  {
   "cell_type": "code",
   "execution_count": 103,
   "metadata": {},
   "outputs": [
    {
     "data": {
      "text/latex": [
       "$\\displaystyle \\frac{a x}{18} + \\frac{b}{18} + \\frac{x^{2}}{18} + \\frac{1}{27}$"
      ],
      "text/plain": [
       "a*x/18 + b/18 + x**2/18 + 1/27"
      ]
     },
     "metadata": {},
     "output_type": "display_data"
    },
    {
     "data": {
      "text/latex": [
       "$\\displaystyle \\frac{2 a x}{3} + \\frac{2 b}{3} - 2 x - \\frac{131}{9}$"
      ],
      "text/plain": [
       "2*a*x/3 + 2*b/3 - 2*x - 131/9"
      ]
     },
     "metadata": {},
     "output_type": "display_data"
    },
    {
     "data": {
      "text/latex": [
       "$\\displaystyle a x + b - 5 x^{2}$"
      ],
      "text/plain": [
       "a*x + b - 5*x**2"
      ]
     },
     "metadata": {},
     "output_type": "display_data"
    }
   ],
   "source": [
    "_d = randint(-20,20,size=11)\n",
    "_d = _d[_d!=0]\n",
    "a,b = symbols(['a','b'])\n",
    "g1 = _d[0]*x**2-_d[1]\n",
    "f1 = (_d[2]*x**2+a*x+b)\n",
    "g2 = _d[5]*x**2-_d[6]\n",
    "f2 = (x**3+a*x**2+b*x+_d[7])\n",
    "g3 = _d[5]*x**2-_d[6]\n",
    "f3 = (x**4+a*x**3+b*x**2+_d[7]*x+_d[8])\n",
    "from sympy import div, collect\n",
    "q,r = div(f3,g3)\n",
    "display(q)\n",
    "display(r)\n",
    "display(collect(f1.expand(),x))"
   ]
  }
 ],
 "metadata": {
  "kernelspec": {
   "display_name": "Python 3",
   "language": "python",
   "name": "python3"
  },
  "language_info": {
   "codemirror_mode": {
    "name": "ipython",
    "version": 3
   },
   "file_extension": ".py",
   "mimetype": "text/x-python",
   "name": "python",
   "nbconvert_exporter": "python",
   "pygments_lexer": "ipython3",
   "version": "3.11.1"
  },
  "orig_nbformat": 4
 },
 "nbformat": 4,
 "nbformat_minor": 2
}
