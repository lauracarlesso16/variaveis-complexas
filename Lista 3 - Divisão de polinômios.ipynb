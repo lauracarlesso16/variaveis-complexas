{
 "cells": [
  {
   "attachments": {},
   "cell_type": "markdown",
   "metadata": {},
   "source": [
    "## Lista 3 de variáveis complexas"
   ]
  },
  {
   "attachments": {},
   "cell_type": "markdown",
   "metadata": {},
   "source": [
    "<span style=\"color:blue\"> Entre com a data e seu número de matrícula abaixo. **Não tire as aspas!\"** </span>"
   ]
  },
  {
   "cell_type": "code",
   "execution_count": 22,
   "metadata": {},
   "outputs": [],
   "source": [
    "mat = '202233940019'\n",
    "dia = '17'\n",
    "mes = '06'"
   ]
  },
  {
   "attachments": {},
   "cell_type": "markdown",
   "metadata": {},
   "source": [
    "**Orientações - Leia com atenção!**\n",
    "1. Execute o notebook inteiro com os seus dados para gerar as questões. \n",
    " \n",
    "2. Resolva todas as questões, registrando os principais passos da solução\n",
    "3. Em cada questão introduza intencionalmente um erro na solução de **um e apenas um** item.\n",
    "4. Faça um manuscrito com as suas soluções. **Não esqueça de anotar no manuscrito o seu nome, sua matrícula e a data que você usou para gerar as questões.**\n",
    "5. Apresente as questões no manuscrito na **ordem correta** e deixe clara a **resposta final**. Quando necessário, use apenas 2 casas decimais. \n",
    "6. Escolha um colega para trocar manuscritos: você corrigirá as questões dele e ele as suas. \n",
    "7. Ao corrigir, observe apenas a resposta final, indicando apenas se está correta ou não. Caso não esteja, **circule o passo da resolução que justifica o erro**. \n",
    "8. Ao corrigir o trabalho, identifique-se no manuscrito do seu colega escrevendo: \"Corrigido por:\" e adicionando seu nome.\n",
    "9. Ao final, calcule a nota do seu colega como (arredondar para cima):\n",
    "$$\n",
    "\\text{Nota} = 100 \\times \\frac{\\text{Total de itens certos}}{\\text{Total de itens}-4}\n",
    "$$\n",
    "10. Ao terminar as correções, devolva ao seu colega o manuscrito e recupere o seu. "
   ]
  },
  {
   "cell_type": "code",
   "execution_count": 23,
   "metadata": {},
   "outputs": [],
   "source": [
    "#\n",
    "# NÃO MEXA NESTA CÉLULA!!! DESCONFIGURÁ-LA PODE INVALIDAR SEU TRABALHO\n",
    "from IPython.display import display, Math\n",
    "from sympy import I, sqrt, symbols, latex, Eq, fraction\n",
    "from numpy.random import RandomState, randint, choice\n",
    "from numpy import arange\n",
    "import numpy as np\n",
    "import sympy as sp\n",
    "\n",
    "_nn = int(mat[0:4]+mat[-2:]+dia+mes)\n",
    "_rng = RandomState(_nn)\n",
    "_M = _rng.randint(-9,10,size=(500,))\n",
    "_M = _M[_M!=0]\n",
    "\n",
    "global nm\n",
    "nm= 0\n",
    "\n",
    "def pick():\n",
    "    global nm\n",
    "    nm +=1\n",
    "    return _M[nm]\n",
    "\n",
    "x,a,b,c = symbols(\"x a b c\")\n",
    "t = {1:a*x+b, \n",
    "     (2,1):a*x**2+b*x+c, (2,2):(a*x+b)**2, (2,3):x**2-a**2,\n",
    "     (3,1):(a*x+b)**3, (3,2):a*x**3+b*x+c, (3,3):x**3-a**3, (3,4):a*x**3+b*x**2+c, (3,5):x**3+a*x**2+b*x+c,\n",
    "     (4,1):a*x**4+b*x**2+c, (4,2):a*x**4+b*x**3+c*x, (4,3): x**4+a*x**2,\n",
    "     (4,4): x**4+a*x+b}\n",
    "def gen(i,A=0,B=0,C=0):\n",
    "    if A==0: A = pick()\n",
    "    if B==0: B = pick()\n",
    "    if C==0: C = pick()\n",
    "    return t[i].subs([(a,A), (b,B), (c,C)])\n",
    "\n",
    "from itertools import product\n",
    "\n",
    "def Q1():\n",
    "    i1 = [1,(2,1),(2,2)]\n",
    "    i2 = [1,(4,1),(4,3)]\n",
    "    global nm\n",
    "    nm = 0\n",
    "    U = [(gen(i)*gen(j)) for i,j in product(i1,i2) ]\n",
    "    for u in U: display(u)\n",
    "\n",
    "def Q2():\n",
    "    _L1 = [[(3,2),(2,1)],[(4,1),(2,1)]]\n",
    "    global nm\n",
    "    nm = 10\n",
    "    for l in _L1:     \n",
    "        p = gen(l[0])\n",
    "        q = gen(l[1])\n",
    "        display(Math('p(x) = ' + latex(p) + r',\\,' + 'q(x) = ' + latex(q)))\n",
    "\n",
    "def Q3():\n",
    "    global nm\n",
    "    nm = 50\n",
    "    _L2 = [[(3,2),1],[(3,2),(2,1)],[(3,2),(2,3)],[(4,1),1],[(4,2),(3,4)]]\n",
    "    for l in _L2: \n",
    "        p = gen(l[0])\n",
    "        q = gen(l[1])\n",
    "        display(Math('p(x) = ' + latex(p) + r',\\quad ' + 'q(x) = ' + latex(q)))\n",
    "\n",
    "def Q4():\n",
    "    global nm\n",
    "    nm = 100\n",
    "    L3 = [[(2,1),1,[a]], [(3,2),1,[a]], [(3,5),(2,1),[0,a,b]], [(4,1),(2,2),[a,b]]]\n",
    "    for l in L3:\n",
    "        f = (gen(l[0],*l[2]))\n",
    "        g = (gen(l[1]))\n",
    "        display(Math('f(x) = ' + latex(f) + r',\\quad g(x) = ' + latex(g)))\n"
   ]
  },
  {
   "attachments": {},
   "cell_type": "markdown",
   "metadata": {},
   "source": [
    "## 1"
   ]
  },
  {
   "attachments": {},
   "cell_type": "markdown",
   "metadata": {},
   "source": [
    "<span style=\"color:blue\"> Determine o produto dos polinômios a seguir. </style>"
   ]
  },
  {
   "cell_type": "code",
   "execution_count": 28,
   "metadata": {},
   "outputs": [
    {
     "data": {
      "text/latex": [
       "$\\displaystyle \\left(- 4 x - 2\\right) \\left(- 2 x - 8\\right)$"
      ],
      "text/plain": [
       "(-4*x - 2)*(-2*x - 8)"
      ]
     },
     "metadata": {},
     "output_type": "display_data"
    },
    {
     "data": {
      "text/latex": [
       "$\\displaystyle \\left(9 - 4 x\\right) \\left(- 6 x^{4} - 3 x^{2} + 6\\right)$"
      ],
      "text/plain": [
       "(9 - 4*x)*(-6*x**4 - 3*x**2 + 6)"
      ]
     },
     "metadata": {},
     "output_type": "display_data"
    },
    {
     "data": {
      "text/latex": [
       "$\\displaystyle \\left(3 x + 6\\right) \\left(x^{4} + x^{2}\\right)$"
      ],
      "text/plain": [
       "(3*x + 6)*(x**4 + x**2)"
      ]
     },
     "metadata": {},
     "output_type": "display_data"
    },
    {
     "data": {
      "text/latex": [
       "$\\displaystyle \\left(5 - 4 x\\right) \\left(- 9 x^{2} + 6 x + 1\\right)$"
      ],
      "text/plain": [
       "(5 - 4*x)*(-9*x**2 + 6*x + 1)"
      ]
     },
     "metadata": {},
     "output_type": "display_data"
    },
    {
     "data": {
      "text/latex": [
       "$\\displaystyle \\left(9 x^{2} - 5 x - 1\\right) \\left(- 6 x^{4} - 4 x^{2} - 3\\right)$"
      ],
      "text/plain": [
       "(9*x**2 - 5*x - 1)*(-6*x**4 - 4*x**2 - 3)"
      ]
     },
     "metadata": {},
     "output_type": "display_data"
    },
    {
     "data": {
      "text/latex": [
       "$\\displaystyle \\left(x^{4} - 8 x^{2}\\right) \\left(x^{2} - 5 x - 8\\right)$"
      ],
      "text/plain": [
       "(x**4 - 8*x**2)*(x**2 - 5*x - 8)"
      ]
     },
     "metadata": {},
     "output_type": "display_data"
    },
    {
     "data": {
      "text/latex": [
       "$\\displaystyle \\left(5 x - 5\\right) \\left(9 x + 4\\right)^{2}$"
      ],
      "text/plain": [
       "(5*x - 5)*(9*x + 4)**2"
      ]
     },
     "metadata": {},
     "output_type": "display_data"
    },
    {
     "data": {
      "text/latex": [
       "$\\displaystyle \\left(8 x - 8\\right)^{2} \\cdot \\left(2 x^{4} - 4 x^{2} + 9\\right)$"
      ],
      "text/plain": [
       "(8*x - 8)**2*(2*x**4 - 4*x**2 + 9)"
      ]
     },
     "metadata": {},
     "output_type": "display_data"
    },
    {
     "data": {
      "text/latex": [
       "$\\displaystyle \\left(4 - 7 x\\right)^{2} \\left(x^{4} - 9 x^{2}\\right)$"
      ],
      "text/plain": [
       "(4 - 7*x)**2*(x**4 - 9*x**2)"
      ]
     },
     "metadata": {},
     "output_type": "display_data"
    }
   ],
   "source": [
    "Q1()"
   ]
  },
  {
   "attachments": {},
   "cell_type": "markdown",
   "metadata": {},
   "source": [
    "## 2"
   ]
  },
  {
   "attachments": {},
   "cell_type": "markdown",
   "metadata": {},
   "source": [
    "<span style=\"color:blue\"> Determine o resto e o quociente usando método de Descartes das divisões p/q a seguir:</span>"
   ]
  },
  {
   "cell_type": "code",
   "execution_count": 25,
   "metadata": {},
   "outputs": [
    {
     "data": {
      "text/latex": [
       "$\\displaystyle p(x) = - 3 x^{3} + 6 x + 3,\\,q(x) = 6 x^{2} - 3 x + 1$"
      ],
      "text/plain": [
       "<IPython.core.display.Math object>"
      ]
     },
     "metadata": {},
     "output_type": "display_data"
    },
    {
     "data": {
      "text/latex": [
       "$\\displaystyle p(x) = 4 x^{4} - 2 x^{2} - 9,\\,q(x) = 6 x^{2} + x - 4$"
      ],
      "text/plain": [
       "<IPython.core.display.Math object>"
      ]
     },
     "metadata": {},
     "output_type": "display_data"
    }
   ],
   "source": [
    "Q2()"
   ]
  },
  {
   "attachments": {},
   "cell_type": "markdown",
   "metadata": {},
   "source": [
    "## 3"
   ]
  },
  {
   "attachments": {},
   "cell_type": "markdown",
   "metadata": {},
   "source": [
    "\n",
    "<span style=\"color:blue\"> Determine o quociente e o resto da divisão p(x)/q(x) pelo método da chave </span>"
   ]
  },
  {
   "cell_type": "code",
   "execution_count": 26,
   "metadata": {},
   "outputs": [
    {
     "data": {
      "text/latex": [
       "$\\displaystyle p(x) = 4 x^{3} - 9 x - 5,\\quad q(x) = 5 - 3 x$"
      ],
      "text/plain": [
       "<IPython.core.display.Math object>"
      ]
     },
     "metadata": {},
     "output_type": "display_data"
    },
    {
     "data": {
      "text/latex": [
       "$\\displaystyle p(x) = 8 x^{3} - 4 x + 2,\\quad q(x) = - 5 x^{2} - 3 x + 9$"
      ],
      "text/plain": [
       "<IPython.core.display.Math object>"
      ]
     },
     "metadata": {},
     "output_type": "display_data"
    },
    {
     "data": {
      "text/latex": [
       "$\\displaystyle p(x) = x^{3} + 7 x - 6,\\quad q(x) = x^{2} - 81$"
      ],
      "text/plain": [
       "<IPython.core.display.Math object>"
      ]
     },
     "metadata": {},
     "output_type": "display_data"
    },
    {
     "data": {
      "text/latex": [
       "$\\displaystyle p(x) = 7 x^{4} + 2 x^{2} - 1,\\quad q(x) = 7 x + 8$"
      ],
      "text/plain": [
       "<IPython.core.display.Math object>"
      ]
     },
     "metadata": {},
     "output_type": "display_data"
    },
    {
     "data": {
      "text/latex": [
       "$\\displaystyle p(x) = - x^{4} - 7 x^{3} - 3 x,\\quad q(x) = 4 x^{3} - 9 x^{2} - 7$"
      ],
      "text/plain": [
       "<IPython.core.display.Math object>"
      ]
     },
     "metadata": {},
     "output_type": "display_data"
    }
   ],
   "source": [
    "Q3()"
   ]
  },
  {
   "attachments": {},
   "cell_type": "markdown",
   "metadata": {},
   "source": [
    "## 4\n",
    "\n",
    "<span style=\"color:blue\"> Determine os valores de <i>a</i> e <i>b</i> de modo que os polinômios <i>f</i> e <i>g</i> sejam divisíveis </span>"
   ]
  },
  {
   "cell_type": "code",
   "execution_count": 27,
   "metadata": {},
   "outputs": [
    {
     "data": {
      "text/latex": [
       "$\\displaystyle f(x) = a x^{2} + 9 x + 1,\\quad g(x) = - 4 x - 2$"
      ],
      "text/plain": [
       "<IPython.core.display.Math object>"
      ]
     },
     "metadata": {},
     "output_type": "display_data"
    },
    {
     "data": {
      "text/latex": [
       "$\\displaystyle f(x) = a x^{3} - 8 x + 6,\\quad g(x) = 2 x + 4$"
      ],
      "text/plain": [
       "<IPython.core.display.Math object>"
      ]
     },
     "metadata": {},
     "output_type": "display_data"
    },
    {
     "data": {
      "text/latex": [
       "$\\displaystyle f(x) = a x + b + x^{3} - x^{2},\\quad g(x) = - 4 x^{2} + 7 x + 3$"
      ],
      "text/plain": [
       "<IPython.core.display.Math object>"
      ]
     },
     "metadata": {},
     "output_type": "display_data"
    },
    {
     "data": {
      "text/latex": [
       "$\\displaystyle f(x) = a x^{4} + b x^{2} + 4,\\quad g(x) = \\left(8 x + 9\\right)^{2}$"
      ],
      "text/plain": [
       "<IPython.core.display.Math object>"
      ]
     },
     "metadata": {},
     "output_type": "display_data"
    }
   ],
   "source": [
    "Q4()"
   ]
  }
 ],
 "metadata": {
  "kernelspec": {
   "display_name": "Python 3",
   "language": "python",
   "name": "python3"
  },
  "language_info": {
   "codemirror_mode": {
    "name": "ipython",
    "version": 3
   },
   "file_extension": ".py",
   "mimetype": "text/x-python",
   "name": "python",
   "nbconvert_exporter": "python",
   "pygments_lexer": "ipython3",
   "version": "3.11.1"
  },
  "orig_nbformat": 4
 },
 "nbformat": 4,
 "nbformat_minor": 2
}
